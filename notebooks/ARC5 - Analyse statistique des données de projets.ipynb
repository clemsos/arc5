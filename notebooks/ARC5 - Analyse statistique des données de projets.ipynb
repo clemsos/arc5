{
 "cells": [
  {
   "cell_type": "markdown",
   "metadata": {},
   "source": [
    "# ARC5 - Résultats \n",
    "\n",
    "Dans ce document, nous réalisons l'analyse statistique des données issus de l'activité de l'ARC5 et des Cluster 13 et 14. L'objectif est de comprendre comment les données recueillies permettent d'éclairer différents axes sur la nature des partenariats et du réseau entretenus par l'ARC5 au cours de ces activités entre 2009 et 2016.\n",
    "\n",
    "Afin de rendre plus claire notre démarche nous structurons les graphes sous forme de questions / réponses. La question est le titre du graphe et correspond à un angle précis d'interrogation liés aux données disponibles utilisées ici."
   ]
  },
  {
   "cell_type": "markdown",
   "metadata": {},
   "source": [
    "Les quelques fonctions ci-dessous sont utilisés pour l'affichage et le pré-traitement des données."
   ]
  },
  {
   "cell_type": "code",
   "execution_count": 134,
   "metadata": {
    "collapsed": false
   },
   "outputs": [],
   "source": [
    "#!/usr/bin/env python\n",
    "# -*- coding: utf-8 -*-\n",
    "\n",
    "%matplotlib inline\n",
    "import seaborn as sns\n",
    "\n",
    "import os\n",
    "import csv\n",
    "import json\n",
    "import networkx as nx\n",
    "from collections import Counter\n",
    "import dateutil.parser as parser\n",
    "from slugify import slugify\n",
    "\n",
    "from IPython.display import display, Markdown, Latex\n",
    "from matplotlib.pyplot import pie, axis, show\n",
    "\n",
    "def show_table( title, array):\n",
    "    md_table = \"\"\n",
    "    display(Markdown(title))\n",
    "    md_table += \"| | Nom | Quantité |\\n\"\n",
    "    md_table += \"| --- | --- | --- |\\n\"\n",
    "    for i,c in enumerate(Counter(array).most_common()):\n",
    "        md_table +=\"| %s | %s | %s | \\n\"%(i,c[0], c[1])\n",
    "    display(Markdown(md_table))\n",
    "\n",
    "def moyenne(tableau):\n",
    "    \"\"\"Calculer une moyenne d'après un tableau\"\"\"\n",
    "    return sum(tableau, 0.0) / len(tableau)\n",
    "\n",
    "def count_plot(list_to_count, title=None, xlabel=None, ylabel=\"Count\", order=None):\n",
    "    \n",
    "    g = sns.countplot(list_to_count, palette=\"Set2\", order=order)\n",
    "\n",
    "    # remove the top and right line in graph\n",
    "    sns.despine()\n",
    "\n",
    "    # size\n",
    "    g.figure.set_size_inches(7, 6)\n",
    "\n",
    "    # axes \n",
    "    g.set_xlabel(xlabel.decode('utf-8'),size = 16,  alpha=0.5)\n",
    "    g.set_ylabel(ylabel.decode('utf-8'),size = 16,  alpha=0.5)\n",
    "\n",
    "    # title\n",
    "    g.axes.set_title(title.decode('utf-8'), \n",
    "        fontsize=18, color=\"b\",alpha=0.3, x=0.5, y=1.1)\n",
    "    \n",
    "    # show\n",
    "    sns.plt.show()\n",
    "    \n",
    "    return g"
   ]
  },
  {
   "cell_type": "code",
   "execution_count": 135,
   "metadata": {
    "collapsed": false
   },
   "outputs": [],
   "source": [
    "# charger toutes les infos\n",
    "\n",
    "infos = {}\n",
    "fichier_nodes = \"../final/ARC5-Final - Noms (tous).csv\"\n",
    "\n",
    "with open( fichier_nodes, \"r\") as f :\n",
    "    reader = csv.DictReader(f)\n",
    "    for line in reader :\n",
    "        \n",
    "        info = {\n",
    "            \"nom\" : line[\"Nom\"], \n",
    "            \"type\" : line[\"Type\"], \n",
    "            \"start\" : int(line[\"Début\"]),            \n",
    "            \"end\" : int(line[\"Fin\"]),\n",
    "            \"ville\" :  line[\"Ville\"],\n",
    "            \"lien\" :  line[\"Lien\"]\n",
    "        }\n",
    "        \n",
    "        slug = \"%s-%s\"%(slugify( line[\"Nom\"].decode('utf-8')), line[\"Type\"].decode('utf-8'))\n",
    "        \n",
    "        infos [slug] = info"
   ]
  },
  {
   "cell_type": "markdown",
   "metadata": {},
   "source": [
    "# Importer le graphe des partenaires\n",
    "\n",
    "D'abord nous importons les données de graphe calculées précédemment."
   ]
  },
  {
   "cell_type": "code",
   "execution_count": 136,
   "metadata": {
    "collapsed": false
   },
   "outputs": [
    {
     "data": {
      "text/markdown": [
       "## Graphes avec les projets "
      ],
      "text/plain": [
       "<IPython.core.display.Markdown object>"
      ]
     },
     "metadata": {},
     "output_type": "display_data"
    },
    {
     "name": "stdout",
     "output_type": "stream",
     "text": [
      "400 nodes\n",
      "560 edges\n"
     ]
    },
    {
     "data": {
      "text/markdown": [
       "## Type des partenaires"
      ],
      "text/plain": [
       "<IPython.core.display.Markdown object>"
      ]
     },
     "metadata": {},
     "output_type": "display_data"
    },
    {
     "data": {
      "text/markdown": [
       "| | Nom | Quantité |\n",
       "| --- | --- | --- |\n",
       "| 0 | ADR | 65 | \n",
       "| 1 | laboratoire | 62 | \n",
       "| 2 | projet | 55 | \n",
       "| 3 | médiation | 52 | \n",
       "| 4 | patrimoine | 45 | \n",
       "| 5 | création | 37 | \n",
       "| 6 | localité | 36 | \n",
       "| 7 | etablissement | 14 | \n",
       "| 8 | enseignement | 11 | \n",
       "| 9 | ecole-doctorale | 10 | \n",
       "| 10 | économique | 6 | \n",
       "| 11 | cst | 6 | \n",
       "| 12 | postdoc | 1 | \n"
      ],
      "text/plain": [
       "<IPython.core.display.Markdown object>"
      ]
     },
     "metadata": {},
     "output_type": "display_data"
    },
    {
     "data": {
      "text/markdown": [
       "## Graphes sans les projets "
      ],
      "text/plain": [
       "<IPython.core.display.Markdown object>"
      ]
     },
     "metadata": {},
     "output_type": "display_data"
    },
    {
     "name": "stdout",
     "output_type": "stream",
     "text": [
      "279 nodes\n",
      "1021 edges\n"
     ]
    },
    {
     "data": {
      "text/markdown": [
       "## Type des partenaires"
      ],
      "text/plain": [
       "<IPython.core.display.Markdown object>"
      ]
     },
     "metadata": {},
     "output_type": "display_data"
    },
    {
     "data": {
      "text/markdown": [
       "| | Nom | Quantité |\n",
       "| --- | --- | --- |\n",
       "| 0 | laboratoire | 62 | \n",
       "| 1 | médiation | 52 | \n",
       "| 2 | patrimoine | 45 | \n",
       "| 3 | création | 37 | \n",
       "| 4 | localité | 36 | \n",
       "| 5 | etablissement | 14 | \n",
       "| 6 | enseignement | 11 | \n",
       "| 7 | ecole-doctorale | 10 | \n",
       "| 8 | économique | 6 | \n",
       "| 9 | cst | 6 | \n"
      ],
      "text/plain": [
       "<IPython.core.display.Markdown object>"
      ]
     },
     "metadata": {},
     "output_type": "display_data"
    }
   ],
   "source": [
    "# load grap with everything inside\n",
    "from networkx.readwrite import read_gpickle\n",
    "\n",
    "# with projects\n",
    "display(Markdown(\"## Graphes avec les projets \"))\n",
    "\n",
    "G_with_projects = read_gpickle('../final/ARC5-nx-with-projects.pickle')\n",
    "print \"%s nodes\"%len(G_with_projects.nodes())\n",
    "print \"%s edges\"%len(G_with_projects.edges())\n",
    "\n",
    "show_table( \"## Type des partenaires\", [ n[1][\"type\"] for n in G_with_projects.nodes(data=True) ])\n",
    "\n",
    "# without projects\n",
    "display(Markdown(\"## Graphes sans les projets \"))\n",
    "\n",
    "G_without_projects = read_gpickle('../final/ARC5-nx-without-projects.pickle')\n",
    "print \"%s nodes\"%len(G_without_projects.nodes())\n",
    "print \"%s edges\"%len(G_without_projects.edges())\n",
    "\n",
    "show_table( \"## Type des partenaires\", [ n[1][\"type\"] for n in G_without_projects.nodes(data=True) ])\n"
   ]
  },
  {
   "cell_type": "markdown",
   "metadata": {},
   "source": [
    "## Les Allocations Doctorales de Recherche (ADR)\n",
    "\n",
    "Dans un premier temps, nous allons nous attacher à étudier différents aspects des financement attribués au ADRs (travaux de thèses)."
   ]
  },
  {
   "cell_type": "code",
   "execution_count": 137,
   "metadata": {
    "collapsed": false
   },
   "outputs": [
    {
     "data": {
      "text/markdown": [
       "### Liste des Thèses (d'après le graphe)"
      ],
      "text/plain": [
       "<IPython.core.display.Markdown object>"
      ]
     },
     "metadata": {},
     "output_type": "display_data"
    },
    {
     "name": "stdout",
     "output_type": "stream",
     "text": [
      "57 thèses\n"
     ]
    },
    {
     "data": {
      "text/markdown": [
       "**Les critères d'évaluation des productions urbaines : Une socio-anthropologie de la création dans les arts de la rue** \n",
       "\n",
       "* total liens : 10 \n",
       "* type de liens  : Counter({'m\\xc3\\xa9diation': 4, 'laboratoire': 2, 'ADR': 1, 'etablissement': 1, 'projet': 1, 'ecole-doctorale': 1}) \n",
       "* nombre de labos partenaires : 2\n",
       "* nombre total de partenaires (hors labo et etablissements) : 4\n",
       "* nombre total d'etablissements (hors labo) : 1\n",
       "* villes impliquées : 0 \n",
       "\n",
       "---------------\n",
       "**Pratiques et représentations féminines de la lecture (1830-1848)** \n",
       "\n",
       "* total liens : 3 \n",
       "* type de liens  : Counter({'ecole-doctorale': 1, 'etablissement': 1, 'laboratoire': 1}) \n",
       "* nombre de labos partenaires : 1\n",
       "* nombre total de partenaires (hors labo et etablissements) : 0\n",
       "* nombre total d'etablissements (hors labo) : 1\n",
       "* villes impliquées : 0 \n",
       "\n",
       "---------------\n",
       "**Le Journal de Lyon de Léonard Michon, notable lyonnais (1675-1746). Édition numérique critique** \n",
       "\n",
       "* total liens : 4 \n",
       "* type de liens  : Counter({'laboratoire': 1, 'etablissement': 1, 'patrimoine': 1, 'ecole-doctorale': 1}) \n",
       "* nombre de labos partenaires : 1\n",
       "* nombre total de partenaires (hors labo et etablissements) : 1\n",
       "* nombre total d'etablissements (hors labo) : 1\n",
       "* villes impliquées : 0 \n",
       "\n",
       "---------------\n",
       "**Appropriation et traitement cognitif de représentations externes émergentes : paradoxe représentationnel et prise en compte de la spécificité du domaine d'application** \n",
       "\n",
       "* total liens : 3 \n",
       "* type de liens  : Counter({'ecole-doctorale': 1, 'etablissement': 1, 'laboratoire': 1}) \n",
       "* nombre de labos partenaires : 1\n",
       "* nombre total de partenaires (hors labo et etablissements) : 0\n",
       "* nombre total d'etablissements (hors labo) : 1\n",
       "* villes impliquées : 0 \n",
       "\n",
       "---------------\n",
       "**Républicanisme et économie : peut-il y avoir une économie politique républicaine ? Une approche pluridisciplinaire.** \n",
       "\n",
       "* total liens : 2 \n",
       "* type de liens  : Counter({'laboratoire': 1, 'etablissement': 1}) \n",
       "* nombre de labos partenaires : 1\n",
       "* nombre total de partenaires (hors labo et etablissements) : 0\n",
       "* nombre total d'etablissements (hors labo) : 1\n",
       "* villes impliquées : 0 \n",
       "\n",
       "---------------\n",
       "**Une approche générique pour la construction d'éditions critiques électroniques de corpus documentaires multistructurés.** \n",
       "\n",
       "* total liens : 3 \n",
       "* type de liens  : Counter({'laboratoire': 1, 'etablissement': 1, 'ecole-doctorale': 1}) \n",
       "* nombre de labos partenaires : 1\n",
       "* nombre total de partenaires (hors labo et etablissements) : 0\n",
       "* nombre total d'etablissements (hors labo) : 1\n",
       "* villes impliquées : 0 \n",
       "\n",
       "---------------\n",
       "**Enjeux intellectuels et sociaux d une controverse en histoire des sciences et/ou en histoire de la philosophie (fin XVIe siècle - début XVIIIe siècle)** \n",
       "\n",
       "* total liens : 5 \n",
       "* type de liens  : Counter({'laboratoire': 2, 'projet': 1, 'etablissement': 1, 'ecole-doctorale': 1}) \n",
       "* nombre de labos partenaires : 2\n",
       "* nombre total de partenaires (hors labo et etablissements) : 0\n",
       "* nombre total d'etablissements (hors labo) : 1\n",
       "* villes impliquées : 0 \n",
       "\n",
       "---------------\n",
       "**Sciences, croyances et laïcité : quelles pratiques éducatives et culturelles face à l’existence de représentations créationnistes ? Implications pour une formation réflexive des médiateurs de sciences.** \n",
       "\n",
       "* total liens : 6 \n",
       "* type de liens  : Counter({'laboratoire': 1, 'enseignement': 1, 'etablissement': 1, 'ecole-doctorale': 1, 'cst': 1, 'm\\xc3\\xa9diation': 1}) \n",
       "* nombre de labos partenaires : 1\n",
       "* nombre total de partenaires (hors labo et etablissements) : 3\n",
       "* nombre total d'etablissements (hors labo) : 1\n",
       "* villes impliquées : 0 \n",
       "\n",
       "---------------\n",
       "**La médiatisation des techniques financières en France et en Grande-Bretagne depuis 1987** \n",
       "\n",
       "* total liens : 3 \n",
       "* type de liens  : Counter({'ecole-doctorale': 1, 'etablissement': 1, 'laboratoire': 1}) \n",
       "* nombre de labos partenaires : 1\n",
       "* nombre total de partenaires (hors labo et etablissements) : 0\n",
       "* nombre total d'etablissements (hors labo) : 1\n",
       "* villes impliquées : 0 \n",
       "\n",
       "---------------\n",
       "**Images iconiques et images virtuelles dans la patrimonialisation des régions post-industrielles : le cas des agglomérations de Saint Etienne et de Cardiff** \n",
       "\n",
       "* total liens : 5 \n",
       "* type de liens  : Counter({'ADR': 1, 'laboratoire': 1, 'etablissement': 1, 'patrimoine': 1, 'ecole-doctorale': 1}) \n",
       "* nombre de labos partenaires : 1\n",
       "* nombre total de partenaires (hors labo et etablissements) : 1\n",
       "* nombre total d'etablissements (hors labo) : 1\n",
       "* villes impliquées : 0 \n",
       "\n",
       "---------------\n",
       "**Analyse des représentations, attitudes et positionnements de publics jeunes à l’égard des sciences et techniques appréhendés via la mise en récit.** \n",
       "\n",
       "* total liens : 4 \n",
       "* type de liens  : Counter({'laboratoire': 1, 'etablissement': 1, 'ecole-doctorale': 1, 'cst': 1}) \n",
       "* nombre de labos partenaires : 1\n",
       "* nombre total de partenaires (hors labo et etablissements) : 1\n",
       "* nombre total d'etablissements (hors labo) : 1\n",
       "* villes impliquées : 0 \n",
       "\n",
       "---------------\n",
       "**Mémoires et identités urbaines : le patrimoine industriel entre oubli et valorisation** \n",
       "\n",
       "* total liens : 6 \n",
       "* type de liens  : Counter({'patrimoine': 3, 'ecole-doctorale': 1, 'etablissement': 1, 'laboratoire': 1}) \n",
       "* nombre de labos partenaires : 1\n",
       "* nombre total de partenaires (hors labo et etablissements) : 3\n",
       "* nombre total d'etablissements (hors labo) : 1\n",
       "* villes impliquées : 0 \n",
       "\n",
       "---------------\n",
       "**Continuités et renouvellements de l’engagement féministe : cas du Planning familial en Rhône-Alpes** \n",
       "\n",
       "* total liens : 5 \n",
       "* type de liens  : Counter({'ecole-doctorale': 1, 'etablissement': 1, 'ADR': 1, 'm\\xc3\\xa9diation': 1, 'laboratoire': 1}) \n",
       "* nombre de labos partenaires : 1\n",
       "* nombre total de partenaires (hors labo et etablissements) : 1\n",
       "* nombre total d'etablissements (hors labo) : 1\n",
       "* villes impliquées : 0 \n",
       "\n",
       "---------------\n",
       "**Paléographie musicale assistée  : instrumentation numérique pour l'analyse et l’édition de partitions musicales manuscrites inédites** \n",
       "\n",
       "* total liens : 5 \n",
       "* type de liens  : Counter({'laboratoire': 1, 'enseignement': 1, 'etablissement': 1, 'm\\xc3\\xa9diation': 1, 'ecole-doctorale': 1}) \n",
       "* nombre de labos partenaires : 1\n",
       "* nombre total de partenaires (hors labo et etablissements) : 2\n",
       "* nombre total d'etablissements (hors labo) : 1\n",
       "* villes impliquées : 0 \n",
       "\n",
       "---------------\n",
       "**Les réfugiés huguenots du Dauphiné** \n",
       "\n",
       "* total liens : 5 \n",
       "* type de liens  : Counter({'laboratoire': 1, 'cr\\xc3\\xa9ation': 1, 'patrimoine': 1, 'etablissement': 1, 'ecole-doctorale': 1}) \n",
       "* nombre de labos partenaires : 1\n",
       "* nombre total de partenaires (hors labo et etablissements) : 2\n",
       "* nombre total d'etablissements (hors labo) : 1\n",
       "* villes impliquées : 0 \n",
       "\n",
       "---------------\n",
       "**Evaluation des acquisitions des élèves dans les démarches d'investigation : Jeux entre évaluations formatives et autorégulation des apprentissages.** \n",
       "\n",
       "* total liens : 4 \n",
       "* type de liens  : Counter({'ecole-doctorale': 1, 'etablissement': 1, 'm\\xc3\\xa9diation': 1, 'laboratoire': 1}) \n",
       "* nombre de labos partenaires : 1\n",
       "* nombre total de partenaires (hors labo et etablissements) : 1\n",
       "* nombre total d'etablissements (hors labo) : 1\n",
       "* villes impliquées : 0 \n",
       "\n",
       "---------------\n",
       "**Documenter la danse: les gestes performatifs et numériques** \n",
       "\n",
       "* total liens : 10 \n",
       "* type de liens  : Counter({'cr\\xc3\\xa9ation': 4, 'm\\xc3\\xa9diation': 2, 'laboratoire': 1, 'enseignement': 1, 'etablissement': 1, 'ecole-doctorale': 1}) \n",
       "* nombre de labos partenaires : 1\n",
       "* nombre total de partenaires (hors labo et etablissements) : 7\n",
       "* nombre total d'etablissements (hors labo) : 1\n",
       "* villes impliquées : 0 \n",
       "\n",
       "---------------\n",
       "**Félix Thiollier et le livre** \n",
       "\n",
       "* total liens : 12 \n",
       "* type de liens  : Counter({'patrimoine': 5, 'laboratoire': 2, 'ADR': 1, 'etablissement': 1, 'projet': 1, 'ecole-doctorale': 1, 'm\\xc3\\xa9diation': 1}) \n",
       "* nombre de labos partenaires : 2\n",
       "* nombre total de partenaires (hors labo et etablissements) : 6\n",
       "* nombre total d'etablissements (hors labo) : 1\n",
       "* villes impliquées : 0 \n",
       "\n",
       "---------------\n",
       "**Le passage au numérique des médias locaux entre mutations médiatiques et mutations territoriales : du bouleversement des pratiques professionnelles à la reconfiguration des identités locales** \n",
       "\n",
       "* total liens : 4 \n",
       "* type de liens  : Counter({'ecole-doctorale': 1, 'etablissement': 1, 'm\\xc3\\xa9diation': 1, 'laboratoire': 1}) \n",
       "* nombre de labos partenaires : 1\n",
       "* nombre total de partenaires (hors labo et etablissements) : 1\n",
       "* nombre total d'etablissements (hors labo) : 1\n",
       "* villes impliquées : 0 \n",
       "\n",
       "---------------\n",
       "**Réflexion sémantique et esthétique autour des usages cartographiques. XVII-XXIe. Pratiques culturelles croisées.** \n",
       "\n",
       "* total liens : 6 \n",
       "* type de liens  : Counter({'laboratoire': 2, 'patrimoine': 1, 'etablissement': 1, 'ADR': 1, 'ecole-doctorale': 1}) \n",
       "* nombre de labos partenaires : 2\n",
       "* nombre total de partenaires (hors labo et etablissements) : 1\n",
       "* nombre total d'etablissements (hors labo) : 1\n",
       "* villes impliquées : 0 \n",
       "\n",
       "---------------\n",
       "**Vertus et faiblesses du crowd-sourcing : Évaluation qualitative et quantitative de la transcription de fonds patrimoniaux** \n",
       "\n",
       "* total liens : 7 \n",
       "* type de liens  : Counter({'projet': 2, 'laboratoire': 2, 'etablissement': 1, 'patrimoine': 1, 'ecole-doctorale': 1}) \n",
       "* nombre de labos partenaires : 2\n",
       "* nombre total de partenaires (hors labo et etablissements) : 1\n",
       "* nombre total d'etablissements (hors labo) : 1\n",
       "* villes impliquées : 0 \n",
       "\n",
       "---------------\n",
       "**Initiation scientifique en CP et en CE1 et apprentissages langagiers : quelles pratiques efficaces pour les élèves provenant de milieux défavorisés ?** \n",
       "\n",
       "* total liens : 4 \n",
       "* type de liens  : Counter({'laboratoire': 1, 'enseignement': 1, 'etablissement': 1, 'ecole-doctorale': 1}) \n",
       "* nombre de labos partenaires : 1\n",
       "* nombre total de partenaires (hors labo et etablissements) : 1\n",
       "* nombre total d'etablissements (hors labo) : 1\n",
       "* villes impliquées : 0 \n",
       "\n",
       "---------------\n",
       "**Méthodes d’aide à la navigation, la lecture et l’exploitation des images des correspondances manuscrites dans l’Europe du 18ème siècle** \n",
       "\n",
       "* total liens : 4 \n",
       "* type de liens  : Counter({'laboratoire': 1, 'etablissement': 1, 'm\\xc3\\xa9diation': 1, 'ecole-doctorale': 1}) \n",
       "* nombre de labos partenaires : 1\n",
       "* nombre total de partenaires (hors labo et etablissements) : 1\n",
       "* nombre total d'etablissements (hors labo) : 1\n",
       "* villes impliquées : 0 \n",
       "\n",
       "---------------\n",
       "**Enceintes tardives, communautés politiques et restructuration territoriale en rive gauche du Rhône : IIIe-Ve siècle de notre ère** \n",
       "\n",
       "* total liens : 3 \n",
       "* type de liens  : Counter({'ecole-doctorale': 1, 'etablissement': 1, 'laboratoire': 1}) \n",
       "* nombre de labos partenaires : 1\n",
       "* nombre total de partenaires (hors labo et etablissements) : 0\n",
       "* nombre total d'etablissements (hors labo) : 1\n",
       "* villes impliquées : 0 \n",
       "\n",
       "---------------\n",
       "**Arts et technologies de l’attention dans les machines à spectacles** \n",
       "\n",
       "* total liens : 7 \n",
       "* type de liens  : Counter({'laboratoire': 2, 'cr\\xc3\\xa9ation': 2, 'projet': 1, 'etablissement': 1, 'ecole-doctorale': 1}) \n",
       "* nombre de labos partenaires : 2\n",
       "* nombre total de partenaires (hors labo et etablissements) : 2\n",
       "* nombre total d'etablissements (hors labo) : 1\n",
       "* villes impliquées : 0 \n",
       "\n",
       "---------------\n",
       "**Edition nativement numérique des œuvres hagiographiques inédites de Wauchier de Denain ms. BnF fr. 412 ** \n",
       "\n",
       "* total liens : 3 \n",
       "* type de liens  : Counter({'laboratoire': 1, 'etablissement': 1, 'ecole-doctorale': 1}) \n",
       "* nombre de labos partenaires : 1\n",
       "* nombre total de partenaires (hors labo et etablissements) : 0\n",
       "* nombre total d'etablissements (hors labo) : 1\n",
       "* villes impliquées : 0 \n",
       "\n",
       "---------------\n",
       "**Naissance et premiers développements des écoles d'économie politique chrétienne (France, 1815-1851)** \n",
       "\n",
       "* total liens : 3 \n",
       "* type de liens  : Counter({'laboratoire': 1, 'etablissement': 1, 'ecole-doctorale': 1}) \n",
       "* nombre de labos partenaires : 1\n",
       "* nombre total de partenaires (hors labo et etablissements) : 0\n",
       "* nombre total d'etablissements (hors labo) : 1\n",
       "* villes impliquées : 0 \n",
       "\n",
       "---------------\n",
       "**Politiques publiques de recherche : enquête philosophique sur les formes possibles de démocratisation** \n",
       "\n",
       "* total liens : 3 \n",
       "* type de liens  : Counter({'ecole-doctorale': 1, 'etablissement': 1, 'laboratoire': 1}) \n",
       "* nombre de labos partenaires : 1\n",
       "* nombre total de partenaires (hors labo et etablissements) : 0\n",
       "* nombre total d'etablissements (hors labo) : 1\n",
       "* villes impliquées : 0 \n",
       "\n",
       "---------------\n",
       "**Art Brut : quelle place pour les marges singulières ? Émergence et valorisation d’un projet de réseau d’art singulier en Rhône Alpes** \n",
       "\n",
       "* total liens : 4 \n",
       "* type de liens  : Counter({'laboratoire': 1, 'etablissement': 1, 'patrimoine': 1, 'ecole-doctorale': 1}) \n",
       "* nombre de labos partenaires : 1\n",
       "* nombre total de partenaires (hors labo et etablissements) : 1\n",
       "* nombre total d'etablissements (hors labo) : 1\n",
       "* villes impliquées : 0 \n",
       "\n",
       "---------------\n",
       "**Développement d'interfaces pour le WEB destinées à rendre accessibles les outils de la création musicale contemporaine.** \n",
       "\n",
       "* total liens : 7 \n",
       "* type de liens  : Counter({'enseignement': 3, 'laboratoire': 1, 'etablissement': 1, 'm\\xc3\\xa9diation': 1, 'ecole-doctorale': 1}) \n",
       "* nombre de labos partenaires : 1\n",
       "* nombre total de partenaires (hors labo et etablissements) : 4\n",
       "* nombre total d'etablissements (hors labo) : 1\n",
       "* villes impliquées : 0 \n",
       "\n",
       "---------------\n",
       "**Documenter l’expérience habitante de la ville sur les réseaux sociaux : corpus photographiques et données numériques, le sens des collections** \n",
       "\n",
       "* total liens : 5 \n",
       "* type de liens  : Counter({'ecole-doctorale': 1, 'patrimoine': 1, '\\xc3\\xa9conomique': 1, 'etablissement': 1, 'laboratoire': 1}) \n",
       "* nombre de labos partenaires : 1\n",
       "* nombre total de partenaires (hors labo et etablissements) : 2\n",
       "* nombre total d'etablissements (hors labo) : 1\n",
       "* villes impliquées : 0 \n",
       "\n",
       "---------------\n",
       "**Sciences, techniques et esthétiques de l'éclairage sur les scènes parisiennes et lyonnaises, du théâtre romantique au premier cinéma.** \n",
       "\n",
       "* total liens : 6 \n",
       "* type de liens  : Counter({'patrimoine': 2, 'laboratoire': 1, 'enseignement': 1, 'etablissement': 1, 'ecole-doctorale': 1}) \n",
       "* nombre de labos partenaires : 1\n",
       "* nombre total de partenaires (hors labo et etablissements) : 3\n",
       "* nombre total d'etablissements (hors labo) : 1\n",
       "* villes impliquées : 0 \n",
       "\n",
       "---------------\n",
       "**Les mutations de la médiation scientifique : le cas des journalistes scientifiques** \n",
       "\n",
       "* total liens : 3 \n",
       "* type de liens  : Counter({'ecole-doctorale': 1, 'etablissement': 1, 'laboratoire': 1}) \n",
       "* nombre de labos partenaires : 1\n",
       "* nombre total de partenaires (hors labo et etablissements) : 0\n",
       "* nombre total d'etablissements (hors labo) : 1\n",
       "* villes impliquées : 0 \n",
       "\n",
       "---------------\n",
       "**Elaboration d'une mémoire collective chez les réfugiés du génocide rwandais et de ses suites (1994 ? 1997) : du trauma à l'insertion en Rhône-Alpes** \n",
       "\n",
       "* total liens : 6 \n",
       "* type de liens  : Counter({'ADR': 1, 'ecole-doctorale': 1, 'etablissement': 1, 'patrimoine': 1, 'laboratoire': 1, 'm\\xc3\\xa9diation': 1}) \n",
       "* nombre de labos partenaires : 1\n",
       "* nombre total de partenaires (hors labo et etablissements) : 2\n",
       "* nombre total d'etablissements (hors labo) : 1\n",
       "* villes impliquées : 0 \n",
       "\n",
       "---------------\n",
       "**Extraction et catégorisation de lexiques transdisciplinaires d articles scientifiques de sciences humaines en vue de l indexation automatique** \n",
       "\n",
       "* total liens : 3 \n",
       "* type de liens  : Counter({'laboratoire': 1, 'etablissement': 1, 'ecole-doctorale': 1}) \n",
       "* nombre de labos partenaires : 1\n",
       "* nombre total de partenaires (hors labo et etablissements) : 0\n",
       "* nombre total d'etablissements (hors labo) : 1\n",
       "* villes impliquées : 0 \n",
       "\n",
       "---------------\n",
       "**Regards cinématographiques et gestes du travail : films d’amateurs et identifications locales et régionales des territoires de montagne en Rhône-Alpes, des années 1960 à 1975.** \n",
       "\n",
       "* total liens : 6 \n",
       "* type de liens  : Counter({'patrimoine': 3, 'laboratoire': 1, 'etablissement': 1, 'ecole-doctorale': 1}) \n",
       "* nombre de labos partenaires : 1\n",
       "* nombre total de partenaires (hors labo et etablissements) : 3\n",
       "* nombre total d'etablissements (hors labo) : 1\n",
       "* villes impliquées : 0 \n",
       "\n",
       "---------------\n",
       "**Les éditions Paul Martial : une esthétique industrielle** \n",
       "\n",
       "* total liens : 7 \n",
       "* type de liens  : Counter({'laboratoire': 2, 'ADR': 1, 'etablissement': 1, 'patrimoine': 1, 'projet': 1, 'ecole-doctorale': 1}) \n",
       "* nombre de labos partenaires : 2\n",
       "* nombre total de partenaires (hors labo et etablissements) : 1\n",
       "* nombre total d'etablissements (hors labo) : 1\n",
       "* villes impliquées : 0 \n",
       "\n",
       "---------------\n",
       "**Co-construction et expérimentation de dispositifs de formation de tuteurs pour l’amélioration des parcours d’apprentissage et de la transmission des savoirs en situation professionnelle** \n",
       "\n",
       "* total liens : 4 \n",
       "* type de liens  : Counter({'ecole-doctorale': 1, 'enseignement': 1, 'etablissement': 1, 'laboratoire': 1}) \n",
       "* nombre de labos partenaires : 1\n",
       "* nombre total de partenaires (hors labo et etablissements) : 1\n",
       "* nombre total d'etablissements (hors labo) : 1\n",
       "* villes impliquées : 0 \n",
       "\n",
       "---------------\n",
       "**L’émergence du questionnement collectif dans la discussion à visée philosophique entre élèves : Comment apprend-t-on à s’interroger avec les autres ? ** \n",
       "\n",
       "* total liens : 6 \n",
       "* type de liens  : Counter({'m\\xc3\\xa9diation': 2, 'laboratoire': 1, 'localit\\xc3\\xa9': 1, 'etablissement': 1, 'ecole-doctorale': 1}) \n",
       "* nombre de labos partenaires : 1\n",
       "* nombre total de partenaires (hors labo et etablissements) : 3\n",
       "* nombre total d'etablissements (hors labo) : 1\n",
       "* villes impliquées : 0 \n",
       "\n",
       "---------------\n",
       "**L’événementialisation de la culture scientifique. Rôle et enjeux des manifestations culturelles dans la médiation des sciences ** \n",
       "\n",
       "* total liens : 8 \n",
       "* type de liens  : Counter({'ADR': 1, 'ecole-doctorale': 1, 'etablissement': 1, 'patrimoine': 1, 'projet': 1, 'laboratoire': 1, 'cst': 1, 'cr\\xc3\\xa9ation': 1}) \n",
       "* nombre de labos partenaires : 1\n",
       "* nombre total de partenaires (hors labo et etablissements) : 3\n",
       "* nombre total d'etablissements (hors labo) : 1\n",
       "* villes impliquées : 0 \n",
       "\n",
       "---------------\n",
       "**Du manuscrit à l’imprimé : la révolution du livre à Lyon (1470-1520)** \n",
       "\n",
       "* total liens : 4 \n",
       "* type de liens  : Counter({'ecole-doctorale': 1, 'etablissement': 1, 'patrimoine': 1, 'laboratoire': 1}) \n",
       "* nombre de labos partenaires : 1\n",
       "* nombre total de partenaires (hors labo et etablissements) : 1\n",
       "* nombre total d'etablissements (hors labo) : 1\n",
       "* villes impliquées : 0 \n",
       "\n",
       "---------------\n",
       "**Genre et groupe social : approche développementale de la construction précoce de l'identité sociolinguistique dans les interactions parents-enfants** \n",
       "\n",
       "* total liens : 3 \n",
       "* type de liens  : Counter({'laboratoire': 1, 'etablissement': 1, 'ecole-doctorale': 1}) \n",
       "* nombre de labos partenaires : 1\n",
       "* nombre total de partenaires (hors labo et etablissements) : 0\n",
       "* nombre total d'etablissements (hors labo) : 1\n",
       "* villes impliquées : 0 \n",
       "\n",
       "---------------\n",
       "**Le corps, le cancer et la chimiothérapie** \n",
       "\n",
       "* total liens : 3 \n",
       "* type de liens  : Counter({'laboratoire': 1, 'etablissement': 1, 'ecole-doctorale': 1}) \n",
       "* nombre de labos partenaires : 1\n",
       "* nombre total de partenaires (hors labo et etablissements) : 0\n",
       "* nombre total d'etablissements (hors labo) : 1\n",
       "* villes impliquées : 0 \n",
       "\n",
       "---------------\n",
       "**Formes et enjeux de la sociabilité dans les équipes de recherche en sciences humaines et sociales** \n",
       "\n",
       "* total liens : 3 \n",
       "* type de liens  : Counter({'laboratoire': 1, 'etablissement': 1, 'ecole-doctorale': 1}) \n",
       "* nombre de labos partenaires : 1\n",
       "* nombre total de partenaires (hors labo et etablissements) : 0\n",
       "* nombre total d'etablissements (hors labo) : 1\n",
       "* villes impliquées : 0 \n",
       "\n",
       "---------------\n",
       "**\"PROJET INTER-ARC Analyse de graphes dynamiques : application aux données Vélo'V Inter-arc  ARC 6.  TIC  et usages informatiques innovants  \"** \n",
       "\n",
       "* total liens : 5 \n",
       "* type de liens  : Counter({'laboratoire': 1, '\\xc3\\xa9conomique': 1, 'etablissement': 1, 'localit\\xc3\\xa9': 1, 'ecole-doctorale': 1}) \n",
       "* nombre de labos partenaires : 1\n",
       "* nombre total de partenaires (hors labo et etablissements) : 2\n",
       "* nombre total d'etablissements (hors labo) : 1\n",
       "* villes impliquées : 0 \n",
       "\n",
       "---------------\n",
       "**Les principes de justice dans l'économie saint-simonienne : un éclairage actuel sur les « socialismes ».** \n",
       "\n",
       "* total liens : 3 \n",
       "* type de liens  : Counter({'ecole-doctorale': 1, 'etablissement': 1, 'laboratoire': 1}) \n",
       "* nombre de labos partenaires : 1\n",
       "* nombre total de partenaires (hors labo et etablissements) : 0\n",
       "* nombre total d'etablissements (hors labo) : 1\n",
       "* villes impliquées : 0 \n",
       "\n",
       "---------------\n",
       "**Enjeux territoriaux de la communication scientifique : évolutions et nouvelles formes de l'édition scientifique d'ouvrages** \n",
       "\n",
       "* total liens : 7 \n",
       "* type de liens  : Counter({'ADR': 1, 'ecole-doctorale': 1, 'etablissement': 1, 'projet': 1, 'laboratoire': 1, 'cst': 1, 'm\\xc3\\xa9diation': 1}) \n",
       "* nombre de labos partenaires : 1\n",
       "* nombre total de partenaires (hors labo et etablissements) : 2\n",
       "* nombre total d'etablissements (hors labo) : 1\n",
       "* villes impliquées : 0 \n",
       "\n",
       "---------------\n",
       "**Le trésor de Brou et les stratégies dévotionnelles de  Marguerite d’Autriche et de sa cour : Essai de reconstitution in situ des collections léguées par Marguerite d’Autriche à sa fondation funéraire. ** \n",
       "\n",
       "* total liens : 5 \n",
       "* type de liens  : Counter({'projet': 1, 'laboratoire': 1, 'etablissement': 1, 'patrimoine': 1, 'ecole-doctorale': 1}) \n",
       "* nombre de labos partenaires : 1\n",
       "* nombre total de partenaires (hors labo et etablissements) : 1\n",
       "* nombre total d'etablissements (hors labo) : 1\n",
       "* villes impliquées : 0 \n",
       "\n",
       "---------------\n",
       "**Entre valeur affective et valeur d’usage : quel avenir pour les églises de la métropole Lyon Saint-Etienne ?** \n",
       "\n",
       "* total liens : 6 \n",
       "* type de liens  : Counter({'patrimoine': 3, 'laboratoire': 1, 'etablissement': 1, 'ecole-doctorale': 1}) \n",
       "* nombre de labos partenaires : 1\n",
       "* nombre total de partenaires (hors labo et etablissements) : 3\n",
       "* nombre total d'etablissements (hors labo) : 1\n",
       "* villes impliquées : 0 \n",
       "\n",
       "---------------\n",
       "**Le temps du voyage : rythmes et perception de la durée dans les pratiques du voyage en Europe entre Lumières et romantisme (18e siècle-milieu 19e siècle)** \n",
       "\n",
       "* total liens : 3 \n",
       "* type de liens  : Counter({'ecole-doctorale': 1, 'etablissement': 1, 'laboratoire': 1}) \n",
       "* nombre de labos partenaires : 1\n",
       "* nombre total de partenaires (hors labo et etablissements) : 0\n",
       "* nombre total d'etablissements (hors labo) : 1\n",
       "* villes impliquées : 0 \n",
       "\n",
       "---------------\n",
       "**Contribution à une géographie du numérique** \n",
       "\n",
       "* total liens : 4 \n",
       "* type de liens  : Counter({'laboratoire': 1, 'etablissement': 1, '\\xc3\\xa9conomique': 1, 'ecole-doctorale': 1}) \n",
       "* nombre de labos partenaires : 1\n",
       "* nombre total de partenaires (hors labo et etablissements) : 1\n",
       "* nombre total d'etablissements (hors labo) : 1\n",
       "* villes impliquées : 0 \n",
       "\n",
       "---------------\n",
       "**Approche numérique des revues françaises de géographie : pour une relecture épistémologique des savoirs géographiques** \n",
       "\n",
       "* total liens : 5 \n",
       "* type de liens  : Counter({'laboratoire': 2, 'etablissement': 1, 'ADR': 1, 'ecole-doctorale': 1}) \n",
       "* nombre de labos partenaires : 2\n",
       "* nombre total de partenaires (hors labo et etablissements) : 0\n",
       "* nombre total d'etablissements (hors labo) : 1\n",
       "* villes impliquées : 0 \n",
       "\n",
       "---------------\n",
       "**La prostitution entre Grenoble et Lyon du XVIIIe siècle au milieu du XIXe siècle. Représentations, espaces et pratiques** \n",
       "\n",
       "* total liens : 6 \n",
       "* type de liens  : Counter({'patrimoine': 2, 'ADR': 1, 'ecole-doctorale': 1, 'etablissement': 1, 'laboratoire': 1}) \n",
       "* nombre de labos partenaires : 1\n",
       "* nombre total de partenaires (hors labo et etablissements) : 2\n",
       "* nombre total d'etablissements (hors labo) : 1\n",
       "* villes impliquées : 0 \n",
       "\n",
       "---------------\n",
       "**Élaboration, mise en oeuvre et exploitation d'un modèle de description d'objets archéologiques complexes : le projet céramique 3.0** \n",
       "\n",
       "* total liens : 4 \n",
       "* type de liens  : Counter({'laboratoire': 1, 'etablissement': 1, 'patrimoine': 1, 'ecole-doctorale': 1}) \n",
       "* nombre de labos partenaires : 1\n",
       "* nombre total de partenaires (hors labo et etablissements) : 1\n",
       "* nombre total d'etablissements (hors labo) : 1\n",
       "* villes impliquées : 0 \n",
       "\n",
       "---------------\n",
       "**Le développement d’une compétence interculturelle après classement d’un site au Patrimoine mondial de l’UNESCO, un pas vers le dialogue entre les peuples** \n",
       "\n",
       "* total liens : 8 \n",
       "* type de liens  : Counter({'laboratoire': 2, 'ADR': 1, 'etablissement': 1, 'patrimoine': 1, 'projet': 1, 'ecole-doctorale': 1, 'cr\\xc3\\xa9ation': 1}) \n",
       "* nombre de labos partenaires : 2\n",
       "* nombre total de partenaires (hors labo et etablissements) : 2\n",
       "* nombre total d'etablissements (hors labo) : 1\n",
       "* villes impliquées : 0 \n",
       "\n",
       "---------------\n",
       "**Négociants et entrepreneurs de Lyon au XVIIe siècle. Espaces, réseaux et pratiques du commerce sous l’Ancien Régime  ** \n",
       "\n",
       "* total liens : 5 \n",
       "* type de liens  : Counter({'patrimoine': 1, 'laboratoire': 1, 'etablissement': 1, 'ADR': 1, 'ecole-doctorale': 1}) \n",
       "* nombre de labos partenaires : 1\n",
       "* nombre total de partenaires (hors labo et etablissements) : 1\n",
       "* nombre total d'etablissements (hors labo) : 1\n",
       "* villes impliquées : 0 \n",
       "\n",
       "---------------\n",
       "**Au-delà de la « Manif pour tous » : sociologie des engagements féminins conservateurs** \n",
       "\n",
       "* total liens : 4 \n",
       "* type de liens  : Counter({'ecole-doctorale': 1, 'etablissement': 1, 'ADR': 1, 'laboratoire': 1}) \n",
       "* nombre de labos partenaires : 1\n",
       "* nombre total de partenaires (hors labo et etablissements) : 0\n",
       "* nombre total d'etablissements (hors labo) : 1\n",
       "* villes impliquées : 0 \n",
       "\n",
       "---------------\n"
      ],
      "text/plain": [
       "<IPython.core.display.Markdown object>"
      ]
     },
     "metadata": {},
     "output_type": "display_data"
    }
   ],
   "source": [
    "display(Markdown(\"### Liste des Thèses (d'après le graphe)\"))\n",
    "\n",
    "theses = [n for n in G_with_projects.nodes(data=True) if n[1][\"type\"] == \"ADR\" and n[1][\"orga\"] == \"ARC5\"]\n",
    "print \"%s thèses\"%len(theses)\n",
    "\n",
    "# Nombre de thèses (cluster 13 et 14 puis ARC5)\n",
    "theses_partenaires = []\n",
    "theses_labos = []\n",
    "theses_etablissements = []\n",
    "theses_villes = []\n",
    "\n",
    "liste_these = \"\"\n",
    "# Nombre de thèses avec partenaires (socio-économiques et socio-culturels)\n",
    "for these in theses: \n",
    "    neighbors = G_with_projects.neighbors(these[0])\n",
    "    liste_these += \"**%s** \\n\\n\"%these[1][\"name\"]\n",
    "    liste_these += \"* total liens : %s \\n\"%len(neighbors)\n",
    "    liste_these += \"* type de liens  : %s \\n\"%Counter([G_with_projects.node[n][\"type\"] for n in neighbors])\n",
    "    \n",
    "    labos = [ n for n in neighbors if G_with_projects.node[n][\"type\"] == \"laboratoire\" ]\n",
    "    theses_labos.append( labos )\n",
    "\n",
    "    liste_these += \"* nombre de labos partenaires : %s\\n\"%len(labos)\n",
    "    \n",
    "    partenaires = [ n for n in neighbors if G_with_projects.node[n][\"type\"] not in [\"projet\",\"laboratoire\", \"ecole-doctorale\", \"etablissement\", \"ville\", \"these\", \"ADR\" ] ]\n",
    "    theses_partenaires.append(partenaires)\n",
    "    liste_these += \"* nombre total de partenaires (hors labo et etablissements) : %s\\n\"%len(partenaires)\n",
    "    \n",
    "    etablissements = [ n for n in neighbors if G_with_projects.node[n][\"type\"] == \"etablissement\" ]\n",
    "    theses_etablissements.append(etablissements)\n",
    "    liste_these += \"* nombre total d'etablissements (hors labo) : %s\\n\"%len(etablissements)\n",
    "    \n",
    "    villes = [ n for n in neighbors if G_with_projects.node[n][\"type\"] == \"ville\" ]\n",
    "    theses_villes.append(villes)\n",
    "    liste_these += \"* villes impliquées : %s \\n\\n\"%len(villes)\n",
    "    \n",
    "    liste_these += \"-\"*15+\"\\n\"\n",
    "\n",
    "display(Markdown(liste_these))"
   ]
  },
  {
   "cell_type": "code",
   "execution_count": 138,
   "metadata": {
    "collapsed": false
   },
   "outputs": [
    {
     "data": {
      "text/markdown": [
       "## Thèses"
      ],
      "text/plain": [
       "<IPython.core.display.Markdown object>"
      ]
     },
     "metadata": {},
     "output_type": "display_data"
    },
    {
     "data": {
      "text/markdown": [
       "### Combien y a-t-il de thèses au total ? "
      ],
      "text/plain": [
       "<IPython.core.display.Markdown object>"
      ]
     },
     "metadata": {},
     "output_type": "display_data"
    },
    {
     "name": "stdout",
     "output_type": "stream",
     "text": [
      "57 thèses\n"
     ]
    },
    {
     "data": {
      "text/markdown": [
       "### Quelles sont les écoles doctorales impliquées dans la direction des thèses ?"
      ],
      "text/plain": [
       "<IPython.core.display.Markdown object>"
      ]
     },
     "metadata": {},
     "output_type": "display_data"
    },
    {
     "data": {
      "text/markdown": [
       "| | Nom | Quantité |\n",
       "| --- | --- | --- |\n",
       "| 0 | ScSo, ED 483 (sciences sociales) | 12 | \n",
       "| 1 | LLSH, ED 50 (Langues, Littératures et Sciences Humaines) | 10 | \n",
       "| 2 | EPIC, 485 (Education - Psychologie - Information et Communication) | 9 | \n",
       "| 3 | SHPT, ED 454 (Sciences de l'homme, du politique et du territoire) | 8 | \n",
       "| 4 | 3LA, ED 484 (Lettres, langues, linguistique et arts) | 8 | \n",
       "| 5 | SEG, ED 486 (Sciences Economiques et de Gestion) | 3 | \n",
       "| 6 | PHCR, ED 487 (Philosophie, histoire, création, représentation ) | 2 | \n",
       "| 7 | Infomath, ED 512 | 2 | \n",
       "| 8 |  | 1 | \n",
       "| 9 | SIS, ED 488 (Sciences Ingénierie Santé) | 1 | \n",
       "| 10 | PHAST, ED 52 (Physique et Astrophysique) | 1 | \n"
      ],
      "text/plain": [
       "<IPython.core.display.Markdown object>"
      ]
     },
     "metadata": {},
     "output_type": "display_data"
    },
    {
     "data": {
      "text/markdown": [
       "### Quelles sont les établissement gestionnaire des thèses ?"
      ],
      "text/plain": [
       "<IPython.core.display.Markdown object>"
      ]
     },
     "metadata": {},
     "output_type": "display_data"
    },
    {
     "data": {
      "text/markdown": [
       "| | Nom | Quantité |\n",
       "| --- | --- | --- |\n",
       "| 0 | UNIVERSITE LUMIERE - LYON 2 | 15 | \n",
       "| 1 | UNIVERSITE STENDHAL GRENOBLE - 3 | 11 | \n",
       "| 2 | UNIVERSITE JEAN MONNET - SAINT ETIENNE | 9 | \n",
       "| 3 | UNIVERSITE PIERRE MENDES FRANCE - GRENOBLE 2 | 8 | \n",
       "| 4 | ENS LYON (Ecole normale supérieure de Lyon) | 5 | \n",
       "| 5 | UNIVERSITE JEAN MOULIN LYON 3 | 4 | \n",
       "| 6 | INSA LYON (Institut national des sciences appliquées de Lyon) | 2 | \n",
       "| 7 | UNIVERSITE CLAUDE BERNARD - LYON 1 | 2 | \n",
       "| 8 | IEP GRENOBLE (Institut d’Etudes Politiques de Grenoble) | 1 | \n"
      ],
      "text/plain": [
       "<IPython.core.display.Markdown object>"
      ]
     },
     "metadata": {},
     "output_type": "display_data"
    },
    {
     "data": {
      "text/markdown": [
       "### A quelles villes sont rattachées ces établissement ?"
      ],
      "text/plain": [
       "<IPython.core.display.Markdown object>"
      ]
     },
     "metadata": {},
     "output_type": "display_data"
    },
    {
     "data": {
      "text/markdown": [
       "| | Nom | Quantité |\n",
       "| --- | --- | --- |\n",
       "| 0 | Lyon | 28 | \n",
       "| 1 | Grenoble | 20 | \n",
       "| 2 | Saint-Etienne | 9 | \n"
      ],
      "text/plain": [
       "<IPython.core.display.Markdown object>"
      ]
     },
     "metadata": {},
     "output_type": "display_data"
    },
    {
     "data": {
      "text/markdown": [
       "### Quels laboratoires  encadrent ces thèses ?"
      ],
      "text/plain": [
       "<IPython.core.display.Markdown object>"
      ]
     },
     "metadata": {},
     "output_type": "display_data"
    },
    {
     "data": {
      "text/markdown": [
       "| | Nom | Quantité |\n",
       "| --- | --- | --- |\n",
       "| 0 | LIDILEM (Laboratoire de Linguistique et Didactique des Langues Etrangères et Maternelles) | 5 | \n",
       "| 1 | LARHRA (Laboratoire de Recherche Historique Rhône-Alpes) | 4 | \n",
       "| 2 | Centre Max Weber (Laboratoire de sociologie) UMR 5283 | 4 | \n",
       "| 3 | ELICO (Équipe de recherche de Lyon en sciences de l'Information et de la COmmunication) | 3 | \n",
       "| 4 | CIEREC (Centre Interdisciplinaire d’Études et de Recherches sur l’Expression Contemporaine) | 3 | \n",
       "| 5 | GRESEC (Groupe de Recherche sur les Enjeux de la Communication ) | 3 | \n",
       "| 6 | LITT&ARTS (UMR 5316) | 3 | \n",
       "| 7 | S2HEP - Sciences, société, Historicité, Education, Pratiques | 3 | \n",
       "| 8 | EVS - Environnement Ville Société | 3 | \n",
       "| 9 | CRHIPA - Centre de Recherches en Histoire et histoire de l'art, Italie, Pays Alpins, interactions internationales | 3 | \n",
       "| 10 | LIRE (Littérature, Idéologies et Représentations aux XVIIIe et XIXe siècles) | 2 | \n",
       "| 11 | CIHAM – Histoire, Archéologie, Littératures des mondes chrétiens et musulmans médiévaux | 2 | \n",
       "| 12 | LIRIS (Laboratoire d'informatique en images et systèmes d'information) | 2 | \n",
       "| 13 | LSE - Laboratoire des Sciences de l'Éducation | 2 | \n",
       "| 14 | PLC (Philosophie, Langages & cognition) | 2 | \n",
       "| 15 |  | 1 | \n",
       "| 16 | EMC2 - LSG (Emotion Médiation Culture Connaissance - Laboratoire de sociologie de Grenoble) | 1 | \n",
       "| 17 | ERIC - Entrepôts, Représentation et Ingénierie des Connaissances | 1 | \n",
       "| 18 | Laboratoire de Physique de l’ENS de Lyon | 1 | \n",
       "| 19 | Triangle (Action, discours, pensée politique et économique) | 1 | \n",
       "| 20 | Passages XX-XXI (EA 4160) | 1 | \n",
       "| 21 | Institut Claude Longeon | 1 | \n",
       "| 22 | IRG - Institut de Recherche en Géographie | 1 | \n",
       "| 23 | IRPHIL - Institut de Recherches Philosophiques de Lyon | 1 | \n",
       "| 24 | Centre Norbert Elias | 1 | \n",
       "| 25 | ICAR (Interactions, Corpus, Apprentissages, Représentations) | 1 | \n",
       "| 26 | Pacte - Politiques publiques, ACtion politique, TErritoires (UMR 5194) | 1 | \n",
       "| 27 | GATE (Groupe d'Analyse et de Théorie Economique) | 1 | \n"
      ],
      "text/plain": [
       "<IPython.core.display.Markdown object>"
      ]
     },
     "metadata": {},
     "output_type": "display_data"
    }
   ],
   "source": [
    "fichier_theses = \"../final/ARC5-Final - ARC5-ADR.csv\"\n",
    "\n",
    "villes_etablissements = {\n",
    "  \"UNIVERSITE JOSEPH FOURIER - GRENOBLE 1\" : \"Grenoble\",\n",
    "  \"Ecole Nationale des Travaux Publics de l'Etat\" : \"Lyon\",\n",
    "  \"UNIVERSITE JEAN MOULIN LYON 3\" : \"Lyon\",\n",
    "  \"INSA LYON (Institut national des sciences appliquées de Lyon)\" : \"Lyon\",\n",
    "  \"UNIVERSITE CLAUDE BERNARD - LYON 1\" : \"Lyon\",\n",
    "  \"UNIVERSITE JEAN MONNET - SAINT ETIENNE\" : \"Saint-Etienne\",\n",
    "  \"UNIVERSITE LUMIERE - LYON 2\" : \"Lyon\",\n",
    "  \"UNIVERSITE PIERRE MENDES FRANCE - GRENOBLE 2\" : \"Grenoble\",\n",
    "  \"ENS LYON (Ecole normale supérieure de Lyon)\" : \"Lyon\",\n",
    "  \"IEP GRENOBLE (Institut d’Etudes Politiques de Grenoble)\" : \"Grenoble\",\n",
    "  \"CNRS - Centre national de la recherche scientifique (Délégation Auvergne Rhône-Alpes)\" : \"Lyon\",\n",
    "  \"UNIVERSITE STENDHAL GRENOBLE - 3\" : \"Grenoble\",\n",
    "  \"UNIVERSITE DE SAVOIE\" : \"Chambéry\",\n",
    "  \"ENSSIB (École nationale supérieure des sciences de l'information et des bibliothèques)\" : \"Lyon\"\n",
    "}\n",
    "\n",
    "\n",
    "ecoles_doctorales = []\n",
    "etablissements_theses = []\n",
    "labos_theses = []\n",
    "\n",
    "with open( fichier_theses, \"r\") as f :\n",
    "    reader = csv.DictReader(f)\n",
    "    for i, line in enumerate(reader) :\n",
    "        ecoles_doctorales.append(line[\"Ecole doctorale\"])\n",
    "        etablissements_theses.append(line[\"Etablissement gestionnaire\"])\n",
    "        labos_theses.append(line[\"Laboratoire\"])\n",
    "\n",
    "\n",
    "display(Markdown(\"## Thèses\"))\n",
    "\n",
    "display(Markdown(\"### Combien y a-t-il de thèses au total ? \"))\n",
    "print \"%s thèses\"%(i+1) \n",
    "  \n",
    "show_table(\"### Quelles sont les écoles doctorales impliquées dans la direction des thèses ?\", ecoles_doctorales)\n",
    "\n",
    "show_table(\"### Quelles sont les établissement gestionnaire des thèses ?\", etablissements_theses)\n",
    "    \n",
    "show_table(\"### A quelles villes sont rattachées ces établissement ?\", [villes_etablissements[t] for t in etablissements_theses] )\n",
    "\n",
    "show_table(\"### Quels laboratoires  encadrent ces thèses ?\", labos_theses)"
   ]
  },
  {
   "cell_type": "code",
   "execution_count": 139,
   "metadata": {
    "collapsed": false
   },
   "outputs": [
    {
     "data": {
      "image/png": "[encoded data removed]",
      "text/plain": [
       "<matplotlib.figure.Figure at 0x7f920c89d4d0>"
      ]
     },
     "metadata": {},
     "output_type": "display_data"
    },
    {
     "data": {
      "text/plain": [
       "<matplotlib.axes._subplots.AxesSubplot at 0x7f920ccff090>"
      ]
     },
     "execution_count": 139,
     "metadata": {},
     "output_type": "execute_result"
    }
   ],
   "source": [
    "# Nombre de thèses par années\n",
    "def getKey(item):\n",
    "    return item[0]\n",
    "\n",
    "years_start =[ parser.parse(str(these[1][\"start\"])).year for these in theses ]\n",
    "count_plot([y for y in years_start ], ylabel=\"Nombre de thèses\", xlabel=\"Année\", title='Thèses par années')"
   ]
  },
  {
   "cell_type": "code",
   "execution_count": 140,
   "metadata": {
    "collapsed": false
   },
   "outputs": [
    {
     "data": {
      "image/png": "[encoded data removed]",
      "text/plain": [
       "<matplotlib.figure.Figure at 0x7f920d1b97d0>"
      ]
     },
     "metadata": {},
     "output_type": "display_data"
    },
    {
     "data": {
      "text/plain": [
       "<matplotlib.axes._subplots.AxesSubplot at 0x7f920c5bcf90>"
      ]
     },
     "execution_count": 140,
     "metadata": {},
     "output_type": "execute_result"
    }
   ],
   "source": [
    "theses_partenaires_type = []\n",
    "for ps in theses_partenaires: \n",
    "    theses_partenaires_type += [ G_with_projects.node[p][\"type\"] for p in ps if G_with_projects.node[p][\"type\"] != \"ADR\" and G_with_projects.node[p][\"type\"] != \"localité\" ]\n",
    "count_plot([t.decode('utf-8') for t in theses_partenaires_type], xlabel=\"Type de partenaires\", title='Type de partenaires des thèses')"
   ]
  },
  {
   "cell_type": "code",
   "execution_count": 141,
   "metadata": {
    "collapsed": false
   },
   "outputs": [
    {
     "name": "stdout",
     "output_type": "stream",
     "text": [
      "* moyenne de partenaires par thèse : 1.36842105263\n"
     ]
    },
    {
     "data": {
      "image/png": "[encoded data removed]",
      "text/plain": [
       "<matplotlib.figure.Figure at 0x7f920c659f90>"
      ]
     },
     "metadata": {},
     "output_type": "display_data"
    },
    {
     "data": {
      "text/plain": [
       "<matplotlib.axes._subplots.AxesSubplot at 0x7f920ce628d0>"
      ]
     },
     "execution_count": 141,
     "metadata": {},
     "output_type": "execute_result"
    }
   ],
   "source": [
    "# Nombres et types d’organismes partenaires\n",
    "print \"* moyenne de partenaires par thèse : %s\"%moyenne([len(p) for p in theses_partenaires])\n",
    "count_plot([len(p) for p in theses_partenaires], xlabel=\"Nombre de partenaires\", title='Combien de partenaires par thèse ?')    "
   ]
  },
  {
   "cell_type": "code",
   "execution_count": 142,
   "metadata": {
    "collapsed": false
   },
   "outputs": [
    {
     "data": {
      "text/markdown": [
       "### Qui sont les partenaires des thèses ?"
      ],
      "text/plain": [
       "<IPython.core.display.Markdown object>"
      ]
     },
     "metadata": {},
     "output_type": "display_data"
    },
    {
     "data": {
      "text/markdown": [
       "| | Nom | Quantité |\n",
       "| --- | --- | --- |\n",
       "| 0 | bibliotheque-municipale-de-lyon-patrimoine | 5 | \n",
       "| 1 | musees-gadagne-patrimoine | 4 | \n",
       "| 2 | service-science-societe-de-luniversite-de-lyon-cst | 3 | \n",
       "| 3 | cnsmd-conservatoire-national-superieur-musique-et-danse-de-lyon-enseignement | 2 | \n",
       "| 4 | musee-dart-moderne-de-saint-etienne-metropole-patrimoine | 2 | \n",
       "| 5 | le-rize-patrimoine | 2 | \n",
       "| 6 | arald-agence-rhone-alpes-pour-le-livre-et-la-documentation-médiation | 1 | \n",
       "| 7 | direction-departementale-de-la-cohesion-sociale-de-lisere-médiation | 1 | \n",
       "| 8 | bibliotheque-municipale-de-grenoble-patrimoine | 1 | \n",
       "| 9 | festival-a-nous-de-voir-cinema-et-science-création | 1 | \n",
       "| 10 | musee-gallo-romain-de-lyon-fourviere-patrimoine | 1 | \n",
       "| 11 | musee-de-la-mine-saint-etienne-patrimoine | 1 | \n",
       "| 12 | webcastor-économique | 1 | \n",
       "| 13 | ensatt-ecole-nationale-superieure-darts-et-techniques-du-theatre-enseignement | 1 | \n",
       "| 14 | mfpf-rhone-mouvement-francais-pour-le-planning-familial-médiation | 1 | \n",
       "| 15 | palais-ideal-du-facteur-cheval-patrimoine | 1 | \n",
       "| 16 | musee-du-protestantisme-dauphinois-création | 1 | \n",
       "| 17 | inspection-academique-rectorat-de-lyon-enseignement | 1 | \n",
       "| 18 | federation-nationale-des-arts-de-la-rue-médiation | 1 | \n",
       "| 19 | museum-dhistoire-naturelle-de-grenoble-patrimoine | 1 | \n",
       "| 20 | service-de-linventaire-general-du-patrimoine-culturel-de-la-region-rhone-alpes-patrimoine | 1 | \n",
       "| 21 | musee-de-tervuren-belgique-patrimoine | 1 | \n",
       "| 22 | parc-zoologique-de-la-marie-de-lyon-médiation | 1 | \n",
       "| 23 | cco-centre-culturel-oecumenique-de-villeurbanne-médiation | 1 | \n",
       "| 24 | archives-departementales-de-la-loire-patrimoine | 1 | \n",
       "| 25 | mc2-maison-de-la-culture-de-grenoble-médiation | 1 | \n",
       "| 26 | acrimed-69-médiation | 1 | \n",
       "| 27 | institut-national-de-laudiovisuel-ina-delegation-centre-est-patrimoine | 1 | \n",
       "| 28 | sur-les-pas-des-huguenots-patrimoine | 1 | \n",
       "| 29 | maths-a-modeler-médiation | 1 | \n",
       "| 30 | cinematheque-des-pays-de-savoie-et-de-lain-patrimoine | 1 | \n",
       "| 31 | musee-dorsay-patrimoine | 1 | \n",
       "| 32 | direction-des-services-departementaux-de-leducation-nationale-de-lisere-enseignement | 1 | \n",
       "| 33 | horslesmurs-centre-national-de-ressource-des-art-de-la-rue-et-des-arts-du-cirque-médiation | 1 | \n",
       "| 34 | cinematheque-de-grenoble-patrimoine | 1 | \n",
       "| 35 | association-usine-sans-fin-patrimoine | 1 | \n",
       "| 36 | maison-de-la-danse-lyon-médiation | 1 | \n",
       "| 37 | musee-dauphinois-patrimoine | 1 | \n",
       "| 38 | formasup-ain-rhone-loire-centre-de-formation-par-apprentissage-enseignement | 1 | \n",
       "| 39 | grame-centre-national-de-creation-musicale-médiation | 1 | \n",
       "| 40 | d2t-metroscope-entreprise-conception-de-moteurs-économique | 1 | \n",
       "| 41 | conservatoire-militaire-de-musique-de-larmee-de-terre-cmmat-médiation | 1 | \n",
       "| 42 | la-maison-de-la-creation-saint-martin-dheres-création | 1 | \n",
       "| 43 | compagnie-des-zonzons-theatre-de-marionnettes-création | 1 | \n",
       "| 44 | lhexagone-scene-nationale-arts-sciences-création | 1 | \n",
       "| 45 | grand-lyon-localité | 1 | \n",
       "| 46 | labex-h2n-humanites-et-humanites-numeriques-médiation | 1 | \n",
       "| 47 | cnd-centre-national-de-la-danse-création | 1 | \n",
       "| 48 | ministere-de-leducation-nationale-médiation | 1 | \n",
       "| 49 | esad-ecole-superieure-dart-et-design-a-grenoble-valence-enseignement | 1 | \n",
       "| 50 | cie-gallota-compagnie-de-danse-création | 1 | \n",
       "| 51 | monastere-royal-de-brou-patrimoine | 1 | \n",
       "| 52 | cyclocity-lyon-économique | 1 | \n",
       "| 53 | conservatoire-a-rayonnement-regional-du-grand-chalon-enseignement | 1 | \n",
       "| 54 | eunetstar-european-network-of-street-theater-médiation | 1 | \n",
       "| 55 | cefedem-centre-de-formation-des-enseignants-de-la-musique-enseignement | 1 | \n",
       "| 56 | onda-office-national-de-diffusion-artistique-médiation | 1 | \n",
       "| 57 | service-conservation-du-patrimoine-du-rhone-patrimoine | 1 | \n",
       "| 58 | mediatheque-municipale-de-saint-etienne-patrimoine | 1 | \n",
       "| 59 | archives-municipales-de-lyon-patrimoine | 1 | \n",
       "| 60 | le-pacifique-centre-du-developpement-choregraphique-grenoble-création | 1 | \n",
       "| 61 | cie-yoann-bourgeois-compagnie-de-danse-création | 1 | \n",
       "| 62 | grenoble-ville-de-localité | 1 | \n",
       "| 63 | institut-lumiere-patrimoine | 1 | \n",
       "| 64 | aueg-alliance-universite-entreprise-de-grenoble-cst | 1 | \n",
       "| 65 | direction-de-la-culture-du-conseil-general-rhone-service-des-proprietes-departementales-médiation | 1 | \n"
      ],
      "text/plain": [
       "<IPython.core.display.Markdown object>"
      ]
     },
     "metadata": {},
     "output_type": "display_data"
    }
   ],
   "source": [
    "# Qui sont les partenaires des thèses ? \n",
    "parts = []\n",
    "for t in theses_partenaires: parts += [v.encode('utf-8') for v in t]\n",
    "show_table(\"### Qui sont les partenaires des thèses ?\", parts)"
   ]
  },
  {
   "cell_type": "code",
   "execution_count": 143,
   "metadata": {
    "collapsed": false
   },
   "outputs": [
    {
     "data": {
      "text/markdown": [
       "### Dans quelles villes se trouvent les partenaires des thèses ?"
      ],
      "text/plain": [
       "<IPython.core.display.Markdown object>"
      ]
     },
     "metadata": {},
     "output_type": "display_data"
    },
    {
     "data": {
      "text/markdown": [
       "| | Nom | Quantité |\n",
       "| --- | --- | --- |\n",
       "| 0 | Lyon | 32 | \n",
       "| 1 | Grenoble | 14 | \n",
       "| 2 | Paris | 7 | \n",
       "| 3 | Villeurbanne | 6 | \n",
       "| 4 | Saint-Étienne | 3 | \n",
       "| 5 | Saint-Priest-en-Jarez | 2 | \n",
       "| 6 | Meylan | 2 | \n",
       "| 7 | Veyrier-du-lac | 1 | \n",
       "| 8 | Le Poët-Laval | 1 | \n",
       "| 9 | Tervuren (Belgique) | 1 | \n",
       "| 10 | Dieulefit | 1 | \n",
       "| 11 | Chalon-sur-Saône | 1 | \n",
       "| 12 | Hauterives | 1 | \n",
       "| 13 | Pantin | 1 | \n",
       "| 14 | Trappes | 1 | \n",
       "| 15 | Vaulx-en-Velin | 1 | \n",
       "| 16 | Satory | 1 | \n",
       "| 17 | Oullins | 1 | \n",
       "| 18 | Bourg-en-Bresse | 1 | \n"
      ],
      "text/plain": [
       "<IPython.core.display.Markdown object>"
      ]
     },
     "metadata": {},
     "output_type": "display_data"
    }
   ],
   "source": [
    "# Nombre de thèses multi-sites\n",
    "\n",
    "theses_partenaires_villes = [ infos[p.decode('utf-8')][\"ville\"].strip() for p in parts ]\n",
    "show_table(\"### Dans quelles villes se trouvent les partenaires des thèses ?\", theses_partenaires_villes )"
   ]
  },
  {
   "cell_type": "code",
   "execution_count": 144,
   "metadata": {
    "collapsed": false
   },
   "outputs": [
    {
     "data": {
      "text/markdown": [
       "### Quels axes pour les thèses ?"
      ],
      "text/plain": [
       "<IPython.core.display.Markdown object>"
      ]
     },
     "metadata": {},
     "output_type": "display_data"
    },
    {
     "data": {
      "text/markdown": [
       "| | Nom | Quantité |\n",
       "| --- | --- | --- |\n",
       "| 0 | Axe 1 : Cultures au pluriel | 25 | \n",
       "| 1 | Axe  3 : Sciences et techniques : cultures pratiques représentations | 20 | \n",
       "| 2 | Axe 2 : Cultures numériques | 12 | \n"
      ],
      "text/plain": [
       "<IPython.core.display.Markdown object>"
      ]
     },
     "metadata": {},
     "output_type": "display_data"
    }
   ],
   "source": [
    "# load main file with corrections\n",
    "fichier_projets = \"../final/ARC5-Final - Projets (tous).csv\"\n",
    "\n",
    "theses_axes = []\n",
    "theses_villes = []\n",
    "\n",
    "with open( fichier_projets, \"r\") as f :\n",
    "    reader = csv.DictReader(f)\n",
    "    for line in reader :\n",
    "        if line[\"Orga\"] == \"ARC5\" and line[\"Type\"] == \"ADR\" :\n",
    "            theses_axes.append(line[\"Axe\"])\n",
    "            theses_villes.append(line[\"Ville\"])\n",
    "\n",
    "show_table(\"### Quels axes pour les thèses ?\", theses_axes )"
   ]
  },
  {
   "cell_type": "code",
   "execution_count": null,
   "metadata": {
    "collapsed": false
   },
   "outputs": [],
   "source": []
  },
  {
   "cell_type": "markdown",
   "metadata": {},
   "source": [
    "## Les Projets de Recherche\n",
    "\n",
    "A part les Allocations de Recherche Doctorale, l'ARC5 a également financé des projets sur la période 2012-2013. Voici les résultats concernant ces projets, dits projets d'animations.\n"
   ]
  },
  {
   "cell_type": "code",
   "execution_count": 145,
   "metadata": {
    "collapsed": false
   },
   "outputs": [
    {
     "data": {
      "text/markdown": [
       "## Projets"
      ],
      "text/plain": [
       "<IPython.core.display.Markdown object>"
      ]
     },
     "metadata": {},
     "output_type": "display_data"
    },
    {
     "data": {
      "text/markdown": [
       "### Combien y a-t-il de projets au total ? "
      ],
      "text/plain": [
       "<IPython.core.display.Markdown object>"
      ]
     },
     "metadata": {},
     "output_type": "display_data"
    },
    {
     "name": "stdout",
     "output_type": "stream",
     "text": [
      "67 projets\n"
     ]
    },
    {
     "data": {
      "text/markdown": [
       "### Quelles sont les établissement gestionnaire des thèses ?"
      ],
      "text/plain": [
       "<IPython.core.display.Markdown object>"
      ]
     },
     "metadata": {},
     "output_type": "display_data"
    },
    {
     "data": {
      "text/markdown": [
       "| | Nom | Quantité |\n",
       "| --- | --- | --- |\n",
       "| 0 | UNIVERSITE STENDHAL GRENOBLE - 3 | 14 | \n",
       "| 1 | ENS LYON (Ecole normale supérieure de Lyon) | 12 | \n",
       "| 2 | UNIVERSITE LUMIERE - LYON 2 | 8 | \n",
       "| 3 | UNIVERSITE PIERRE MENDES FRANCE - GRENOBLE 2 | 8 | \n",
       "| 4 | CNRS - Centre national de la recherche scientifique (Délégation Auvergne Rhône-Alpes) | 8 | \n",
       "| 5 | UNIVERSITE JEAN MONNET - SAINT ETIENNE | 4 | \n",
       "| 6 | UNIVERSITE DE SAVOIE | 3 | \n",
       "| 7 | UNIVERSITE JEAN MOULIN LYON 3 | 2 | \n",
       "| 8 | IEP GRENOBLE (Institut d’Etudes Politiques de Grenoble) | 2 | \n",
       "| 9 | ENSSIB (École nationale supérieure des sciences de l'information et des bibliothèques) | 2 | \n",
       "| 10 | UNIVERSITE JOSEPH FOURIER - GRENOBLE 1  | 1 | \n",
       "| 11 | Université Jean Moulin - LYON 3 | 1 | \n",
       "| 12 | INSA LYON (Institut national des sciences appliquées de Lyon) | 1 | \n",
       "| 13 | UNIVERSITE CLAUDE BERNARD - LYON 1 | 1 | \n"
      ],
      "text/plain": [
       "<IPython.core.display.Markdown object>"
      ]
     },
     "metadata": {},
     "output_type": "display_data"
    },
    {
     "data": {
      "text/markdown": [
       "### A quelles villes sont rattachées ces projets ?"
      ],
      "text/plain": [
       "<IPython.core.display.Markdown object>"
      ]
     },
     "metadata": {},
     "output_type": "display_data"
    },
    {
     "data": {
      "text/markdown": [
       "| | Nom | Quantité |\n",
       "| --- | --- | --- |\n",
       "| 0 | Lyon | 33 | \n",
       "| 1 | Grenoble | 27 | \n",
       "| 2 | Saint-Etienne | 4 | \n",
       "| 3 | Chambery | 3 | \n"
      ],
      "text/plain": [
       "<IPython.core.display.Markdown object>"
      ]
     },
     "metadata": {},
     "output_type": "display_data"
    },
    {
     "data": {
      "text/markdown": [
       "### Quels laboratoires  encadrent ces thèses ?"
      ],
      "text/plain": [
       "<IPython.core.display.Markdown object>"
      ]
     },
     "metadata": {},
     "output_type": "display_data"
    },
    {
     "data": {
      "text/markdown": [
       "| | Nom | Quantité |\n",
       "| --- | --- | --- |\n",
       "| 0 | LIRE (Littérature, Idéologies et Représentations aux XVIIIe et XIXe siècles) | 6 | \n",
       "| 1 | LIDILEM (Laboratoire de Linguistique et Didactique des Langues Etrangères et Maternelles) | 4 | \n",
       "| 2 | IHPC (Institut d'Histoire de la Pensée classique, de l'Humanisme aux Lumières - UMR 5037) | 4 | \n",
       "| 3 | Pacte - Politiques publiques, ACtion politique, TErritoires (UMR 5194) | 4 | \n",
       "| 4 | Centre Max Weber (Laboratoire de sociologie) UMR 5283 | 4 | \n",
       "| 5 | HISOMA - Histoire et Sources des Mondes Antiques | 3 | \n",
       "| 6 | Philosophie, Langages & cognition | 2 | \n",
       "| 7 | Passages XX-XXI (EA 4160) | 2 | \n",
       "| 8 | ELICO (Équipe de recherche de Lyon en sciences de l'Information et de la COmmunication) | 2 | \n",
       "| 9 | LARHRA (Laboratoire de Recherche Historique Rhône-Alpes) | 2 | \n",
       "| 10 | TRAVERSES 19-21 (EA 3748) | 2 | \n",
       "| 11 | S2HEP - Sciences, société, Historicité, Education, Pratiques | 2 | \n",
       "| 12 | GRESEC (Groupe de Recherche sur les Enjeux de la Communication ) | 2 | \n",
       "| 13 | ICAR (Interactions, Corpus, Apprentissages, Représentations) | 2 | \n",
       "| 14 | GIPSA-Lab (Images Parole Signal Automatique) UMR 5216 | 2 | \n",
       "| 15 | PLC (Philosophie, Langages & cognition) | 2 | \n",
       "| 16 | CRHIPA - Centre de Recherches en Histoire et histoire de l'art, Italie, Pays Alpins, interactions internationales | 2 | \n",
       "| 17 | LLS (Langages, Littératures, Sociétés - EA 3706) | 2 | \n",
       "| 18 | USR 3439 MSH  | 1 | \n",
       "| 19 | EMC2 - LSG (Emotion Médiation Culture Connaissance - Laboratoire de sociologie de Grenoble) | 1 | \n",
       "| 20 | ERIC - Entrepôts, Représentation et Ingénierie des Connaissances | 1 | \n",
       "| 21 | CEMRA (EA3016) | 1 | \n",
       "| 22 | HISOMA (Histoire et Sources des Mondes Antiques – UMR 5189) | 1 | \n",
       "| 23 | LIRIS (Laboratoire d'informatique en images et systèmes d'information) | 1 | \n",
       "| 24 | Laboratoire de Physique | 1 | \n",
       "| 25 | CIEREC (Centre Interdisciplinaire d’Études et de Recherches sur l’Expression Contemporaine) | 1 | \n",
       "| 26 | IRPHIL - Institut de Recherches Philosophiques de Lyon | 1 | \n",
       "| 27 | Centre d'Epistémologie des Sciences Cognitives, UMR5037 | 1 | \n",
       "| 28 | RARE (rhétorique de l’antiquité à la révolution) | 1 | \n",
       "| 29 | EVS - Environnement Ville Société | 1 | \n",
       "| 30 | LSE - Laboratoire des Sciences de l'Éducation | 1 | \n",
       "| 31 | Institut Fourier (Laboratoire de mathématiques - UMR 5582) | 1 | \n",
       "| 32 | RARE (rhétorique de l’antiquité à la révolution)  | 1 | \n",
       "| 33 | GATE (Groupe d'Analyse et de Théorie Economique) | 1 | \n",
       "| 34 | IAO (Institut d’Asie orientale - UMR 5062) | 1 | \n",
       "| 35 | IREGE (Institut de Recherche en Gestion et en Économie) | 1 | \n"
      ],
      "text/plain": [
       "<IPython.core.display.Markdown object>"
      ]
     },
     "metadata": {},
     "output_type": "display_data"
    }
   ],
   "source": [
    "fichier_theses = \"../final/ARC5-Final - ARC5-projets.csv\"\n",
    "\n",
    "etablissements_projets = []\n",
    "labos_projets = []\n",
    "villes_projets = []\n",
    "\n",
    "with open( fichier_theses, \"r\") as f :\n",
    "    reader = csv.DictReader(f)\n",
    "    for i, line in enumerate(reader) :\n",
    "        etablissements_projets.append(line[\"Etablissements de tutelle\"])\n",
    "        labos_projets.append(line[\"Laboratoire\"])\n",
    "        villes_projets.append(line[\"Ville\"])\n",
    "\n",
    "\n",
    "display(Markdown(\"## Projets\"))\n",
    "\n",
    "display(Markdown(\"### Combien y a-t-il de projets au total ? \"))\n",
    "print \"%s projets\"%(i+1) \n",
    "\n",
    "show_table(\"### Quelles sont les établissement gestionnaire des thèses ?\", etablissements_projets)\n",
    "    \n",
    "show_table(\"### A quelles villes sont rattachées ces projets ?\", villes_projets )\n",
    "\n",
    "show_table(\"### Quels laboratoires  encadrent ces thèses ?\", labos_projets)"
   ]
  },
  {
   "cell_type": "code",
   "execution_count": 146,
   "metadata": {
    "collapsed": false
   },
   "outputs": [
    {
     "data": {
      "text/markdown": [
       "### Quels axes pour les projets ?"
      ],
      "text/plain": [
       "<IPython.core.display.Markdown object>"
      ]
     },
     "metadata": {},
     "output_type": "display_data"
    },
    {
     "data": {
      "text/markdown": [
       "| | Nom | Quantité |\n",
       "| --- | --- | --- |\n",
       "| 0 | Axe 1 : Cultures au pluriel | 27 | \n",
       "| 1 | Axe  3 : Sciences et techniques : cultures pratiques représentations | 15 | \n",
       "| 2 | Axe 2 : Cultures numériques | 12 | \n"
      ],
      "text/plain": [
       "<IPython.core.display.Markdown object>"
      ]
     },
     "metadata": {},
     "output_type": "display_data"
    }
   ],
   "source": [
    "# load main file with corrections\n",
    "fichier_projets = \"../final/ARC5-Final - Projets (tous).csv\"\n",
    "\n",
    "theses_axes = []\n",
    "theses_villes = []\n",
    "\n",
    "with open( fichier_projets, \"r\") as f :\n",
    "    reader = csv.DictReader(f)\n",
    "    for line in reader :\n",
    "        if line[\"Orga\"] == \"ARC5\" and line[\"Type\"] == \"projet\" :\n",
    "            theses_axes.append(line[\"Axe\"])\n",
    "            theses_villes.append(line[\"Ville\"])\n",
    "\n",
    "show_table(\"### Quels axes pour les projets ?\", theses_axes )"
   ]
  },
  {
   "cell_type": "code",
   "execution_count": 147,
   "metadata": {
    "collapsed": false
   },
   "outputs": [
    {
     "data": {
      "text/markdown": [
       "### Liste des projets de recherche (d'après le graphe)"
      ],
      "text/plain": [
       "<IPython.core.display.Markdown object>"
      ]
     },
     "metadata": {},
     "output_type": "display_data"
    },
    {
     "name": "stdout",
     "output_type": "stream",
     "text": [
      "54 projets\n"
     ]
    },
    {
     "data": {
      "text/markdown": [
       "**Les voyageuses britanniques à Lyon au XVIIIe siècle : regards sur une ville en mutation **\n",
       "\n",
       "* total liens : 9 \n",
       "* type de liens  : Counter({'patrimoine': 4, 'laboratoire': 2, 'projet': 1, 'etablissement': 1, 'm\\xc3\\xa9diation': 1}) \n",
       "* nombre de labos partenaires : 2 \n",
       "* nombre total de partenaires (hors labo et etablissements) : 5\n",
       "* nombre total d'etablissements (hors labo) : 1\n",
       "* villes impliquées : 0\n",
       "---------------\n",
       "\n",
       "**Saint-Simon et les saint-simoniens : questions d’économie, d’histoire et de littérature**\n",
       "\n",
       "* total liens : 6 \n",
       "* type de liens  : Counter({'patrimoine': 3, 'cr\\xc3\\xa9ation': 1, 'laboratoire': 1, 'etablissement': 1}) \n",
       "* nombre de labos partenaires : 1 \n",
       "* nombre total de partenaires (hors labo et etablissements) : 4\n",
       "* nombre total d'etablissements (hors labo) : 1\n",
       "* villes impliquées : 0\n",
       "---------------\n",
       "\n",
       "**Les voyageuses britanniques à Lyon au XVIIIe siècle : regards sur une ville en mutation (2ème partie) **\n",
       "\n",
       "* total liens : 4 \n",
       "* type de liens  : Counter({'laboratoire': 2, 'projet': 1, 'etablissement': 1}) \n",
       "* nombre de labos partenaires : 2 \n",
       "* nombre total de partenaires (hors labo et etablissements) : 0\n",
       "* nombre total d'etablissements (hors labo) : 1\n",
       "* villes impliquées : 0\n",
       "---------------\n",
       "\n",
       "**Les Pensées de Montesquieu, centre intellectuel des Lumières**\n",
       "\n",
       "* total liens : 2 \n",
       "* type de liens  : Counter({'laboratoire': 1, 'etablissement': 1}) \n",
       "* nombre de labos partenaires : 1 \n",
       "* nombre total de partenaires (hors labo et etablissements) : 0\n",
       "* nombre total d'etablissements (hors labo) : 1\n",
       "* villes impliquées : 0\n",
       "---------------\n",
       "\n",
       "**Human enhancement' et anthropotechnie : entre réalité et fiction**\n",
       "\n",
       "* total liens : 2 \n",
       "* type de liens  : Counter({'laboratoire': 1, 'etablissement': 1}) \n",
       "* nombre de labos partenaires : 1 \n",
       "* nombre total de partenaires (hors labo et etablissements) : 0\n",
       "* nombre total d'etablissements (hors labo) : 1\n",
       "* villes impliquées : 0\n",
       "---------------\n",
       "\n",
       "**Approche pluridisciplinaire de l'interaction personne-robot**\n",
       "\n",
       "* total liens : 3 \n",
       "* type de liens  : Counter({'laboratoire': 1, '\\xc3\\xa9conomique': 1, 'etablissement': 1}) \n",
       "* nombre de labos partenaires : 1 \n",
       "* nombre total de partenaires (hors labo et etablissements) : 1\n",
       "* nombre total d'etablissements (hors labo) : 1\n",
       "* villes impliquées : 0\n",
       "---------------\n",
       "\n",
       "**Le monastère royal de Brou : un foyer d'art international au temps des renaissances**\n",
       "\n",
       "* total liens : 4 \n",
       "* type de liens  : Counter({'ADR': 1, 'etablissement': 1, 'patrimoine': 1, 'laboratoire': 1}) \n",
       "* nombre de labos partenaires : 1 \n",
       "* nombre total de partenaires (hors labo et etablissements) : 1\n",
       "* nombre total d'etablissements (hors labo) : 1\n",
       "* villes impliquées : 0\n",
       "---------------\n",
       "\n",
       "**Prescription et recommandation culturelles à l'ère numérique**\n",
       "\n",
       "* total liens : 13 \n",
       "* type de liens  : Counter({'patrimoine': 4, 'cr\\xc3\\xa9ation': 3, 'm\\xc3\\xa9diation': 3, 'laboratoire': 1, 'etablissement': 1, '\\xc3\\xa9conomique': 1}) \n",
       "* nombre de labos partenaires : 1 \n",
       "* nombre total de partenaires (hors labo et etablissements) : 11\n",
       "* nombre total d'etablissements (hors labo) : 1\n",
       "* villes impliquées : 0\n",
       "---------------\n",
       "\n",
       "**Vers une théorie des concepts : l'apport des sciences cognitives**\n",
       "\n",
       "* total liens : 4 \n",
       "* type de liens  : Counter({'laboratoire': 2, 'projet': 1, 'etablissement': 1}) \n",
       "* nombre de labos partenaires : 2 \n",
       "* nombre total de partenaires (hors labo et etablissements) : 0\n",
       "* nombre total d'etablissements (hors labo) : 1\n",
       "* villes impliquées : 0\n",
       "---------------\n",
       "\n",
       "**\"Nouvelles\" organisations du travail en compagnie : quelles possibilités pour le spectacle vivant ?**\n",
       "\n",
       "* total liens : 6 \n",
       "* type de liens  : Counter({'m\\xc3\\xa9diation': 2, 'laboratoire': 1, 'enseignement': 1, 'cr\\xc3\\xa9ation': 1, 'etablissement': 1}) \n",
       "* nombre de labos partenaires : 1 \n",
       "* nombre total de partenaires (hors labo et etablissements) : 4\n",
       "* nombre total d'etablissements (hors labo) : 1\n",
       "* villes impliquées : 0\n",
       "---------------\n",
       "\n",
       "**MutEC : Mutualisation de pratiques pour les corpus et les éditions critiques numériques**\n",
       "\n",
       "* total liens : 2 \n",
       "* type de liens  : Counter({'laboratoire': 1, 'etablissement': 1}) \n",
       "* nombre de labos partenaires : 1 \n",
       "* nombre total de partenaires (hors labo et etablissements) : 0\n",
       "* nombre total d'etablissements (hors labo) : 1\n",
       "* villes impliquées : 0\n",
       "---------------\n",
       "\n",
       "**Conscience linguistique et pluralité de langues dans l'arc alpin : langue régionales, nationales, internationales**\n",
       "\n",
       "* total liens : 2 \n",
       "* type de liens  : Counter({'laboratoire': 1, 'etablissement': 1}) \n",
       "* nombre de labos partenaires : 1 \n",
       "* nombre total de partenaires (hors labo et etablissements) : 0\n",
       "* nombre total d'etablissements (hors labo) : 1\n",
       "* villes impliquées : 0\n",
       "---------------\n",
       "\n",
       "**Epistêknê - Projet d’animation en vue de la création d’un GDR-CNRS Autour des processus de création-production dans les rapports Arts-Sciences-Techniques**\n",
       "\n",
       "* total liens : 8 \n",
       "* type de liens  : Counter({'laboratoire': 2, 'cr\\xc3\\xa9ation': 2, 'ADR': 2, 'etablissement': 1, 'localit\\xc3\\xa9': 1}) \n",
       "* nombre de labos partenaires : 2 \n",
       "* nombre total de partenaires (hors labo et etablissements) : 3\n",
       "* nombre total d'etablissements (hors labo) : 1\n",
       "* villes impliquées : 0\n",
       "---------------\n",
       "\n",
       "**Les langues et le genre (grammaires, cultures, littératures)**\n",
       "\n",
       "* total liens : 3 \n",
       "* type de liens  : Counter({'laboratoire': 1, 'etablissement': 1, 'patrimoine': 1}) \n",
       "* nombre de labos partenaires : 1 \n",
       "* nombre total de partenaires (hors labo et etablissements) : 1\n",
       "* nombre total d'etablissements (hors labo) : 1\n",
       "* villes impliquées : 0\n",
       "---------------\n",
       "\n",
       "**Le livre à Lyon à la Renaissance**\n",
       "\n",
       "* total liens : 4 \n",
       "* type de liens  : Counter({'laboratoire': 2, 'projet': 1, 'etablissement': 1}) \n",
       "* nombre de labos partenaires : 2 \n",
       "* nombre total de partenaires (hors labo et etablissements) : 0\n",
       "* nombre total d'etablissements (hors labo) : 1\n",
       "* villes impliquées : 0\n",
       "---------------\n",
       "\n",
       "**CORrespondance de Paolo SARpi**\n",
       "\n",
       "* total liens : 5 \n",
       "* type de liens  : Counter({'laboratoire': 1, 'cr\\xc3\\xa9ation': 1, 'patrimoine': 1, 'm\\xc3\\xa9diation': 1, 'etablissement': 1}) \n",
       "* nombre de labos partenaires : 1 \n",
       "* nombre total de partenaires (hors labo et etablissements) : 3\n",
       "* nombre total d'etablissements (hors labo) : 1\n",
       "* villes impliquées : 0\n",
       "---------------\n",
       "\n",
       "**Science et technique en fictions, quels regards portés par les jeunes ?**\n",
       "\n",
       "* total liens : 4 \n",
       "* type de liens  : Counter({'laboratoire': 1, 'etablissement': 1, 'patrimoine': 1, 'cst': 1}) \n",
       "* nombre de labos partenaires : 1 \n",
       "* nombre total de partenaires (hors labo et etablissements) : 2\n",
       "* nombre total d'etablissements (hors labo) : 1\n",
       "* villes impliquées : 0\n",
       "---------------\n",
       "\n",
       "**La réprésentation de la norme en Allemagne : de la pensée au cinéma**\n",
       "\n",
       "* total liens : 8 \n",
       "* type de liens  : Counter({'m\\xc3\\xa9diation': 3, 'laboratoire': 1, 'etablissement': 1, 'patrimoine': 1, 'cr\\xc3\\xa9ation': 1, 'localit\\xc3\\xa9': 1}) \n",
       "* nombre de labos partenaires : 1 \n",
       "* nombre total de partenaires (hors labo et etablissements) : 6\n",
       "* nombre total d'etablissements (hors labo) : 1\n",
       "* villes impliquées : 0\n",
       "---------------\n",
       "\n",
       "**Atelier Internet Lyonnais (AIL)**\n",
       "\n",
       "* total liens : 3 \n",
       "* type de liens  : Counter({'laboratoire': 1, 'etablissement': 1, 'm\\xc3\\xa9diation': 1}) \n",
       "* nombre de labos partenaires : 1 \n",
       "* nombre total de partenaires (hors labo et etablissements) : 1\n",
       "* nombre total d'etablissements (hors labo) : 1\n",
       "* villes impliquées : 0\n",
       "---------------\n",
       "\n",
       "**CLELIA 2 : du fonds de manuscrits de Stendhal à d'autres corpus rhône-alpins, valorisation d'une mémoire culturelle collective par l’édition électronique. **\n",
       "\n",
       "* total liens : 13 \n",
       "* type de liens  : Counter({'patrimoine': 6, 'laboratoire': 2, 'm\\xc3\\xa9diation': 2, 'ADR': 1, 'etablissement': 1, 'projet': 1}) \n",
       "* nombre de labos partenaires : 2 \n",
       "* nombre total de partenaires (hors labo et etablissements) : 8\n",
       "* nombre total d'etablissements (hors labo) : 1\n",
       "* villes impliquées : 0\n",
       "---------------\n",
       "\n",
       "**Les formes du débat. Querelles, polémiques et controverses à l’âge classique**\n",
       "\n",
       "* total liens : 7 \n",
       "* type de liens  : Counter({'laboratoire': 2, 'patrimoine': 2, 'ADR': 1, 'cr\\xc3\\xa9ation': 1, 'etablissement': 1}) \n",
       "* nombre de labos partenaires : 2 \n",
       "* nombre total de partenaires (hors labo et etablissements) : 3\n",
       "* nombre total d'etablissements (hors labo) : 1\n",
       "* villes impliquées : 0\n",
       "---------------\n",
       "\n",
       "**Mythes et idéologies chez Homère et dans la poésie post-homérique**\n",
       "\n",
       "* total liens : 2 \n",
       "* type de liens  : Counter({'laboratoire': 1, 'etablissement': 1}) \n",
       "* nombre de labos partenaires : 1 \n",
       "* nombre total de partenaires (hors labo et etablissements) : 0\n",
       "* nombre total d'etablissements (hors labo) : 1\n",
       "* villes impliquées : 0\n",
       "---------------\n",
       "\n",
       "**MARA. Monnaie antique en Rhône-Alpes : du document monétaire à son exploitation **\n",
       "\n",
       "* total liens : 3 \n",
       "* type de liens  : Counter({'laboratoire': 1, 'postdoc': 1, 'etablissement': 1}) \n",
       "* nombre de labos partenaires : 1 \n",
       "* nombre total de partenaires (hors labo et etablissements) : 0\n",
       "* nombre total d'etablissements (hors labo) : 1\n",
       "* villes impliquées : 0\n",
       "---------------\n",
       "\n",
       "**Archives cinématographiques en Rhône-Alpes : entre documents et création**\n",
       "\n",
       "* total liens : 8 \n",
       "* type de liens  : Counter({'cr\\xc3\\xa9ation': 4, 'patrimoine': 1, 'enseignement': 1, 'etablissement': 1, 'laboratoire': 1}) \n",
       "* nombre de labos partenaires : 1 \n",
       "* nombre total de partenaires (hors labo et etablissements) : 6\n",
       "* nombre total d'etablissements (hors labo) : 1\n",
       "* villes impliquées : 0\n",
       "---------------\n",
       "\n",
       "**Economie de l’attention et enchantements médiatiques**\n",
       "\n",
       "* total liens : 7 \n",
       "* type de liens  : Counter({'cr\\xc3\\xa9ation': 2, 'laboratoire': 2, 'cst': 1, 'ADR': 1, 'etablissement': 1}) \n",
       "* nombre de labos partenaires : 2 \n",
       "* nombre total de partenaires (hors labo et etablissements) : 3\n",
       "* nombre total d'etablissements (hors labo) : 1\n",
       "* villes impliquées : 0\n",
       "---------------\n",
       "\n",
       "**Les nouvelles formes de la communication et de la culture scientifiques et techniques **\n",
       "\n",
       "* total liens : 7 \n",
       "* type de liens  : Counter({'m\\xc3\\xa9diation': 3, 'cst': 1, 'cr\\xc3\\xa9ation': 1, 'etablissement': 1, 'laboratoire': 1}) \n",
       "* nombre de labos partenaires : 1 \n",
       "* nombre total de partenaires (hors labo et etablissements) : 5\n",
       "* nombre total d'etablissements (hors labo) : 1\n",
       "* villes impliquées : 0\n",
       "---------------\n",
       "\n",
       "**Valorisation multi-facettes d'inscriptions antiques : épigraphie et médiations numériques**\n",
       "\n",
       "* total liens : 7 \n",
       "* type de liens  : Counter({'patrimoine': 3, 'laboratoire': 2, 'projet': 1, 'etablissement': 1}) \n",
       "* nombre de labos partenaires : 2 \n",
       "* nombre total de partenaires (hors labo et etablissements) : 3\n",
       "* nombre total d'etablissements (hors labo) : 1\n",
       "* villes impliquées : 0\n",
       "---------------\n",
       "\n",
       "**Monnaie impériale et corpus numismatique en Rhône-Alpes **\n",
       "\n",
       "* total liens : 2 \n",
       "* type de liens  : Counter({'laboratoire': 1, 'etablissement': 1}) \n",
       "* nombre de labos partenaires : 1 \n",
       "* nombre total de partenaires (hors labo et etablissements) : 0\n",
       "* nombre total d'etablissements (hors labo) : 1\n",
       "* villes impliquées : 0\n",
       "---------------\n",
       "\n",
       "**Cholon 2014 : Visualisation de la sauvegarde du patrimoine d'un quartier d'Ho Chi Minh-Ville**\n",
       "\n",
       "* total liens : 3 \n",
       "* type de liens  : Counter({'laboratoire': 1, 'etablissement': 1, 'm\\xc3\\xa9diation': 1}) \n",
       "* nombre de labos partenaires : 1 \n",
       "* nombre total de partenaires (hors labo et etablissements) : 1\n",
       "* nombre total d'etablissements (hors labo) : 1\n",
       "* villes impliquées : 0\n",
       "---------------\n",
       "\n",
       "**Modéliser en classe : défis scientifiques, enjeux pratiques**\n",
       "\n",
       "* total liens : 2 \n",
       "* type de liens  : Counter({'laboratoire': 1, 'etablissement': 1}) \n",
       "* nombre de labos partenaires : 1 \n",
       "* nombre total de partenaires (hors labo et etablissements) : 0\n",
       "* nombre total d'etablissements (hors labo) : 1\n",
       "* villes impliquées : 0\n",
       "---------------\n",
       "\n",
       "**L'offre de livres numériques à destination des bibliothèques de lecture publique**\n",
       "\n",
       "* total liens : 3 \n",
       "* type de liens  : Counter({'laboratoire': 1, 'etablissement': 1, 'm\\xc3\\xa9diation': 1}) \n",
       "* nombre de labos partenaires : 1 \n",
       "* nombre total de partenaires (hors labo et etablissements) : 1\n",
       "* nombre total d'etablissements (hors labo) : 1\n",
       "* villes impliquées : 0\n",
       "---------------\n",
       "\n",
       "**Séminaire : Ecrire les modernités arabes**\n",
       "\n",
       "* total liens : 5 \n",
       "* type de liens  : Counter({'m\\xc3\\xa9diation': 3, 'laboratoire': 1, 'etablissement': 1}) \n",
       "* nombre de labos partenaires : 1 \n",
       "* nombre total de partenaires (hors labo et etablissements) : 3\n",
       "* nombre total d'etablissements (hors labo) : 1\n",
       "* villes impliquées : 0\n",
       "---------------\n",
       "\n",
       "**SOCIO**\n",
       "\n",
       "* total liens : 5 \n",
       "* type de liens  : Counter({'cr\\xc3\\xa9ation': 2, 'cst': 1, 'etablissement': 1, 'laboratoire': 1}) \n",
       "* nombre de labos partenaires : 1 \n",
       "* nombre total de partenaires (hors labo et etablissements) : 3\n",
       "* nombre total d'etablissements (hors labo) : 1\n",
       "* villes impliquées : 0\n",
       "---------------\n",
       "\n",
       "**Chaînes Editoriales Patrimoniales : Corpus Electroniques et Papier (CEP2)**\n",
       "\n",
       "* total liens : 14 \n",
       "* type de liens  : Counter({'patrimoine': 6, 'm\\xc3\\xa9diation': 3, 'laboratoire': 2, 'ADR': 1, 'etablissement': 1, 'projet': 1}) \n",
       "* nombre de labos partenaires : 2 \n",
       "* nombre total de partenaires (hors labo et etablissements) : 9\n",
       "* nombre total d'etablissements (hors labo) : 1\n",
       "* villes impliquées : 0\n",
       "---------------\n",
       "\n",
       "**Fabula agitur! Théâtre et apprentissage des langues anciennes**\n",
       "\n",
       "* total liens : 2 \n",
       "* type de liens  : Counter({'laboratoire': 1, 'etablissement': 1}) \n",
       "* nombre de labos partenaires : 1 \n",
       "* nombre total de partenaires (hors labo et etablissements) : 0\n",
       "* nombre total d'etablissements (hors labo) : 1\n",
       "* villes impliquées : 0\n",
       "---------------\n",
       "\n",
       "**L'Europe des controverses à l'âge classique. Radicalité et circulation des idées en Europe (XVIIe-XVIIIe siècles)**\n",
       "\n",
       "* total liens : 4 \n",
       "* type de liens  : Counter({'laboratoire': 2, 'projet': 1, 'etablissement': 1}) \n",
       "* nombre de labos partenaires : 2 \n",
       "* nombre total de partenaires (hors labo et etablissements) : 0\n",
       "* nombre total d'etablissements (hors labo) : 1\n",
       "* villes impliquées : 0\n",
       "---------------\n",
       "\n",
       "**Les nouvelles formes de la communication et de la culture scientifiques et techniques (2e volet)**\n",
       "\n",
       "* total liens : 4 \n",
       "* type de liens  : Counter({'ADR': 2, 'laboratoire': 1, 'etablissement': 1}) \n",
       "* nombre de labos partenaires : 1 \n",
       "* nombre total de partenaires (hors labo et etablissements) : 0\n",
       "* nombre total d'etablissements (hors labo) : 1\n",
       "* villes impliquées : 0\n",
       "---------------\n",
       "\n",
       "**Des nouvelles disciplines scientifiques – exemples et leçons.**\n",
       "\n",
       "* total liens : 2 \n",
       "* type de liens  : Counter({'laboratoire': 1, 'etablissement': 1}) \n",
       "* nombre de labos partenaires : 1 \n",
       "* nombre total de partenaires (hors labo et etablissements) : 0\n",
       "* nombre total d'etablissements (hors labo) : 1\n",
       "* villes impliquées : 0\n",
       "---------------\n",
       "\n",
       "**Groupe de travail et colloque international : « Itinéraires de Reconnaissance. Espaces culturels et aspirations minoritaires »**\n",
       "\n",
       "* total liens : 8 \n",
       "* type de liens  : Counter({'laboratoire': 2, 'm\\xc3\\xa9diation': 2, 'localit\\xc3\\xa9': 2, 'projet': 1, 'etablissement': 1}) \n",
       "* nombre de labos partenaires : 2 \n",
       "* nombre total de partenaires (hors labo et etablissements) : 4\n",
       "* nombre total d'etablissements (hors labo) : 1\n",
       "* villes impliquées : 0\n",
       "---------------\n",
       "\n",
       "**Neuroéthique et Philosophie**\n",
       "\n",
       "* total liens : 4 \n",
       "* type de liens  : Counter({'laboratoire': 2, 'projet': 1, 'etablissement': 1}) \n",
       "* nombre de labos partenaires : 2 \n",
       "* nombre total de partenaires (hors labo et etablissements) : 0\n",
       "* nombre total d'etablissements (hors labo) : 1\n",
       "* villes impliquées : 0\n",
       "---------------\n",
       "\n",
       "**Esthétisation de l'espace public et tournant culturel des métropoles (ESTHER)**\n",
       "\n",
       "* total liens : 3 \n",
       "* type de liens  : Counter({'laboratoire': 1, 'etablissement': 1, 'm\\xc3\\xa9diation': 1}) \n",
       "* nombre de labos partenaires : 1 \n",
       "* nombre total de partenaires (hors labo et etablissements) : 1\n",
       "* nombre total d'etablissements (hors labo) : 1\n",
       "* villes impliquées : 0\n",
       "---------------\n",
       "\n",
       "**Le développement des ressources minières dans les Amériques : mutations d'un continent (Projet également déposé dans le cadre de l'ARC 3) **\n",
       "\n",
       "* total liens : 5 \n",
       "* type de liens  : Counter({'laboratoire': 1, 'cr\\xc3\\xa9ation': 1, 'patrimoine': 1, 'm\\xc3\\xa9diation': 1, 'etablissement': 1}) \n",
       "* nombre de labos partenaires : 1 \n",
       "* nombre total de partenaires (hors labo et etablissements) : 3\n",
       "* nombre total d'etablissements (hors labo) : 1\n",
       "* villes impliquées : 0\n",
       "---------------\n",
       "\n",
       "**L’e-culture en partage**\n",
       "\n",
       "* total liens : 6 \n",
       "* type de liens  : Counter({'cr\\xc3\\xa9ation': 2, 'patrimoine': 1, 'etablissement': 1, 'm\\xc3\\xa9diation': 1, 'laboratoire': 1}) \n",
       "* nombre de labos partenaires : 1 \n",
       "* nombre total de partenaires (hors labo et etablissements) : 4\n",
       "* nombre total d'etablissements (hors labo) : 1\n",
       "* villes impliquées : 0\n",
       "---------------\n",
       "\n",
       "**Aux origines des cultures urbaines : les langages de la ville antique **\n",
       "\n",
       "* total liens : 3 \n",
       "* type de liens  : Counter({'laboratoire': 1, 'cr\\xc3\\xa9ation': 1, 'etablissement': 1}) \n",
       "* nombre de labos partenaires : 1 \n",
       "* nombre total de partenaires (hors labo et etablissements) : 1\n",
       "* nombre total d'etablissements (hors labo) : 1\n",
       "* villes impliquées : 0\n",
       "---------------\n",
       "\n",
       "**Itinéraires de reconnaissance, espaces culturels et aspirations minoritaires**\n",
       "\n",
       "* total liens : 4 \n",
       "* type de liens  : Counter({'laboratoire': 2, 'projet': 1, 'etablissement': 1}) \n",
       "* nombre de labos partenaires : 2 \n",
       "* nombre total de partenaires (hors labo et etablissements) : 0\n",
       "* nombre total d'etablissements (hors labo) : 1\n",
       "* villes impliquées : 0\n",
       "---------------\n",
       "\n",
       "**Modélisation participative des grandes bases de données sociales**\n",
       "\n",
       "* total liens : 2 \n",
       "* type de liens  : Counter({'laboratoire': 1, 'etablissement': 1}) \n",
       "* nombre de labos partenaires : 1 \n",
       "* nombre total de partenaires (hors labo et etablissements) : 0\n",
       "* nombre total d'etablissements (hors labo) : 1\n",
       "* villes impliquées : 0\n",
       "---------------\n",
       "\n",
       "**Cinéma d'animation : un héritage en partage**\n",
       "\n",
       "* total liens : 6 \n",
       "* type de liens  : Counter({'patrimoine': 3, 'laboratoire': 1, 'etablissement': 1, 'm\\xc3\\xa9diation': 1}) \n",
       "* nombre de labos partenaires : 1 \n",
       "* nombre total de partenaires (hors labo et etablissements) : 4\n",
       "* nombre total d'etablissements (hors labo) : 1\n",
       "* villes impliquées : 0\n",
       "---------------\n",
       "\n",
       "**Inventaire toponymique du massif de la Chartreuse**\n",
       "\n",
       "* total liens : 3 \n",
       "* type de liens  : Counter({'laboratoire': 1, 'etablissement': 1, 'm\\xc3\\xa9diation': 1}) \n",
       "* nombre de labos partenaires : 1 \n",
       "* nombre total de partenaires (hors labo et etablissements) : 1\n",
       "* nombre total d'etablissements (hors labo) : 1\n",
       "* villes impliquées : 0\n",
       "---------------\n",
       "\n",
       "**Étude et valorisation du Fonds Paul-Martial (1927-1960)**\n",
       "\n",
       "* total liens : 8 \n",
       "* type de liens  : Counter({'ADR': 2, 'laboratoire': 2, 'patrimoine': 2, 'enseignement': 1, 'etablissement': 1}) \n",
       "* nombre de labos partenaires : 2 \n",
       "* nombre total de partenaires (hors labo et etablissements) : 3\n",
       "* nombre total d'etablissements (hors labo) : 1\n",
       "* villes impliquées : 0\n",
       "---------------\n",
       "\n",
       "**La naissance d'un genre : le roman d'anticipation au tournant du XIXe siècle (1860-1930)**\n",
       "\n",
       "* total liens : 4 \n",
       "* type de liens  : Counter({'laboratoire': 1, 'cr\\xc3\\xa9ation': 1, 'patrimoine': 1, 'etablissement': 1}) \n",
       "* nombre de labos partenaires : 1 \n",
       "* nombre total de partenaires (hors labo et etablissements) : 2\n",
       "* nombre total d'etablissements (hors labo) : 1\n",
       "* villes impliquées : 0\n",
       "---------------\n",
       "\n",
       "**Une approche communicationelle de l'activité physique : médiation scientifique numérique et santé publique**\n",
       "\n",
       "* total liens : 4 \n",
       "* type de liens  : Counter({'\\xc3\\xa9conomique': 1, 'laboratoire': 1, 'etablissement': 1, 'cr\\xc3\\xa9ation': 1}) \n",
       "* nombre de labos partenaires : 1 \n",
       "* nombre total de partenaires (hors labo et etablissements) : 2\n",
       "* nombre total d'etablissements (hors labo) : 1\n",
       "* villes impliquées : 0\n",
       "---------------\n",
       "\n",
       "**Atelier Sciences et voix (ASV)**\n",
       "\n",
       "* total liens : 6 \n",
       "* type de liens  : Counter({'enseignement': 2, 'laboratoire': 1, 'cr\\xc3\\xa9ation': 1, 'etablissement': 1, 'cst': 1}) \n",
       "* nombre de labos partenaires : 1 \n",
       "* nombre total de partenaires (hors labo et etablissements) : 4\n",
       "* nombre total d'etablissements (hors labo) : 1\n",
       "* villes impliquées : 0\n",
       "---------------\n",
       "\n",
       "**Voix-Corps-Langage, bien-être Homme/Animal, médiation et apprentissage**\n",
       "\n",
       "* total liens : 7 \n",
       "* type de liens  : Counter({'cr\\xc3\\xa9ation': 5, 'laboratoire': 1, 'etablissement': 1}) \n",
       "* nombre de labos partenaires : 1 \n",
       "* nombre total de partenaires (hors labo et etablissements) : 5\n",
       "* nombre total d'etablissements (hors labo) : 1\n",
       "* villes impliquées : 0\n",
       "---------------\n",
       "\n",
       "**Le livre italien à Lyon au XVIe siècle**\n",
       "\n",
       "* total liens : 7 \n",
       "* type de liens  : Counter({'laboratoire': 2, 'patrimoine': 2, 'projet': 1, 'etablissement': 1, 'm\\xc3\\xa9diation': 1}) \n",
       "* nombre de labos partenaires : 2 \n",
       "* nombre total de partenaires (hors labo et etablissements) : 3\n",
       "* nombre total d'etablissements (hors labo) : 1\n",
       "* villes impliquées : 0\n",
       "---------------\n",
       "\n"
      ],
      "text/plain": [
       "<IPython.core.display.Markdown object>"
      ]
     },
     "metadata": {},
     "output_type": "display_data"
    }
   ],
   "source": [
    "display(Markdown(\"### Liste des projets de recherche (d'après le graphe)\"))\n",
    "liste_projets = \"\"\n",
    "\n",
    "projets = [n for n in G_with_projects.nodes(data=True) if n[1][\"type\"] == \"projet\" and n[1][\"orga\"] == \"ARC5\"]\n",
    "print \"%s projets\"%len(projets)\n",
    "\n",
    "# Nombre de projets (cluster 13 et 14 puis ARC5)\n",
    "projets_partenaires = []\n",
    "projets_labos = []\n",
    "projets_etablissements = []\n",
    "projets_villes = []\n",
    "\n",
    "# Nombre de projets avec partenaires (socio-économiques et socio-culturels)\n",
    "for projet in projets:\n",
    "    \n",
    "    neighbors = G_with_projects.neighbors(projet[0])\n",
    "    liste_projets += \"**%s**\\n\\n\"%projet[1][\"name\"] \n",
    "    liste_projets += \"* total liens : %s \\n\"%len(neighbors)\n",
    "    liste_projets += \"* type de liens  : %s \\n\"%Counter([G_with_projects.node[n][\"type\"] for n in neighbors])\n",
    "    \n",
    "    labos = [ n for n in neighbors if G_with_projects.node[n][\"type\"] == \"laboratoire\" ]\n",
    "    projets_labos.append( labos )\n",
    "    projet[1][\"labos\"] = labos\n",
    "\n",
    "    liste_projets += \"* nombre de labos partenaires : %s \\n\"%len(labos)\n",
    "    \n",
    "    partenaires = [ n for n in neighbors if G_with_projects.node[n][\"type\"] not in [\"projet\",\"laboratoire\", \"ecole-doctorale\", \"etablissement\", \"ville\", \"projet\", \"ADR\", \"postdoc\" ] ]\n",
    "    projets_partenaires.append(partenaires)\n",
    "    liste_projets += \"* nombre total de partenaires (hors labo et etablissements) : %s\\n\"%len(partenaires)\n",
    "    \n",
    "    etablissements = [ n for n in neighbors if G_with_projects.node[n][\"type\"] == \"etablissement\" ]\n",
    "    projets_etablissements.append(etablissements)\n",
    "    liste_projets += \"* nombre total d'etablissements (hors labo) : %s\\n\"%len(etablissements)\n",
    "    \n",
    "    villes = [ n for n in neighbors if G_with_projects.node[n][\"type\"] == \"ville\" ]\n",
    "    projets_villes.append(villes)\n",
    "    liste_projets += \"* villes impliquées : %s\\n\"%len(villes)\n",
    "    \n",
    "    liste_projets += \"-\"*15 + \"\\n\\n\"\n",
    "    \n",
    "display(Markdown(liste_projets))"
   ]
  },
  {
   "cell_type": "code",
   "execution_count": 148,
   "metadata": {
    "collapsed": false
   },
   "outputs": [
    {
     "name": "stdout",
     "output_type": "stream",
     "text": [
      "* projets par annnée : [(2012, 27), (2013, 27)] \n"
     ]
    }
   ],
   "source": [
    "years_start =[ parser.parse(str(these[1][\"start\"])).year for these in projets ]\n",
    "print \"* projets par annnée : %s \"%sorted(Counter(years_start).most_common(), key=getKey)"
   ]
  },
  {
   "cell_type": "code",
   "execution_count": 149,
   "metadata": {
    "collapsed": false
   },
   "outputs": [
    {
     "name": "stdout",
     "output_type": "stream",
     "text": [
      "* moyenne de partenaires par projet: 2.2962962963\n"
     ]
    },
    {
     "data": {
      "image/png": "[encoded data removed]",
      "text/plain": [
       "<matplotlib.figure.Figure at 0x7f920c6a18d0>"
      ]
     },
     "metadata": {},
     "output_type": "display_data"
    },
    {
     "data": {
      "text/plain": [
       "<matplotlib.axes._subplots.AxesSubplot at 0x7f920c35d310>"
      ]
     },
     "execution_count": 149,
     "metadata": {},
     "output_type": "execute_result"
    }
   ],
   "source": [
    "# Nombre de projets par années\n",
    "# TODO : parse end date\n",
    "def getKey(item):\n",
    "    return item[0]\n",
    "\n",
    "# Nombres et types d’organismes partenaires\n",
    "print \"* moyenne de partenaires par projet: %s\"%moyenne([len(p) for p in projets_partenaires])\n",
    "\n",
    "partenaires_counts=[] \n",
    "for count in [len(p) for p in projets_partenaires]:\n",
    "    if count <= 3 : partenaires_counts.append(\"0 à 3\")\n",
    "    elif count > 3 and count <6 : partenaires_counts.append(\"4 à 5\")\n",
    "    elif count > 5 and count < 10 : partenaires_counts.append(\"5 à 10\")\n",
    "    elif count > 9 : partenaires_counts.append(\"plus de 10\")\n",
    "\n",
    "order = [\"0 à 3\", \"4 à 5\", \"5 à 10\",\"plus de 10\"]\n",
    "count_plot([p.decode('utf-8') for p in partenaires_counts], \n",
    "           ylabel=\"Nombre de projets\", \n",
    "           xlabel=\"Nombre de partenaires\", \n",
    "           title=\"Combien y a-t-il de partenaires par projet?\",\n",
    "           order=[t.decode('utf-8') for t in order])\n"
   ]
  },
  {
   "cell_type": "code",
   "execution_count": 150,
   "metadata": {
    "collapsed": false
   },
   "outputs": [
    {
     "data": {
      "image/png": "[encoded data removed]",
      "text/plain": [
       "<matplotlib.figure.Figure at 0x7f920c6a1dd0>"
      ]
     },
     "metadata": {},
     "output_type": "display_data"
    },
    {
     "data": {
      "text/plain": [
       "<matplotlib.axes._subplots.AxesSubplot at 0x7f920c307810>"
      ]
     },
     "execution_count": 150,
     "metadata": {},
     "output_type": "execute_result"
    }
   ],
   "source": [
    "# type de partenaires\n",
    "projets_partenaires_type = []\n",
    "for ps in projets_partenaires: \n",
    "    projets_partenaires_type += [ G_with_projects.node[p][\"type\"] for p in ps if G_with_projects.node[p][\"type\"] not in [\"these\", \"ADR\", \"localité\", \"postdoc\"] ]\n",
    "\n",
    "count_plot([t.decode('utf-8') for t in projets_partenaires_type], ylabel=\"Nombre de projets\", xlabel=\"Type de partenaires\", title='Quels types de partenaires sont associés aux projets ?')\n"
   ]
  },
  {
   "cell_type": "code",
   "execution_count": 151,
   "metadata": {
    "collapsed": false
   },
   "outputs": [
    {
     "data": {
      "text/markdown": [
       "### Dans quelles villes se trouvent les partenaires des projets ?"
      ],
      "text/plain": [
       "<IPython.core.display.Markdown object>"
      ]
     },
     "metadata": {},
     "output_type": "display_data"
    },
    {
     "data": {
      "text/markdown": [
       "| | Nom | Quantité |\n",
       "| --- | --- | --- |\n",
       "| 0 | Lyon | 44 | \n",
       "| 1 | Grenoble | 20 | \n",
       "| 2 | Paris | 14 | \n",
       "| 3 | Valence | 5 | \n",
       "| 4 | Annecy | 3 | \n",
       "| 5 | Saint-Étienne | 3 | \n",
       "| 6 | Ambérieu-en-Bugey | 2 | \n",
       "| 7 | Chambéry | 2 | \n",
       "| 8 | Bourg-en-Bresse | 2 | \n",
       "| 9 | Oullins | 2 | \n",
       "| 10 | Villeurbanne | 2 | \n",
       "| 11 | Tours | 2 | \n",
       "| 12 | Amiens | 1 | \n",
       "| 13 | La Motte D’Aveillans | 1 | \n",
       "| 14 | Voreppe | 1 | \n",
       "| 15 | La Mure | 1 | \n",
       "| 16 | Vaulx-en-Velin | 1 | \n",
       "| 17 | Lodi (Italie) | 1 | \n",
       "| 18 | Toussieu | 1 | \n",
       "| 19 | Egletons | 1 | \n",
       "| 20 | Vérone (Italie) | 1 | \n",
       "| 21 | St-Martin-le-Vinoux | 1 | \n",
       "| 22 | Caen | 1 | \n",
       "| 23 | Bois d'Arcy | 1 | \n",
       "| 24 | Saint-Priest | 1 | \n",
       "| 25 | Vulaines | 1 | \n",
       "| 26 | Yverdon-les-Bains (Suisse) | 1 | \n",
       "| 27 | Marseille | 1 | \n",
       "| 28 | Meylan | 1 | \n",
       "| 29 | Saint-Priest-en-Jarez | 1 | \n",
       "| 30 | Bron | 1 | \n",
       "| 31 | La Motte-Servolex | 1 | \n"
      ],
      "text/plain": [
       "<IPython.core.display.Markdown object>"
      ]
     },
     "metadata": {},
     "output_type": "display_data"
    }
   ],
   "source": [
    "# Nombre de projets par villes\n",
    "projets_partenaires_villes = []\n",
    "for ps in projets_partenaires: \n",
    "    projets_partenaires_villes += [ infos[p][\"ville\"].strip() for p in ps if infos[p][\"ville\"].strip() != \"\"]\n",
    "\n",
    "show_table(\"### Dans quelles villes se trouvent les partenaires des projets ?\", projets_partenaires_villes )"
   ]
  },
  {
   "cell_type": "markdown",
   "metadata": {},
   "source": [
    "## Relations au sein du réseau\n",
    "\n",
    "Etudions maintenant les relations visibles au sein du réseau "
   ]
  },
  {
   "cell_type": "code",
   "execution_count": 154,
   "metadata": {
    "collapsed": false
   },
   "outputs": [
    {
     "name": "stdout",
     "output_type": "stream",
     "text": [
      "nombre de partenariats identifiés entre labos: 11\n"
     ]
    }
   ],
   "source": [
    "# Nombre et fréquence des partenariats entre centres de recherche\n",
    "edges_labos_to_labos = []\n",
    "for e in G_without_projects.edges():\n",
    "    if G_without_projects.node[e[0]][\"type\"] == \"laboratoire\" and G_without_projects.node[e[1]][\"type\"] == \"laboratoire\":\n",
    "        edges_labos_to_labos.append(e)\n",
    "print \"nombre de partenariats identifiés entre labos: %s\"%len(edges_labos_to_labos)"
   ]
  },
  {
   "cell_type": "code",
   "execution_count": 155,
   "metadata": {
    "collapsed": false
   },
   "outputs": [
    {
     "name": "stdout",
     "output_type": "stream",
     "text": [
      "nombre de partenariats identifiés entre labos et partenaires: 170\n"
     ]
    }
   ],
   "source": [
    "# Relations entre laboratoires et partenaires (nombre de liens entre les différents partenaires culture et recheches)\n",
    "partenaires_types= [\"creation\", \"patrimoine\", \"médiation\", \"enseignement\", \"cst\", \"economique\"]\n",
    "edges_partenaires_et_labos = []\n",
    "for e in G_without_projects.edges():\n",
    "    if (G_without_projects.node[e[0]][\"type\"] == \"laboratoire\" and G_without_projects.node[e[1]][\"type\"] in partenaires_types) or (G_without_projects.node[e[0]][\"type\"] in partenaires_types and G_without_projects.node[e[1]][\"type\"] == \"laboratoire\"):\n",
    "        edges_partenaires_et_labos.append(e)\n",
    "print \"nombre de partenariats identifiés entre labos et partenaires: %s\"%len(edges_partenaires_et_labos)"
   ]
  },
  {
   "cell_type": "code",
   "execution_count": 157,
   "metadata": {
    "collapsed": false
   },
   "outputs": [],
   "source": [
    "# Relations géographiques\n"
   ]
  },
  {
   "cell_type": "markdown",
   "metadata": {},
   "source": [
    "## Evolution temporelle depuis les clusters 13 et 14\n",
    "\n",
    "* Les clusters 13 et 14\n",
    "* Nombre de projets / type de projets (par cluster)\n",
    "* Relations entre projets / partenaires (par cluster)\n",
    "* Comparaison du nombre de projets\n",
    "* Comparaison du nombre de partenaires par projets\n",
    "* Permanence et évolution entre les projets ARC5 et cluster 13 / 14 (continuité des projets)"
   ]
  },
  {
   "cell_type": "code",
   "execution_count": 158,
   "metadata": {
    "collapsed": false
   },
   "outputs": [
    {
     "data": {
      "text/markdown": [
       "### Quels types de projets dans les différentes organisations ?"
      ],
      "text/plain": [
       "<IPython.core.display.Markdown object>"
      ]
     },
     "metadata": {},
     "output_type": "display_data"
    },
    {
     "data": {
      "text/markdown": [
       "|Type|Organisation|Quantité| \n",
       "|---|---|---|\n",
       "|postdoc|ARC5|1|\n",
       "|projet|14|51|\n",
       "|ADR|14|17|\n",
       "|projet|13|156|\n",
       "|projet|ARC5|54|\n",
       "|ADR|13|11|\n",
       "|ADR|ARC5|57|\n"
      ],
      "text/plain": [
       "<IPython.core.display.Markdown object>"
      ]
     },
     "metadata": {},
     "output_type": "display_data"
    }
   ],
   "source": [
    "import csv\n",
    "\n",
    "fichier_projets = \"../final/ARC5-Final - Projets (tous).csv\"\n",
    "\n",
    "projets = []\n",
    "with open( fichier_projets, \"r\") as f :\n",
    "    reader = csv.DictReader(f)\n",
    "    for line in reader :\n",
    "        projets.append(line)\n",
    "\n",
    "table = \"|Type|Organisation|Quantité| \\n\"\n",
    "table += \"|---|---|---|\\n\"\n",
    "orgas = Counter([(p[\"Type\"], p[\"Orga\"]) for p in projets])\n",
    "for c in orgas:\n",
    "    table += \"|%s|%s|%s|\\n\"%(c[0],c[1],orgas[c])\n",
    "\n",
    "display(Markdown(\"### Quels types de projets dans les différentes organisations ?\"))\n",
    "display(Markdown(table))\n"
   ]
  },
  {
   "cell_type": "code",
   "execution_count": 159,
   "metadata": {
    "collapsed": false
   },
   "outputs": [
    {
     "data": {
      "image/png": "[encoded data removed]",
      "text/plain": [
       "<matplotlib.figure.Figure at 0x7f920ce779d0>"
      ]
     },
     "metadata": {},
     "output_type": "display_data"
    },
    {
     "data": {
      "text/plain": [
       "<matplotlib.axes._subplots.AxesSubplot at 0x7f920c365450>"
      ]
     },
     "execution_count": 159,
     "metadata": {},
     "output_type": "execute_result"
    }
   ],
   "source": [
    "# taille du réseau par années\n",
    "years= [n[1][\"start\"] for n in G_without_projects.nodes(data=True)]\n",
    "Counter(years)\n",
    "\n",
    "count_plot(\n",
    "    years, \n",
    "    xlabel=\"Nombre de partenaires présents\", \n",
    "    title='Taille du réseau total impliqués dans les projets Cluster 13, 14 et ARC5 par année')"
   ]
  }
 ],
 "metadata": {
  "celltoolbar": "Slideshow",
  "kernelspec": {
   "display_name": "Python 2",
   "language": "python",
   "name": "python2"
  },
  "language_info": {
   "codemirror_mode": {
    "name": "ipython",
    "version": 2
   },
   "file_extension": ".py",
   "mimetype": "text/x-python",
   "name": "python",
   "nbconvert_exporter": "python",
   "pygments_lexer": "ipython2",
   "version": "2.7.9"
  }
 },
 "nbformat": 4,
 "nbformat_minor": 0
}
