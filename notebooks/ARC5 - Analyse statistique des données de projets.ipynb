{
 "cells": [
  {
   "cell_type": "markdown",
   "metadata": {},
   "source": [
    "# ARC5 - Résultats \n",
    "\n",
    "Dans ce document, nous réalisons l'analyse statistique des données issus de l'activité de l'ARC5 et des Cluster 13 et 14. L'objectif est de comprendre comment les données recueillies permettent d'éclairer différents axes sur la nature des partenariats et du réseau entretenus par l'ARC5 au cours de ces activités entre 2009 et 2016.\n",
    "\n",
    "Afin de rendre plus claire notre démarche nous structurons les graphes sous forme de questions / réponses. La question est le titre du graphe et correspond à un angle précis d'interrogation liés aux données disponibles utilisées ici."
   ]
  },
  {
   "cell_type": "markdown",
   "metadata": {},
   "source": [
    "Les quelques fonctions ci-dessous sont utilisés pour l'affichage et le pré-traitement des données."
   ]
  },
  {
   "cell_type": "code",
   "execution_count": 128,
   "metadata": {
    "collapsed": false
   },
   "outputs": [],
   "source": [
    "#!/usr/bin/env python\n",
    "# -*- coding: utf-8 -*-\n",
    "\n",
    "%matplotlib inline\n",
    "import seaborn as sns\n",
    "\n",
    "import os\n",
    "import csv\n",
    "import json\n",
    "import networkx as nx\n",
    "from collections import Counter\n",
    "import dateutil.parser as parser\n",
    "\n",
    "\n",
    "from IPython.display import display, Markdown, Latex\n",
    "from matplotlib.pyplot import pie, axis, show\n",
    "\n",
    "def show_table( title, array):\n",
    "    md_table = \"\"\n",
    "    display(Markdown(title))\n",
    "    md_table += \"| Nom | Quantité |\\n\"\n",
    "    md_table += \"| --- | --- |\\n\"\n",
    "    for c in Counter(array).most_common():\n",
    "        md_table +=\"| %s | %s | \\n\"%(c[0], c[1])\n",
    "    display(Markdown(md_table))\n",
    "\n",
    "def moyenne(tableau):\n",
    "    \"\"\"Calculer une moyenne d'après un tableau\"\"\"\n",
    "    return sum(tableau, 0.0) / len(tableau)\n",
    "\n",
    "def count_plot(list_to_count, title=None, xlabel=None, ylabel=\"Count\", order=None):\n",
    "    \n",
    "    g = sns.countplot(list_to_count, palette=\"Set2\", order=order)\n",
    "\n",
    "    # remove the top and right line in graph\n",
    "    sns.despine()\n",
    "\n",
    "    # size\n",
    "    g.figure.set_size_inches(7, 6)\n",
    "\n",
    "    # axes \n",
    "    g.set_xlabel(xlabel.decode('utf-8'),size = 16,  alpha=0.5)\n",
    "    g.set_ylabel(ylabel.decode('utf-8'),size = 16,  alpha=0.5)\n",
    "\n",
    "    # title\n",
    "    g.axes.set_title(title.decode('utf-8'), \n",
    "        fontsize=18, color=\"b\",alpha=0.3, x=0.5, y=1.1)\n",
    "    \n",
    "    # show\n",
    "    sns.plt.show()\n",
    "    \n",
    "    return g"
   ]
  },
  {
   "cell_type": "markdown",
   "metadata": {},
   "source": [
    "# Importer le graphe des partenaires\n",
    "\n",
    "D'abord nous importons les données de graphe calculées précédemment."
   ]
  },
  {
   "cell_type": "code",
   "execution_count": 129,
   "metadata": {
    "collapsed": false
   },
   "outputs": [
    {
     "data": {
      "text/markdown": [
       "## Graphes avec les projets "
      ],
      "text/plain": [
       "<IPython.core.display.Markdown object>"
      ]
     },
     "metadata": {},
     "output_type": "display_data"
    },
    {
     "name": "stdout",
     "output_type": "stream",
     "text": [
      "414 nodes\n",
      "598 edges\n"
     ]
    },
    {
     "data": {
      "text/markdown": [
       "## Type des partenaires"
      ],
      "text/plain": [
       "<IPython.core.display.Markdown object>"
      ]
     },
     "metadata": {},
     "output_type": "display_data"
    },
    {
     "data": {
      "text/markdown": [
       "| Nom | Quantité |\n",
       "| --- | --- |\n",
       "| projet | 67 | \n",
       "| ADR | 65 | \n",
       "| laboratoire | 64 | \n",
       "| médiation | 51 | \n",
       "| patrimoine | 46 | \n",
       "| création | 37 | \n",
       "| localité | 36 | \n",
       "| etablissement | 14 | \n",
       "| enseignement | 11 | \n",
       "| ecole-doctorale | 10 | \n",
       "| économique | 6 | \n",
       "| cst | 6 | \n",
       "| postdoc | 1 | \n"
      ],
      "text/plain": [
       "<IPython.core.display.Markdown object>"
      ]
     },
     "metadata": {},
     "output_type": "display_data"
    },
    {
     "data": {
      "text/markdown": [
       "## Graphes sans les projets "
      ],
      "text/plain": [
       "<IPython.core.display.Markdown object>"
      ]
     },
     "metadata": {},
     "output_type": "display_data"
    },
    {
     "name": "stdout",
     "output_type": "stream",
     "text": [
      "281 nodes\n",
      "1024 edges\n"
     ]
    },
    {
     "data": {
      "text/markdown": [
       "## Type des partenaires"
      ],
      "text/plain": [
       "<IPython.core.display.Markdown object>"
      ]
     },
     "metadata": {},
     "output_type": "display_data"
    },
    {
     "data": {
      "text/markdown": [
       "| Nom | Quantité |\n",
       "| --- | --- |\n",
       "| laboratoire | 64 | \n",
       "| médiation | 51 | \n",
       "| patrimoine | 46 | \n",
       "| création | 37 | \n",
       "| localité | 36 | \n",
       "| etablissement | 14 | \n",
       "| enseignement | 11 | \n",
       "| ecole-doctorale | 10 | \n",
       "| économique | 6 | \n",
       "| cst | 6 | \n"
      ],
      "text/plain": [
       "<IPython.core.display.Markdown object>"
      ]
     },
     "metadata": {},
     "output_type": "display_data"
    }
   ],
   "source": [
    "# load grap with everything inside\n",
    "from networkx.readwrite import read_gpickle\n",
    "\n",
    "# with projects\n",
    "display(Markdown(\"## Graphes avec les projets \"))\n",
    "\n",
    "G_with_projects = read_gpickle('../final/ARC5-nx-with-projects.pickle')\n",
    "print \"%s nodes\"%len(G_with_projects.nodes())\n",
    "print \"%s edges\"%len(G_with_projects.edges())\n",
    "\n",
    "show_table( \"## Type des partenaires\", [ n[1][\"type\"] for n in G_with_projects.nodes(data=True) ])\n",
    "\n",
    "# without projects\n",
    "display(Markdown(\"## Graphes sans les projets \"))\n",
    "\n",
    "G_without_projects = read_gpickle('../final/ARC5-nx-without-projects.pickle')\n",
    "print \"%s nodes\"%len(G_without_projects.nodes())\n",
    "print \"%s edges\"%len(G_without_projects.edges())\n",
    "\n",
    "show_table( \"## Type des partenaires\", [ n[1][\"type\"] for n in G_without_projects.nodes(data=True) ])\n"
   ]
  },
  {
   "cell_type": "markdown",
   "metadata": {},
   "source": [
    "## Les Allocations Doctorales de Recherche (ADR)\n",
    "\n",
    "Dans un premier temps, nous allons nous attacher à étudier différents aspects des financement attribués au ADRs (travaux de thèses)."
   ]
  },
  {
   "cell_type": "code",
   "execution_count": 130,
   "metadata": {
    "collapsed": false
   },
   "outputs": [
    {
     "data": {
      "text/markdown": [
       "### Liste des Thèses (d'après le graphe)"
      ],
      "text/plain": [
       "<IPython.core.display.Markdown object>"
      ]
     },
     "metadata": {},
     "output_type": "display_data"
    },
    {
     "name": "stdout",
     "output_type": "stream",
     "text": [
      "57 thèses\n"
     ]
    },
    {
     "data": {
      "text/markdown": [
       "**Pratiques et représentations féminines de la lecture (1830-1848)** \n",
       "\n",
       "* total liens : 3 \n",
       "* type de liens  : Counter({'ecole-doctorale': 1, 'etablissement': 1, 'laboratoire': 1}) \n",
       "* nombre de labos partenaires : 1\n",
       "* nombre total de partenaires (hors labo et etablissements) : 0\n",
       "* nombre total d'etablissements (hors labo) : 1\n",
       "* villes impliquées : 0 \n",
       "\n",
       "---------------\n",
       "**Le Journal de Lyon de Léonard Michon, notable lyonnais (1675-1746). Édition numérique critique** \n",
       "\n",
       "* total liens : 5 \n",
       "* type de liens  : Counter({'projet': 1, 'laboratoire': 1, 'etablissement': 1, 'patrimoine': 1, 'ecole-doctorale': 1}) \n",
       "* nombre de labos partenaires : 1\n",
       "* nombre total de partenaires (hors labo et etablissements) : 1\n",
       "* nombre total d'etablissements (hors labo) : 1\n",
       "* villes impliquées : 0 \n",
       "\n",
       "---------------\n",
       "**Appropriation et traitement cognitif de représentations externes émergentes : paradoxe représentationnel et prise en compte de la spécificité du domaine d'application** \n",
       "\n",
       "* total liens : 4 \n",
       "* type de liens  : Counter({'projet': 1, 'laboratoire': 1, 'etablissement': 1, 'ecole-doctorale': 1}) \n",
       "* nombre de labos partenaires : 1\n",
       "* nombre total de partenaires (hors labo et etablissements) : 0\n",
       "* nombre total d'etablissements (hors labo) : 1\n",
       "* villes impliquées : 0 \n",
       "\n",
       "---------------\n",
       "**Républicanisme et économie : peut-il y avoir une économie politique républicaine ? Une approche pluridisciplinaire.** \n",
       "\n",
       "* total liens : 2 \n",
       "* type de liens  : Counter({'laboratoire': 1, 'etablissement': 1}) \n",
       "* nombre de labos partenaires : 1\n",
       "* nombre total de partenaires (hors labo et etablissements) : 0\n",
       "* nombre total d'etablissements (hors labo) : 1\n",
       "* villes impliquées : 0 \n",
       "\n",
       "---------------\n",
       "**Développement d'interfaces pour le WEB destinées à rendre accessibles les outils de la création musicale contemporaine.** \n",
       "\n",
       "* total liens : 7 \n",
       "* type de liens  : Counter({'enseignement': 3, 'laboratoire': 1, 'etablissement': 1, 'm\\xc3\\xa9diation': 1, 'ecole-doctorale': 1}) \n",
       "* nombre de labos partenaires : 1\n",
       "* nombre total de partenaires (hors labo et etablissements) : 4\n",
       "* nombre total d'etablissements (hors labo) : 1\n",
       "* villes impliquées : 0 \n",
       "\n",
       "---------------\n",
       "**Une approche générique pour la construction d'éditions critiques électroniques de corpus documentaires multistructurés.** \n",
       "\n",
       "* total liens : 4 \n",
       "* type de liens  : Counter({'projet': 1, 'laboratoire': 1, 'etablissement': 1, 'ecole-doctorale': 1}) \n",
       "* nombre de labos partenaires : 1\n",
       "* nombre total de partenaires (hors labo et etablissements) : 0\n",
       "* nombre total d'etablissements (hors labo) : 1\n",
       "* villes impliquées : 0 \n",
       "\n",
       "---------------\n",
       "**Enjeux intellectuels et sociaux d une controverse en histoire des sciences et/ou en histoire de la philosophie (fin XVIe siècle - début XVIIIe siècle)** \n",
       "\n",
       "* total liens : 5 \n",
       "* type de liens  : Counter({'laboratoire': 2, 'projet': 1, 'etablissement': 1, 'ecole-doctorale': 1}) \n",
       "* nombre de labos partenaires : 2\n",
       "* nombre total de partenaires (hors labo et etablissements) : 0\n",
       "* nombre total d'etablissements (hors labo) : 1\n",
       "* villes impliquées : 0 \n",
       "\n",
       "---------------\n",
       "**Sciences, croyances et laïcité : quelles pratiques éducatives et culturelles face à l’existence de représentations créationnistes ? Implications pour une formation réflexive des médiateurs de sciences.** \n",
       "\n",
       "* total liens : 6 \n",
       "* type de liens  : Counter({'laboratoire': 1, 'enseignement': 1, 'etablissement': 1, 'ecole-doctorale': 1, 'cst': 1, 'm\\xc3\\xa9diation': 1}) \n",
       "* nombre de labos partenaires : 1\n",
       "* nombre total de partenaires (hors labo et etablissements) : 3\n",
       "* nombre total d'etablissements (hors labo) : 1\n",
       "* villes impliquées : 0 \n",
       "\n",
       "---------------\n",
       "**La médiatisation des techniques financières en France et en Grande-Bretagne depuis 1987** \n",
       "\n",
       "* total liens : 4 \n",
       "* type de liens  : Counter({'projet': 1, 'ecole-doctorale': 1, 'etablissement': 1, 'laboratoire': 1}) \n",
       "* nombre de labos partenaires : 1\n",
       "* nombre total de partenaires (hors labo et etablissements) : 0\n",
       "* nombre total d'etablissements (hors labo) : 1\n",
       "* villes impliquées : 0 \n",
       "\n",
       "---------------\n",
       "**Images iconiques et images virtuelles dans la patrimonialisation des régions post-industrielles : le cas des agglomérations de Saint Etienne et de Cardiff** \n",
       "\n",
       "* total liens : 6 \n",
       "* type de liens  : Counter({'ADR': 1, 'ecole-doctorale': 1, 'etablissement': 1, 'patrimoine': 1, 'projet': 1, 'laboratoire': 1}) \n",
       "* nombre de labos partenaires : 1\n",
       "* nombre total de partenaires (hors labo et etablissements) : 2\n",
       "* nombre total d'etablissements (hors labo) : 1\n",
       "* villes impliquées : 0 \n",
       "\n",
       "---------------\n",
       "**Analyse des représentations, attitudes et positionnements de publics jeunes à l’égard des sciences et techniques appréhendés via la mise en récit.** \n",
       "\n",
       "* total liens : 4 \n",
       "* type de liens  : Counter({'laboratoire': 1, 'etablissement': 1, 'ecole-doctorale': 1, 'cst': 1}) \n",
       "* nombre de labos partenaires : 1\n",
       "* nombre total de partenaires (hors labo et etablissements) : 1\n",
       "* nombre total d'etablissements (hors labo) : 1\n",
       "* villes impliquées : 0 \n",
       "\n",
       "---------------\n",
       "**Mémoires et identités urbaines : le patrimoine industriel entre oubli et valorisation** \n",
       "\n",
       "* total liens : 6 \n",
       "* type de liens  : Counter({'patrimoine': 3, 'ecole-doctorale': 1, 'etablissement': 1, 'laboratoire': 1}) \n",
       "* nombre de labos partenaires : 1\n",
       "* nombre total de partenaires (hors labo et etablissements) : 3\n",
       "* nombre total d'etablissements (hors labo) : 1\n",
       "* villes impliquées : 0 \n",
       "\n",
       "---------------\n",
       "**Continuités et renouvellements de l’engagement féministe : cas du Planning familial en Rhône-Alpes** \n",
       "\n",
       "* total liens : 6 \n",
       "* type de liens  : Counter({'ADR': 1, 'ecole-doctorale': 1, 'etablissement': 1, 'projet': 1, 'laboratoire': 1, 'm\\xc3\\xa9diation': 1}) \n",
       "* nombre de labos partenaires : 1\n",
       "* nombre total de partenaires (hors labo et etablissements) : 2\n",
       "* nombre total d'etablissements (hors labo) : 1\n",
       "* villes impliquées : 0 \n",
       "\n",
       "---------------\n",
       "**Paléographie musicale assistée  : instrumentation numérique pour l'analyse et l’édition de partitions musicales manuscrites inédites** \n",
       "\n",
       "* total liens : 5 \n",
       "* type de liens  : Counter({'laboratoire': 1, 'enseignement': 1, 'etablissement': 1, 'm\\xc3\\xa9diation': 1, 'ecole-doctorale': 1}) \n",
       "* nombre de labos partenaires : 1\n",
       "* nombre total de partenaires (hors labo et etablissements) : 2\n",
       "* nombre total d'etablissements (hors labo) : 1\n",
       "* villes impliquées : 0 \n",
       "\n",
       "---------------\n",
       "**Les réfugiés huguenots du Dauphiné** \n",
       "\n",
       "* total liens : 5 \n",
       "* type de liens  : Counter({'laboratoire': 1, 'cr\\xc3\\xa9ation': 1, 'patrimoine': 1, 'etablissement': 1, 'ecole-doctorale': 1}) \n",
       "* nombre de labos partenaires : 1\n",
       "* nombre total de partenaires (hors labo et etablissements) : 2\n",
       "* nombre total d'etablissements (hors labo) : 1\n",
       "* villes impliquées : 0 \n",
       "\n",
       "---------------\n",
       "**Evaluation des acquisitions des élèves dans les démarches d'investigation : Jeux entre évaluations formatives et autorégulation des apprentissages.** \n",
       "\n",
       "* total liens : 4 \n",
       "* type de liens  : Counter({'ecole-doctorale': 1, 'etablissement': 1, 'm\\xc3\\xa9diation': 1, 'laboratoire': 1}) \n",
       "* nombre de labos partenaires : 1\n",
       "* nombre total de partenaires (hors labo et etablissements) : 1\n",
       "* nombre total d'etablissements (hors labo) : 1\n",
       "* villes impliquées : 0 \n",
       "\n",
       "---------------\n",
       "**Documenter la danse: les gestes performatifs et numériques** \n",
       "\n",
       "* total liens : 10 \n",
       "* type de liens  : Counter({'cr\\xc3\\xa9ation': 4, 'm\\xc3\\xa9diation': 2, 'laboratoire': 1, 'enseignement': 1, 'etablissement': 1, 'ecole-doctorale': 1}) \n",
       "* nombre de labos partenaires : 1\n",
       "* nombre total de partenaires (hors labo et etablissements) : 7\n",
       "* nombre total d'etablissements (hors labo) : 1\n",
       "* villes impliquées : 0 \n",
       "\n",
       "---------------\n",
       "**Félix Thiollier et le livre** \n",
       "\n",
       "* total liens : 12 \n",
       "* type de liens  : Counter({'patrimoine': 5, 'laboratoire': 2, 'ADR': 1, 'etablissement': 1, 'projet': 1, 'ecole-doctorale': 1, 'm\\xc3\\xa9diation': 1}) \n",
       "* nombre de labos partenaires : 2\n",
       "* nombre total de partenaires (hors labo et etablissements) : 7\n",
       "* nombre total d'etablissements (hors labo) : 1\n",
       "* villes impliquées : 0 \n",
       "\n",
       "---------------\n",
       "**Le passage au numérique des médias locaux entre mutations médiatiques et mutations territoriales : du bouleversement des pratiques professionnelles à la reconfiguration des identités locales** \n",
       "\n",
       "* total liens : 4 \n",
       "* type de liens  : Counter({'ecole-doctorale': 1, 'etablissement': 1, 'm\\xc3\\xa9diation': 1, 'laboratoire': 1}) \n",
       "* nombre de labos partenaires : 1\n",
       "* nombre total de partenaires (hors labo et etablissements) : 1\n",
       "* nombre total d'etablissements (hors labo) : 1\n",
       "* villes impliquées : 0 \n",
       "\n",
       "---------------\n",
       "**Réflexion sémantique et esthétique autour des usages cartographiques. XVII-XXIe. Pratiques culturelles croisées.** \n",
       "\n",
       "* total liens : 6 \n",
       "* type de liens  : Counter({'laboratoire': 2, 'patrimoine': 1, 'etablissement': 1, 'ADR': 1, 'ecole-doctorale': 1}) \n",
       "* nombre de labos partenaires : 2\n",
       "* nombre total de partenaires (hors labo et etablissements) : 2\n",
       "* nombre total d'etablissements (hors labo) : 1\n",
       "* villes impliquées : 0 \n",
       "\n",
       "---------------\n",
       "**Vertus et faiblesses du crowd-sourcing : Évaluation qualitative et quantitative de la transcription de fonds patrimoniaux** \n",
       "\n",
       "* total liens : 7 \n",
       "* type de liens  : Counter({'projet': 2, 'laboratoire': 2, 'etablissement': 1, 'patrimoine': 1, 'ecole-doctorale': 1}) \n",
       "* nombre de labos partenaires : 2\n",
       "* nombre total de partenaires (hors labo et etablissements) : 1\n",
       "* nombre total d'etablissements (hors labo) : 1\n",
       "* villes impliquées : 0 \n",
       "\n",
       "---------------\n",
       "**Initiation scientifique en CP et en CE1 et apprentissages langagiers : quelles pratiques efficaces pour les élèves provenant de milieux défavorisés ?** \n",
       "\n",
       "* total liens : 5 \n",
       "* type de liens  : Counter({'projet': 1, 'laboratoire': 1, 'enseignement': 1, 'etablissement': 1, 'ecole-doctorale': 1}) \n",
       "* nombre de labos partenaires : 1\n",
       "* nombre total de partenaires (hors labo et etablissements) : 1\n",
       "* nombre total d'etablissements (hors labo) : 1\n",
       "* villes impliquées : 0 \n",
       "\n",
       "---------------\n",
       "**Méthodes d’aide à la navigation, la lecture et l’exploitation des images des correspondances manuscrites dans l’Europe du 18ème siècle** \n",
       "\n",
       "* total liens : 4 \n",
       "* type de liens  : Counter({'laboratoire': 2, 'etablissement': 1, 'ecole-doctorale': 1}) \n",
       "* nombre de labos partenaires : 2\n",
       "* nombre total de partenaires (hors labo et etablissements) : 0\n",
       "* nombre total d'etablissements (hors labo) : 1\n",
       "* villes impliquées : 0 \n",
       "\n",
       "---------------\n",
       "**Enceintes tardives, communautés politiques et restructuration territoriale en rive gauche du Rhône : IIIe-Ve siècle de notre ère** \n",
       "\n",
       "* total liens : 3 \n",
       "* type de liens  : Counter({'ecole-doctorale': 1, 'etablissement': 1, 'laboratoire': 1}) \n",
       "* nombre de labos partenaires : 1\n",
       "* nombre total de partenaires (hors labo et etablissements) : 0\n",
       "* nombre total d'etablissements (hors labo) : 1\n",
       "* villes impliquées : 0 \n",
       "\n",
       "---------------\n",
       "**Arts et technologies de l’attention dans les machines à spectacles** \n",
       "\n",
       "* total liens : 7 \n",
       "* type de liens  : Counter({'laboratoire': 2, 'cr\\xc3\\xa9ation': 2, 'projet': 1, 'etablissement': 1, 'ecole-doctorale': 1}) \n",
       "* nombre de labos partenaires : 2\n",
       "* nombre total de partenaires (hors labo et etablissements) : 2\n",
       "* nombre total d'etablissements (hors labo) : 1\n",
       "* villes impliquées : 0 \n",
       "\n",
       "---------------\n",
       "**Edition nativement numérique des œuvres hagiographiques inédites de Wauchier de Denain ms. BnF fr. 412 ** \n",
       "\n",
       "* total liens : 3 \n",
       "* type de liens  : Counter({'laboratoire': 1, 'etablissement': 1, 'ecole-doctorale': 1}) \n",
       "* nombre de labos partenaires : 1\n",
       "* nombre total de partenaires (hors labo et etablissements) : 0\n",
       "* nombre total d'etablissements (hors labo) : 1\n",
       "* villes impliquées : 0 \n",
       "\n",
       "---------------\n",
       "**Politiques publiques de recherche : enquête philosophique sur les formes possibles de démocratisation** \n",
       "\n",
       "* total liens : 3 \n",
       "* type de liens  : Counter({'ecole-doctorale': 1, 'etablissement': 1, 'laboratoire': 1}) \n",
       "* nombre de labos partenaires : 1\n",
       "* nombre total de partenaires (hors labo et etablissements) : 0\n",
       "* nombre total d'etablissements (hors labo) : 1\n",
       "* villes impliquées : 0 \n",
       "\n",
       "---------------\n",
       "**Art Brut : quelle place pour les marges singulières ? Émergence et valorisation d’un projet de réseau d’art singulier en Rhône Alpes** \n",
       "\n",
       "* total liens : 4 \n",
       "* type de liens  : Counter({'laboratoire': 1, 'etablissement': 1, 'patrimoine': 1, 'ecole-doctorale': 1}) \n",
       "* nombre de labos partenaires : 1\n",
       "* nombre total de partenaires (hors labo et etablissements) : 1\n",
       "* nombre total d'etablissements (hors labo) : 1\n",
       "* villes impliquées : 0 \n",
       "\n",
       "---------------\n",
       "**Documenter l’expérience habitante de la ville sur les réseaux sociaux : corpus photographiques et données numériques, le sens des collections** \n",
       "\n",
       "* total liens : 5 \n",
       "* type de liens  : Counter({'ecole-doctorale': 1, 'patrimoine': 1, '\\xc3\\xa9conomique': 1, 'etablissement': 1, 'laboratoire': 1}) \n",
       "* nombre de labos partenaires : 1\n",
       "* nombre total de partenaires (hors labo et etablissements) : 2\n",
       "* nombre total d'etablissements (hors labo) : 1\n",
       "* villes impliquées : 0 \n",
       "\n",
       "---------------\n",
       "**Entre valeur affective et valeur d’usage : quel avenir pour les églises de la métropole Lyon Saint-Etienne ?** \n",
       "\n",
       "* total liens : 6 \n",
       "* type de liens  : Counter({'patrimoine': 3, 'laboratoire': 1, 'etablissement': 1, 'ecole-doctorale': 1}) \n",
       "* nombre de labos partenaires : 1\n",
       "* nombre total de partenaires (hors labo et etablissements) : 3\n",
       "* nombre total d'etablissements (hors labo) : 1\n",
       "* villes impliquées : 0 \n",
       "\n",
       "---------------\n",
       "**Sciences, techniques et esthétiques de l'éclairage sur les scènes parisiennes et lyonnaises, du théâtre romantique au premier cinéma.** \n",
       "\n",
       "* total liens : 7 \n",
       "* type de liens  : Counter({'patrimoine': 2, 'laboratoire': 1, 'enseignement': 1, 'etablissement': 1, 'projet': 1, 'ecole-doctorale': 1}) \n",
       "* nombre de labos partenaires : 1\n",
       "* nombre total de partenaires (hors labo et etablissements) : 3\n",
       "* nombre total d'etablissements (hors labo) : 1\n",
       "* villes impliquées : 0 \n",
       "\n",
       "---------------\n",
       "**Les mutations de la médiation scientifique : le cas des journalistes scientifiques** \n",
       "\n",
       "* total liens : 3 \n",
       "* type de liens  : Counter({'ecole-doctorale': 1, 'etablissement': 1, 'laboratoire': 1}) \n",
       "* nombre de labos partenaires : 1\n",
       "* nombre total de partenaires (hors labo et etablissements) : 0\n",
       "* nombre total d'etablissements (hors labo) : 1\n",
       "* villes impliquées : 0 \n",
       "\n",
       "---------------\n",
       "**Elaboration d'une mémoire collective chez les réfugiés du génocide rwandais et de ses suites (1994 ? 1997) : du trauma à l'insertion en Rhône-Alpes** \n",
       "\n",
       "* total liens : 7 \n",
       "* type de liens  : Counter({'ADR': 1, 'ecole-doctorale': 1, 'etablissement': 1, 'patrimoine': 1, 'projet': 1, 'laboratoire': 1, 'm\\xc3\\xa9diation': 1}) \n",
       "* nombre de labos partenaires : 1\n",
       "* nombre total de partenaires (hors labo et etablissements) : 3\n",
       "* nombre total d'etablissements (hors labo) : 1\n",
       "* villes impliquées : 0 \n",
       "\n",
       "---------------\n",
       "**Extraction et catégorisation de lexiques transdisciplinaires d articles scientifiques de sciences humaines en vue de l indexation automatique** \n",
       "\n",
       "* total liens : 3 \n",
       "* type de liens  : Counter({'laboratoire': 1, 'etablissement': 1, 'ecole-doctorale': 1}) \n",
       "* nombre de labos partenaires : 1\n",
       "* nombre total de partenaires (hors labo et etablissements) : 0\n",
       "* nombre total d'etablissements (hors labo) : 1\n",
       "* villes impliquées : 0 \n",
       "\n",
       "---------------\n",
       "**Approche numérique des revues françaises de géographie : pour une relecture épistémologique des savoirs géographiques** \n",
       "\n",
       "* total liens : 5 \n",
       "* type de liens  : Counter({'laboratoire': 2, 'etablissement': 1, 'ADR': 1, 'ecole-doctorale': 1}) \n",
       "* nombre de labos partenaires : 2\n",
       "* nombre total de partenaires (hors labo et etablissements) : 1\n",
       "* nombre total d'etablissements (hors labo) : 1\n",
       "* villes impliquées : 0 \n",
       "\n",
       "---------------\n",
       "**Regards cinématographiques et gestes du travail : films d’amateurs et identifications locales et régionales des territoires de montagne en Rhône-Alpes, des années 1960 à 1975.** \n",
       "\n",
       "* total liens : 6 \n",
       "* type de liens  : Counter({'patrimoine': 3, 'laboratoire': 1, 'etablissement': 1, 'ecole-doctorale': 1}) \n",
       "* nombre de labos partenaires : 1\n",
       "* nombre total de partenaires (hors labo et etablissements) : 3\n",
       "* nombre total d'etablissements (hors labo) : 1\n",
       "* villes impliquées : 0 \n",
       "\n",
       "---------------\n",
       "**Les éditions Paul Martial : une esthétique industrielle** \n",
       "\n",
       "* total liens : 7 \n",
       "* type de liens  : Counter({'laboratoire': 2, 'ADR': 1, 'etablissement': 1, 'patrimoine': 1, 'projet': 1, 'ecole-doctorale': 1}) \n",
       "* nombre de labos partenaires : 2\n",
       "* nombre total de partenaires (hors labo et etablissements) : 2\n",
       "* nombre total d'etablissements (hors labo) : 1\n",
       "* villes impliquées : 0 \n",
       "\n",
       "---------------\n",
       "**Co-construction et expérimentation de dispositifs de formation de tuteurs pour l’amélioration des parcours d’apprentissage et de la transmission des savoirs en situation professionnelle** \n",
       "\n",
       "* total liens : 4 \n",
       "* type de liens  : Counter({'ecole-doctorale': 1, 'enseignement': 1, 'etablissement': 1, 'laboratoire': 1}) \n",
       "* nombre de labos partenaires : 1\n",
       "* nombre total de partenaires (hors labo et etablissements) : 1\n",
       "* nombre total d'etablissements (hors labo) : 1\n",
       "* villes impliquées : 0 \n",
       "\n",
       "---------------\n",
       "**Les critères d'évaluation des productions urbaines : Une socio-anthropologie de la création dans les arts de la rue** \n",
       "\n",
       "* total liens : 10 \n",
       "* type de liens  : Counter({'m\\xc3\\xa9diation': 4, 'laboratoire': 2, 'ADR': 1, 'etablissement': 1, 'projet': 1, 'ecole-doctorale': 1}) \n",
       "* nombre de labos partenaires : 2\n",
       "* nombre total de partenaires (hors labo et etablissements) : 5\n",
       "* nombre total d'etablissements (hors labo) : 1\n",
       "* villes impliquées : 0 \n",
       "\n",
       "---------------\n",
       "**L’émergence du questionnement collectif dans la discussion à visée philosophique entre élèves : Comment apprend-t-on à s’interroger avec les autres ? ** \n",
       "\n",
       "* total liens : 6 \n",
       "* type de liens  : Counter({'m\\xc3\\xa9diation': 2, 'laboratoire': 1, 'localit\\xc3\\xa9': 1, 'etablissement': 1, 'ecole-doctorale': 1}) \n",
       "* nombre de labos partenaires : 1\n",
       "* nombre total de partenaires (hors labo et etablissements) : 3\n",
       "* nombre total d'etablissements (hors labo) : 1\n",
       "* villes impliquées : 0 \n",
       "\n",
       "---------------\n",
       "**L’événementialisation de la culture scientifique. Rôle et enjeux des manifestations culturelles dans la médiation des sciences ** \n",
       "\n",
       "* total liens : 8 \n",
       "* type de liens  : Counter({'ADR': 1, 'ecole-doctorale': 1, 'etablissement': 1, 'patrimoine': 1, 'projet': 1, 'laboratoire': 1, 'cst': 1, 'cr\\xc3\\xa9ation': 1}) \n",
       "* nombre de labos partenaires : 1\n",
       "* nombre total de partenaires (hors labo et etablissements) : 4\n",
       "* nombre total d'etablissements (hors labo) : 1\n",
       "* villes impliquées : 0 \n",
       "\n",
       "---------------\n",
       "**Du manuscrit à l’imprimé : la révolution du livre à Lyon (1470-1520)** \n",
       "\n",
       "* total liens : 4 \n",
       "* type de liens  : Counter({'ecole-doctorale': 1, 'etablissement': 1, 'patrimoine': 1, 'laboratoire': 1}) \n",
       "* nombre de labos partenaires : 1\n",
       "* nombre total de partenaires (hors labo et etablissements) : 1\n",
       "* nombre total d'etablissements (hors labo) : 1\n",
       "* villes impliquées : 0 \n",
       "\n",
       "---------------\n",
       "**Genre et groupe social : approche développementale de la construction précoce de l'identité sociolinguistique dans les interactions parents-enfants** \n",
       "\n",
       "* total liens : 4 \n",
       "* type de liens  : Counter({'projet': 1, 'laboratoire': 1, 'etablissement': 1, 'ecole-doctorale': 1}) \n",
       "* nombre de labos partenaires : 1\n",
       "* nombre total de partenaires (hors labo et etablissements) : 0\n",
       "* nombre total d'etablissements (hors labo) : 1\n",
       "* villes impliquées : 0 \n",
       "\n",
       "---------------\n",
       "**Le corps, le cancer et la chimiothérapie** \n",
       "\n",
       "* total liens : 3 \n",
       "* type de liens  : Counter({'laboratoire': 1, 'etablissement': 1, 'ecole-doctorale': 1}) \n",
       "* nombre de labos partenaires : 1\n",
       "* nombre total de partenaires (hors labo et etablissements) : 0\n",
       "* nombre total d'etablissements (hors labo) : 1\n",
       "* villes impliquées : 0 \n",
       "\n",
       "---------------\n",
       "**Naissance et premiers développements des écoles d'économie politique chrétienne (France, 1815-1851)** \n",
       "\n",
       "* total liens : 3 \n",
       "* type de liens  : Counter({'laboratoire': 1, 'etablissement': 1, 'ecole-doctorale': 1}) \n",
       "* nombre de labos partenaires : 1\n",
       "* nombre total de partenaires (hors labo et etablissements) : 0\n",
       "* nombre total d'etablissements (hors labo) : 1\n",
       "* villes impliquées : 0 \n",
       "\n",
       "---------------\n",
       "**Formes et enjeux de la sociabilité dans les équipes de recherche en sciences humaines et sociales** \n",
       "\n",
       "* total liens : 3 \n",
       "* type de liens  : Counter({'laboratoire': 1, 'etablissement': 1, 'ecole-doctorale': 1}) \n",
       "* nombre de labos partenaires : 1\n",
       "* nombre total de partenaires (hors labo et etablissements) : 0\n",
       "* nombre total d'etablissements (hors labo) : 1\n",
       "* villes impliquées : 0 \n",
       "\n",
       "---------------\n",
       "**\"PROJET INTER-ARC Analyse de graphes dynamiques : application aux données Vélo'V Inter-arc  ARC 6.  TIC  et usages informatiques innovants  \"** \n",
       "\n",
       "* total liens : 5 \n",
       "* type de liens  : Counter({'laboratoire': 1, '\\xc3\\xa9conomique': 1, 'etablissement': 1, 'localit\\xc3\\xa9': 1, 'ecole-doctorale': 1}) \n",
       "* nombre de labos partenaires : 1\n",
       "* nombre total de partenaires (hors labo et etablissements) : 2\n",
       "* nombre total d'etablissements (hors labo) : 1\n",
       "* villes impliquées : 0 \n",
       "\n",
       "---------------\n",
       "**Les principes de justice dans l'économie saint-simonienne : un éclairage actuel sur les « socialismes ».** \n",
       "\n",
       "* total liens : 4 \n",
       "* type de liens  : Counter({'projet': 1, 'ecole-doctorale': 1, 'etablissement': 1, 'laboratoire': 1}) \n",
       "* nombre de labos partenaires : 1\n",
       "* nombre total de partenaires (hors labo et etablissements) : 0\n",
       "* nombre total d'etablissements (hors labo) : 1\n",
       "* villes impliquées : 0 \n",
       "\n",
       "---------------\n",
       "**Enjeux territoriaux de la communication scientifique : évolutions et nouvelles formes de l'édition scientifique d'ouvrages** \n",
       "\n",
       "* total liens : 7 \n",
       "* type de liens  : Counter({'ADR': 1, 'ecole-doctorale': 1, 'etablissement': 1, 'projet': 1, 'laboratoire': 1, 'cst': 1, 'm\\xc3\\xa9diation': 1}) \n",
       "* nombre de labos partenaires : 1\n",
       "* nombre total de partenaires (hors labo et etablissements) : 3\n",
       "* nombre total d'etablissements (hors labo) : 1\n",
       "* villes impliquées : 0 \n",
       "\n",
       "---------------\n",
       "**Le trésor de Brou et les stratégies dévotionnelles de  Marguerite d’Autriche et de sa cour : Essai de reconstitution in situ des collections léguées par Marguerite d’Autriche à sa fondation funéraire. ** \n",
       "\n",
       "* total liens : 5 \n",
       "* type de liens  : Counter({'projet': 1, 'laboratoire': 1, 'etablissement': 1, 'patrimoine': 1, 'ecole-doctorale': 1}) \n",
       "* nombre de labos partenaires : 1\n",
       "* nombre total de partenaires (hors labo et etablissements) : 1\n",
       "* nombre total d'etablissements (hors labo) : 1\n",
       "* villes impliquées : 0 \n",
       "\n",
       "---------------\n",
       "**Le temps du voyage : rythmes et perception de la durée dans les pratiques du voyage en Europe entre Lumières et romantisme (18e siècle-milieu 19e siècle)** \n",
       "\n",
       "* total liens : 4 \n",
       "* type de liens  : Counter({'projet': 1, 'ecole-doctorale': 1, 'etablissement': 1, 'laboratoire': 1}) \n",
       "* nombre de labos partenaires : 1\n",
       "* nombre total de partenaires (hors labo et etablissements) : 0\n",
       "* nombre total d'etablissements (hors labo) : 1\n",
       "* villes impliquées : 0 \n",
       "\n",
       "---------------\n",
       "**Contribution à une géographie du numérique** \n",
       "\n",
       "* total liens : 4 \n",
       "* type de liens  : Counter({'laboratoire': 1, 'etablissement': 1, '\\xc3\\xa9conomique': 1, 'ecole-doctorale': 1}) \n",
       "* nombre de labos partenaires : 1\n",
       "* nombre total de partenaires (hors labo et etablissements) : 1\n",
       "* nombre total d'etablissements (hors labo) : 1\n",
       "* villes impliquées : 0 \n",
       "\n",
       "---------------\n",
       "**La prostitution entre Grenoble et Lyon du XVIIIe siècle au milieu du XIXe siècle. Représentations, espaces et pratiques** \n",
       "\n",
       "* total liens : 6 \n",
       "* type de liens  : Counter({'patrimoine': 2, 'ADR': 1, 'ecole-doctorale': 1, 'etablissement': 1, 'laboratoire': 1}) \n",
       "* nombre de labos partenaires : 1\n",
       "* nombre total de partenaires (hors labo et etablissements) : 3\n",
       "* nombre total d'etablissements (hors labo) : 1\n",
       "* villes impliquées : 0 \n",
       "\n",
       "---------------\n",
       "**Élaboration, mise en oeuvre et exploitation d'un modèle de description d'objets archéologiques complexes : le projet céramique 3.0** \n",
       "\n",
       "* total liens : 5 \n",
       "* type de liens  : Counter({'projet': 1, 'laboratoire': 1, 'etablissement': 1, 'patrimoine': 1, 'ecole-doctorale': 1}) \n",
       "* nombre de labos partenaires : 1\n",
       "* nombre total de partenaires (hors labo et etablissements) : 1\n",
       "* nombre total d'etablissements (hors labo) : 1\n",
       "* villes impliquées : 0 \n",
       "\n",
       "---------------\n",
       "**Le développement d’une compétence interculturelle après classement d’un site au Patrimoine mondial de l’UNESCO, un pas vers le dialogue entre les peuples** \n",
       "\n",
       "* total liens : 8 \n",
       "* type de liens  : Counter({'laboratoire': 2, 'ADR': 1, 'etablissement': 1, 'patrimoine': 1, 'projet': 1, 'ecole-doctorale': 1, 'cr\\xc3\\xa9ation': 1}) \n",
       "* nombre de labos partenaires : 2\n",
       "* nombre total de partenaires (hors labo et etablissements) : 3\n",
       "* nombre total d'etablissements (hors labo) : 1\n",
       "* villes impliquées : 0 \n",
       "\n",
       "---------------\n",
       "**Négociants et entrepreneurs de Lyon au XVIIe siècle. Espaces, réseaux et pratiques du commerce sous l’Ancien Régime  ** \n",
       "\n",
       "* total liens : 5 \n",
       "* type de liens  : Counter({'patrimoine': 1, 'laboratoire': 1, 'etablissement': 1, 'ADR': 1, 'ecole-doctorale': 1}) \n",
       "* nombre de labos partenaires : 1\n",
       "* nombre total de partenaires (hors labo et etablissements) : 2\n",
       "* nombre total d'etablissements (hors labo) : 1\n",
       "* villes impliquées : 0 \n",
       "\n",
       "---------------\n",
       "**Au-delà de la « Manif pour tous » : sociologie des engagements féminins conservateurs** \n",
       "\n",
       "* total liens : 5 \n",
       "* type de liens  : Counter({'projet': 1, 'laboratoire': 1, 'etablissement': 1, 'ADR': 1, 'ecole-doctorale': 1}) \n",
       "* nombre de labos partenaires : 1\n",
       "* nombre total de partenaires (hors labo et etablissements) : 1\n",
       "* nombre total d'etablissements (hors labo) : 1\n",
       "* villes impliquées : 0 \n",
       "\n",
       "---------------\n"
      ],
      "text/plain": [
       "<IPython.core.display.Markdown object>"
      ]
     },
     "metadata": {},
     "output_type": "display_data"
    }
   ],
   "source": [
    "display(Markdown(\"### Liste des Thèses (d'après le graphe)\"))\n",
    "\n",
    "theses = [n for n in G_with_projects.nodes(data=True) if n[1][\"type\"] == \"ADR\" and n[1][\"orga\"] == \"ARC5\"]\n",
    "print \"%s thèses\"%len(theses)\n",
    "\n",
    "# Nombre de thèses (cluster 13 et 14 puis ARC5)\n",
    "theses_partenaires = []\n",
    "theses_labos = []\n",
    "theses_etablissements = []\n",
    "theses_villes = []\n",
    "\n",
    "liste_these = \"\"\n",
    "# Nombre de thèses avec partenaires (socio-économiques et socio-culturels)\n",
    "for these in theses: \n",
    "    neighbors = G_with_projects.neighbors(these[0])\n",
    "    liste_these += \"**%s** \\n\\n\"%these[1][\"name\"]\n",
    "    liste_these += \"* total liens : %s \\n\"%len(neighbors)\n",
    "    liste_these += \"* type de liens  : %s \\n\"%Counter([G_with_projects.node[n][\"type\"] for n in neighbors])\n",
    "    \n",
    "    labos = [ n for n in neighbors if G_with_projects.node[n][\"type\"] == \"laboratoire\" ]\n",
    "    theses_labos.append( labos )\n",
    "\n",
    "    liste_these += \"* nombre de labos partenaires : %s\\n\"%len(labos)\n",
    "    \n",
    "    partenaires = [ n for n in neighbors if G_with_projects.node[n][\"type\"] not in [\"projet\",\"laboratoire\", \"ecole-doctorale\", \"etablissement\", \"ville\", \"these\" ] ]\n",
    "    theses_partenaires.append(partenaires)\n",
    "    liste_these += \"* nombre total de partenaires (hors labo et etablissements) : %s\\n\"%len(partenaires)\n",
    "    \n",
    "    etablissements = [ n for n in neighbors if G_with_projects.node[n][\"type\"] == \"etablissement\" ]\n",
    "    theses_etablissements.append(etablissements)\n",
    "    liste_these += \"* nombre total d'etablissements (hors labo) : %s\\n\"%len(etablissements)\n",
    "    \n",
    "    villes = [ n for n in neighbors if G_with_projects.node[n][\"type\"] == \"ville\" ]\n",
    "    theses_villes.append(villes)\n",
    "    liste_these += \"* villes impliquées : %s \\n\\n\"%len(villes)\n",
    "    \n",
    "    liste_these += \"-\"*15+\"\\n\"\n",
    "\n",
    "display(Markdown(liste_these))"
   ]
  },
  {
   "cell_type": "code",
   "execution_count": 131,
   "metadata": {
    "collapsed": false
   },
   "outputs": [
    {
     "data": {
      "text/markdown": [
       "## Thèses"
      ],
      "text/plain": [
       "<IPython.core.display.Markdown object>"
      ]
     },
     "metadata": {},
     "output_type": "display_data"
    },
    {
     "data": {
      "text/markdown": [
       "### Combien y a-t-il de thèses au total ? "
      ],
      "text/plain": [
       "<IPython.core.display.Markdown object>"
      ]
     },
     "metadata": {},
     "output_type": "display_data"
    },
    {
     "name": "stdout",
     "output_type": "stream",
     "text": [
      "57 thèses\n"
     ]
    },
    {
     "data": {
      "text/markdown": [
       "### Quelles sont les écoles doctorales impliquées dans la direction des thèses ?"
      ],
      "text/plain": [
       "<IPython.core.display.Markdown object>"
      ]
     },
     "metadata": {},
     "output_type": "display_data"
    },
    {
     "data": {
      "text/markdown": [
       "| Nom | Quantité |\n",
       "| --- | --- |\n",
       "| ScSo, ED 483 (sciences sociales) | 12 | \n",
       "| LLSH, ED 50 (Langues, Littératures et Sciences Humaines) | 10 | \n",
       "| EPIC, 485 (Education - Psychologie - Information et Communication) | 9 | \n",
       "| SHPT, ED 454 (Sciences de l'homme, du politique et du territoire) | 8 | \n",
       "| 3LA, ED 484 (Lettres, langues, linguistique et arts) | 8 | \n",
       "| SEG, ED 486 (Sciences Economiques et de Gestion) | 3 | \n",
       "| PHCR, ED 487 (Philosophie, histoire, création, représentation ) | 2 | \n",
       "| Infomath, ED 512 | 2 | \n",
       "|  | 1 | \n",
       "| SIS, ED 488 (Sciences Ingénierie Santé) | 1 | \n",
       "| PHAST, ED 52 (Physique et Astrophysique) | 1 | \n"
      ],
      "text/plain": [
       "<IPython.core.display.Markdown object>"
      ]
     },
     "metadata": {},
     "output_type": "display_data"
    },
    {
     "data": {
      "text/markdown": [
       "### Quelles sont les établissement gestionnaire des thèses ?"
      ],
      "text/plain": [
       "<IPython.core.display.Markdown object>"
      ]
     },
     "metadata": {},
     "output_type": "display_data"
    },
    {
     "data": {
      "text/markdown": [
       "| Nom | Quantité |\n",
       "| --- | --- |\n",
       "| UNIVERSITE LUMIERE - LYON 2 | 15 | \n",
       "| UNIVERSITE STENDHAL GRENOBLE - 3 | 11 | \n",
       "| UNIVERSITE JEAN MONNET - SAINT ETIENNE | 9 | \n",
       "| UNIVERSITE PIERRE MENDES FRANCE - GRENOBLE 2 | 8 | \n",
       "| ENS LYON (Ecole normale supérieure de Lyon) | 5 | \n",
       "| UNIVERSITE JEAN MOULIN LYON 3 | 4 | \n",
       "| INSA LYON (Institut national des sciences appliquées de Lyon) | 2 | \n",
       "| UNIVERSITE CLAUDE BERNARD - LYON 1 | 2 | \n",
       "| IEP GRENOBLE (Institut d’Etudes Politiques de Grenoble) | 1 | \n"
      ],
      "text/plain": [
       "<IPython.core.display.Markdown object>"
      ]
     },
     "metadata": {},
     "output_type": "display_data"
    },
    {
     "data": {
      "text/markdown": [
       "### A quelles villes sont rattachées ces établissement ?"
      ],
      "text/plain": [
       "<IPython.core.display.Markdown object>"
      ]
     },
     "metadata": {},
     "output_type": "display_data"
    },
    {
     "data": {
      "text/markdown": [
       "| Nom | Quantité |\n",
       "| --- | --- |\n",
       "| Lyon | 28 | \n",
       "| Grenoble | 20 | \n",
       "| Saint-Etienne | 9 | \n"
      ],
      "text/plain": [
       "<IPython.core.display.Markdown object>"
      ]
     },
     "metadata": {},
     "output_type": "display_data"
    },
    {
     "data": {
      "text/markdown": [
       "### Quels laboratoires  encadrent ces thèses ?"
      ],
      "text/plain": [
       "<IPython.core.display.Markdown object>"
      ]
     },
     "metadata": {},
     "output_type": "display_data"
    },
    {
     "data": {
      "text/markdown": [
       "| Nom | Quantité |\n",
       "| --- | --- |\n",
       "| LIDILEM (Laboratoire de Linguistique et Didactique des Langues Etrangères et Maternelles) | 5 | \n",
       "| LARHRA (Laboratoire de Recherche Historique Rhône-Alpes) | 4 | \n",
       "| Centre Max Weber (Laboratoire de sociologie) UMR 5283 | 4 | \n",
       "| ELICO (Équipe de recherche de Lyon en sciences de l'Information et de la COmmunication) | 3 | \n",
       "| CIEREC (Centre Interdisciplinaire d’Études et de Recherches sur l’Expression Contemporaine) | 3 | \n",
       "| GRESEC (Groupe de Recherche sur les Enjeux de la Communication ) | 3 | \n",
       "| LITT&ARTS (UMR 5316) | 3 | \n",
       "| S2HEP - Sciences, société, Historicité, Education, Pratiques | 3 | \n",
       "| EVS - Environnement Ville Société | 3 | \n",
       "| CRHIPA - Centre de Recherches en Histoire et histoire de l'art, Italie, Pays Alpins, interactions internationales | 3 | \n",
       "| LIRE (Littérature, Idéologies et Représentations aux XVIIIe et XIXe siècles) | 2 | \n",
       "| CIHAM – Histoire, Archéologie, Littératures des mondes chrétiens et musulmans médiévaux | 2 | \n",
       "| LIRIS (Laboratoire d'informatique en images et systèmes d'information) | 2 | \n",
       "| LSE - Laboratoire des Sciences de l'Éducation | 2 | \n",
       "| PLC (Philosophie, Langages & cognition) | 2 | \n",
       "|  | 1 | \n",
       "| EMC2 - LSG (Emotion Médiation Culture Connaissance - Laboratoire de sociologie de Grenoble) | 1 | \n",
       "| ERIC - Entrepôts, Représentation et Ingénierie des Connaissances | 1 | \n",
       "| Laboratoire de Physique de l’ENS de Lyon | 1 | \n",
       "| Triangle (Action, discours, pensée politique et économique) | 1 | \n",
       "| Passages XX-XXI (EA 4160) | 1 | \n",
       "| Institut Claude Longeon | 1 | \n",
       "| IRG - Institut de Recherche en Géographie | 1 | \n",
       "| IRPHIL - Institut de Recherches Philosophiques de Lyon | 1 | \n",
       "| Centre Norbert Elias | 1 | \n",
       "| ICAR (Interactions, Corpus, Apprentissages, Représentations) | 1 | \n",
       "| Pacte - Politiques publiques, ACtion politique, TErritoires (UMR 5194) | 1 | \n",
       "| GATE (Groupe d'Analyse et de Théorie Economique) | 1 | \n"
      ],
      "text/plain": [
       "<IPython.core.display.Markdown object>"
      ]
     },
     "metadata": {},
     "output_type": "display_data"
    }
   ],
   "source": [
    "fichier_theses = \"../final/ARC5-Final - ARC5-ADR.csv\"\n",
    "\n",
    "villes_etablissements = {\n",
    "  \"UNIVERSITE JOSEPH FOURIER - GRENOBLE 1\" : \"Grenoble\",\n",
    "  \"Ecole Nationale des Travaux Publics de l'Etat\" : \"Lyon\",\n",
    "  \"UNIVERSITE JEAN MOULIN LYON 3\" : \"Lyon\",\n",
    "  \"INSA LYON (Institut national des sciences appliquées de Lyon)\" : \"Lyon\",\n",
    "  \"UNIVERSITE CLAUDE BERNARD - LYON 1\" : \"Lyon\",\n",
    "  \"UNIVERSITE JEAN MONNET - SAINT ETIENNE\" : \"Saint-Etienne\",\n",
    "  \"UNIVERSITE LUMIERE - LYON 2\" : \"Lyon\",\n",
    "  \"UNIVERSITE PIERRE MENDES FRANCE - GRENOBLE 2\" : \"Grenoble\",\n",
    "  \"ENS LYON (Ecole normale supérieure de Lyon)\" : \"Lyon\",\n",
    "  \"IEP GRENOBLE (Institut d’Etudes Politiques de Grenoble)\" : \"Grenoble\",\n",
    "  \"CNRS - Centre national de la recherche scientifique (Délégation Auvergne Rhône-Alpes)\" : \"Lyon\",\n",
    "  \"UNIVERSITE STENDHAL GRENOBLE - 3\" : \"Grenoble\",\n",
    "  \"UNIVERSITE DE SAVOIE\" : \"Chambéry\",\n",
    "  \"ENSSIB (École nationale supérieure des sciences de l'information et des bibliothèques)\" : \"Lyon\"\n",
    "}\n",
    "\n",
    "\n",
    "ecoles_doctorales = []\n",
    "etablissements_theses = []\n",
    "labos_theses = []\n",
    "\n",
    "with open( fichier_theses, \"r\") as f :\n",
    "    reader = csv.DictReader(f)\n",
    "    for i, line in enumerate(reader) :\n",
    "        ecoles_doctorales.append(line[\"Ecole doctorale\"])\n",
    "        etablissements_theses.append(line[\"Etablissement gestionnaire\"])\n",
    "        labos_theses.append(line[\"Laboratoire\"])\n",
    "\n",
    "\n",
    "display(Markdown(\"## Thèses\"))\n",
    "\n",
    "display(Markdown(\"### Combien y a-t-il de thèses au total ? \"))\n",
    "print \"%s thèses\"%(i+1) \n",
    "  \n",
    "show_table(\"### Quelles sont les écoles doctorales impliquées dans la direction des thèses ?\", ecoles_doctorales)\n",
    "\n",
    "show_table(\"### Quelles sont les établissement gestionnaire des thèses ?\", etablissements_theses)\n",
    "    \n",
    "show_table(\"### A quelles villes sont rattachées ces établissement ?\", [villes_etablissements[t] for t in etablissements_theses] )\n",
    "\n",
    "show_table(\"### Quels laboratoires  encadrent ces thèses ?\", labos_theses)"
   ]
  },
  {
   "cell_type": "code",
   "execution_count": 132,
   "metadata": {
    "collapsed": false
   },
   "outputs": [
    {
     "data": {
      "image/png": "[encoded data removed]",
      "text/plain": [
       "<matplotlib.figure.Figure at 0x7f6caf9823d0>"
      ]
     },
     "metadata": {},
     "output_type": "display_data"
    },
    {
     "data": {
      "text/plain": [
       "<matplotlib.axes._subplots.AxesSubplot at 0x7f6caf99edd0>"
      ]
     },
     "execution_count": 132,
     "metadata": {},
     "output_type": "execute_result"
    }
   ],
   "source": [
    "# Nombre de thèses par années\n",
    "def getKey(item):\n",
    "    return item[0]\n",
    "\n",
    "years_start =[ parser.parse(str(these[1][\"start\"])).year for these in theses ]\n",
    "count_plot([y for y in years_start ], ylabel=\"Nombre de thèses\", xlabel=\"Année\", title='Thèses par années')"
   ]
  },
  {
   "cell_type": "code",
   "execution_count": 133,
   "metadata": {
    "collapsed": false
   },
   "outputs": [
    {
     "data": {
      "image/png": "[encoded data removed]",
      "text/plain": [
       "<matplotlib.figure.Figure at 0x7f6cafa52e50>"
      ]
     },
     "metadata": {},
     "output_type": "display_data"
    },
    {
     "data": {
      "text/plain": [
       "<matplotlib.axes._subplots.AxesSubplot at 0x7f6cafc5bed0>"
      ]
     },
     "execution_count": 133,
     "metadata": {},
     "output_type": "execute_result"
    }
   ],
   "source": [
    "theses_partenaires_type = []\n",
    "for ps in theses_partenaires: \n",
    "    theses_partenaires_type += [ G_with_projects.node[p][\"type\"] for p in ps if G_with_projects.node[p][\"type\"] != \"ADR\" and G_with_projects.node[p][\"type\"] != \"localité\" ]\n",
    "count_plot([t.decode('utf-8') for t in theses_partenaires_type], xlabel=\"Type de partenaires\", title='Type de partenaires des thèses')"
   ]
  },
  {
   "cell_type": "code",
   "execution_count": 134,
   "metadata": {
    "collapsed": true
   },
   "outputs": [],
   "source": [
    "# TODO : Nombres de thèses par axe thématique\n",
    "# theses_axes = [ t[1][\"axe\"] for t in theses]\n",
    "# print \"* axes des thèses: %s\"%Counter(theses_axes)\n"
   ]
  },
  {
   "cell_type": "code",
   "execution_count": 135,
   "metadata": {
    "collapsed": true
   },
   "outputs": [],
   "source": [
    "# Nombre de thèses multi-sites\n",
    "# TODO ???\n",
    "\n",
    "# TODO : Relations territoriales entre les différents partenaires\n",
    "for ps in theses_partenaires: \n",
    "    neighbors = []\n",
    "    for p in ps:\n",
    "        neighbors += G_with_projects.neighbors(p) \n",
    "#     print \"%s / %s\"%(len(ps),len(neighbors))\n",
    "    villes = [ n for n in neighbors if G_with_projects.node[n][\"type\"] == \"ville\" ]\n",
    "#     print villes\n",
    "#   print \"* villes des partenaires : %s\"%Counter( [ partenaires[p] for p in ps] )"
   ]
  },
  {
   "cell_type": "code",
   "execution_count": 136,
   "metadata": {
    "collapsed": false
   },
   "outputs": [
    {
     "name": "stdout",
     "output_type": "stream",
     "text": [
      "* thèses par annnée : [(2011, 7), (2012, 9), (2013, 11), (2014, 12), (2015, 9), (2016, 9)] \n",
      "\n",
      "* moyenne de partenaires par thèse : 1.59649122807\n"
     ]
    },
    {
     "data": {
      "image/png": "[encoded data removed]",
      "text/plain": [
       "<matplotlib.figure.Figure at 0x7f6caf9eb410>"
      ]
     },
     "metadata": {},
     "output_type": "display_data"
    },
    {
     "data": {
      "text/plain": [
       "<matplotlib.axes._subplots.AxesSubplot at 0x7f6caf68bf50>"
      ]
     },
     "execution_count": 136,
     "metadata": {},
     "output_type": "execute_result"
    }
   ],
   "source": [
    "# show_table(\"### Quels laboratoires  encadrent ces thèses ?\", labos_theses)\n",
    "print \"* thèses par annnée : %s \"%sorted(Counter(years_start).most_common(), key=getKey)\n",
    "print\n",
    "\n",
    "# Nombres et types d’organismes partenaires\n",
    "print \"* moyenne de partenaires par thèse : %s\"%moyenne([len(p) for p in theses_partenaires])\n",
    "count_plot([len(p) for p in theses_partenaires], xlabel=\"Nombre de partenaires\", title='Combien de partenaires par thèse ?')    "
   ]
  },
  {
   "cell_type": "code",
   "execution_count": 137,
   "metadata": {
    "collapsed": false
   },
   "outputs": [
    {
     "data": {
      "text/markdown": [
       "### Qui sont les partenaires des thèses ?"
      ],
      "text/plain": [
       "<IPython.core.display.Markdown object>"
      ]
     },
     "metadata": {},
     "output_type": "display_data"
    },
    {
     "data": {
      "text/markdown": [
       "| Nom | Quantité |\n",
       "| --- | --- |\n",
       "| bibliotheque-municipale-de-lyon-patrimoine | 5 | \n",
       "| musees-gadagne-patrimoine | 4 | \n",
       "| service-science-societe-de-luniversite-de-lyon-cst | 3 | \n",
       "| cnsmd-conservatoire-national-superieur-musique-et-danse-de-lyon-enseignement | 2 | \n",
       "| musee-dart-moderne-de-saint-etienne-metropole-patrimoine | 2 | \n",
       "| le-rize-patrimoine | 2 | \n",
       "| approche-numerique-des-revues-francaises-de-geographie-pour-une-relecture-epistemologique-des-savoirs-geographiques-ADR | 1 | \n",
       "| ministere-de-leducation-nationale-médiation | 1 | \n",
       "| direction-departementale-de-la-cohesion-sociale-de-lisere-médiation | 1 | \n",
       "| bibliotheque-municipale-de-grenoble-patrimoine | 1 | \n",
       "| images-iconiques-et-images-virtuelles-dans-la-patrimonialisation-des-regions-post-industrielles-le-cas-des-agglomerations-de-saint-etienne-et-de-cardiff-ADR | 1 | \n",
       "| felix-thiollier-et-le-livre-ADR | 1 | \n",
       "| arald-agence-rhone-alpes-pour-le-livre-et-la-documentation-médiation | 1 | \n",
       "| musee-gallo-romain-de-lyon-fourviere-patrimoine | 1 | \n",
       "| musee-de-la-mine-saint-etienne-patrimoine | 1 | \n",
       "| negociants-et-entrepreneurs-de-lyon-au-xviie-siecle-espaces-reseaux-et-pratiques-du-commerce-sous-lancien-regime-ADR | 1 | \n",
       "| webcastor-économique | 1 | \n",
       "| ensatt-ecole-nationale-superieure-darts-et-techniques-du-theatre-enseignement | 1 | \n",
       "| mfpf-rhone-mouvement-francais-pour-le-planning-familial-médiation | 1 | \n",
       "| palais-ideal-du-facteur-cheval-patrimoine | 1 | \n",
       "| musee-du-protestantisme-dauphinois-création | 1 | \n",
       "| inspection-academique-rectorat-de-lyon-enseignement | 1 | \n",
       "| federation-nationale-des-arts-de-la-rue-médiation | 1 | \n",
       "| les-editions-paul-martial-une-esthetique-industrielle-ADR | 1 | \n",
       "| museum-dhistoire-naturelle-de-grenoble-patrimoine | 1 | \n",
       "| la-prostitution-entre-grenoble-et-lyon-du-xviiie-siecle-au-milieu-du-xixe-siecle-representations-espaces-et-pratiques-ADR | 1 | \n",
       "| institut-national-de-laudiovisuel-ina-delegation-centre-est-patrimoine | 1 | \n",
       "| musee-de-tervuren-belgique-patrimoine | 1 | \n",
       "| direction-de-la-culture-du-conseil-general-rhone-service-des-proprietes-departementales-médiation | 1 | \n",
       "| parc-zoologique-de-la-marie-de-lyon-médiation | 1 | \n",
       "| cco-centre-culturel-oecumenique-de-villeurbanne-médiation | 1 | \n",
       "| archives-departementales-de-la-loire-patrimoine | 1 | \n",
       "| mc2-maison-de-la-culture-de-grenoble-médiation | 1 | \n",
       "| acrimed-69-médiation | 1 | \n",
       "| service-de-linventaire-general-du-patrimoine-culturel-de-la-region-rhone-alpes-patrimoine | 1 | \n",
       "| sur-les-pas-des-huguenots-patrimoine | 1 | \n",
       "| maths-a-modeler-médiation | 1 | \n",
       "| cinematheque-des-pays-de-savoie-et-de-lain-patrimoine | 1 | \n",
       "| musee-dorsay-patrimoine | 1 | \n",
       "| direction-des-services-departementaux-de-leducation-nationale-de-lisere-enseignement | 1 | \n",
       "| la-maison-de-la-creation-saint-martin-dheres-création | 1 | \n",
       "| le-developpement-dune-competence-interculturelle-apres-classement-dun-site-au-patrimoine-mondial-de-lunesco-un-pas-vers-le-dialogue-entre-les-peuples-ADR | 1 | \n",
       "| association-usine-sans-fin-patrimoine | 1 | \n",
       "| maison-de-la-danse-lyon-médiation | 1 | \n",
       "| musee-dauphinois-patrimoine | 1 | \n",
       "| aueg-alliance-universite-entreprise-de-grenoble-cst | 1 | \n",
       "| formasup-ain-rhone-loire-centre-de-formation-par-apprentissage-enseignement | 1 | \n",
       "| grame-centre-national-de-creation-musicale-médiation | 1 | \n",
       "| festival-a-nous-de-voir-cinema-et-science-création | 1 | \n",
       "| eunetstar-european-network-of-street-theater-médiation | 1 | \n",
       "| reflexion-semantique-et-esthetique-autour-des-usages-cartographiques-xvii-xxie-pratiques-culturelles-croisees-ADR | 1 | \n",
       "| conservatoire-militaire-de-musique-de-larmee-de-terre-cmmat-médiation | 1 | \n",
       "| grenoble-ville-de-localité | 1 | \n",
       "| lhexagone-scene-nationale-arts-sciences-création | 1 | \n",
       "| grand-lyon-localité | 1 | \n",
       "| compagnie-des-zonzons-theatre-de-marionnettes-création | 1 | \n",
       "| cnd-centre-national-de-la-danse-création | 1 | \n",
       "| horslesmurs-centre-national-de-ressource-des-art-de-la-rue-et-des-arts-du-cirque-médiation | 1 | \n",
       "| esad-ecole-superieure-dart-et-design-a-grenoble-valence-enseignement | 1 | \n",
       "| cie-gallota-compagnie-de-danse-création | 1 | \n",
       "| monastere-royal-de-brou-patrimoine | 1 | \n",
       "| cyclocity-lyon-économique | 1 | \n",
       "| conservatoire-a-rayonnement-regional-du-grand-chalon-enseignement | 1 | \n",
       "| cinematheque-de-grenoble-patrimoine | 1 | \n",
       "| les-criteres-devaluation-des-productions-urbaines-une-socio-anthropologie-de-la-creation-dans-les-arts-de-la-rue-ADR | 1 | \n",
       "| cefedem-centre-de-formation-des-enseignants-de-la-musique-enseignement | 1 | \n",
       "| onda-office-national-de-diffusion-artistique-médiation | 1 | \n",
       "| service-conservation-du-patrimoine-du-rhone-patrimoine | 1 | \n",
       "| mediatheque-municipale-de-saint-etienne-patrimoine | 1 | \n",
       "| archives-municipales-de-lyon-patrimoine | 1 | \n",
       "| le-pacifique-centre-du-developpement-choregraphique-grenoble-création | 1 | \n",
       "| cie-yoann-bourgeois-compagnie-de-danse-création | 1 | \n",
       "| levenementialisation-de-la-culture-scientifique-role-et-enjeux-des-manifestations-culturelles-dans-la-mediation-des-sciences-ADR | 1 | \n",
       "| elaboration-dune-memoire-collective-chez-les-refugies-du-genocide-rwandais-et-de-ses-suites-1994-1997-du-trauma-a-linsertion-en-rhone-alpes-ADR | 1 | \n",
       "| institut-lumiere-patrimoine | 1 | \n",
       "| enjeux-territoriaux-de-la-communication-scientifique-evolutions-et-nouvelles-formes-de-ledition-scientifique-douvrages-ADR | 1 | \n",
       "| continuites-et-renouvellements-de-lengagement-feministe-cas-du-planning-familial-en-rhone-alpes-ADR | 1 | \n",
       "| d2t-metroscope-entreprise-conception-de-moteurs-économique | 1 | \n",
       "| au-dela-de-la-manif-pour-tous-sociologie-des-engagements-feminins-conservateurs-ADR | 1 | \n"
      ],
      "text/plain": [
       "<IPython.core.display.Markdown object>"
      ]
     },
     "metadata": {},
     "output_type": "display_data"
    }
   ],
   "source": [
    "# Qui sont les partenaires des thèses ? \n",
    "parts = []\n",
    "for t in theses_partenaires: parts += [v.encode('utf-8') for v in t]\n",
    "show_table(\"### Qui sont les partenaires des thèses ?\", parts)"
   ]
  },
  {
   "cell_type": "markdown",
   "metadata": {},
   "source": [
    "## Les Projets de Recherche\n",
    "\n",
    "A part les Allocations de Recherche Doctorale, l'ARC5 a également financé des projets sur la période 2012-2013. Voici les résultats concernant ces projets, dits projets d'animations.\n"
   ]
  },
  {
   "cell_type": "code",
   "execution_count": 138,
   "metadata": {
    "collapsed": false
   },
   "outputs": [
    {
     "data": {
      "text/markdown": [
       "### Liste des projets de recherche (d'après le graphe)"
      ],
      "text/plain": [
       "<IPython.core.display.Markdown object>"
      ]
     },
     "metadata": {},
     "output_type": "display_data"
    },
    {
     "name": "stdout",
     "output_type": "stream",
     "text": [
      "66 projets\n"
     ]
    },
    {
     "data": {
      "text/markdown": [
       "**Les voyageuses britanniques à Lyon au XVIIIe siècle : regards sur une ville en mutation **\n",
       "\n",
       "* total liens : 9 \n",
       "* type de liens  : Counter({'patrimoine': 4, 'laboratoire': 2, 'projet': 1, 'etablissement': 1, 'm\\xc3\\xa9diation': 1}) \n",
       "* nombre de labos partenaires : 2 \n",
       "* nombre total de partenaires (hors labo et etablissements) : 5\n",
       "* nombre total d'etablissements (hors labo) : 1\n",
       "* villes impliquées : 0\n",
       "---------------\n",
       "\n",
       "**Saint-Simon et les saint-simoniens : questions d’économie, d’histoire et de littérature**\n",
       "\n",
       "* total liens : 6 \n",
       "* type de liens  : Counter({'patrimoine': 3, 'cr\\xc3\\xa9ation': 1, 'laboratoire': 1, 'etablissement': 1}) \n",
       "* nombre de labos partenaires : 1 \n",
       "* nombre total de partenaires (hors labo et etablissements) : 4\n",
       "* nombre total d'etablissements (hors labo) : 1\n",
       "* villes impliquées : 0\n",
       "---------------\n",
       "\n",
       "**Les voyageuses britanniques à Lyon au XVIIIe siècle : regards sur une ville en mutation (2ème partie) **\n",
       "\n",
       "* total liens : 4 \n",
       "* type de liens  : Counter({'laboratoire': 2, 'projet': 1, 'etablissement': 1}) \n",
       "* nombre de labos partenaires : 2 \n",
       "* nombre total de partenaires (hors labo et etablissements) : 0\n",
       "* nombre total d'etablissements (hors labo) : 1\n",
       "* villes impliquées : 0\n",
       "---------------\n",
       "\n",
       "**Les Pensées de Montesquieu, centre intellectuel des Lumières**\n",
       "\n",
       "* total liens : 2 \n",
       "* type de liens  : Counter({'laboratoire': 1, 'etablissement': 1}) \n",
       "* nombre de labos partenaires : 1 \n",
       "* nombre total de partenaires (hors labo et etablissements) : 0\n",
       "* nombre total d'etablissements (hors labo) : 1\n",
       "* villes impliquées : 0\n",
       "---------------\n",
       "\n",
       "**Human enhancement' et anthropotechnie : entre réalité et fiction**\n",
       "\n",
       "* total liens : 2 \n",
       "* type de liens  : Counter({'laboratoire': 1, 'etablissement': 1}) \n",
       "* nombre de labos partenaires : 1 \n",
       "* nombre total de partenaires (hors labo et etablissements) : 0\n",
       "* nombre total d'etablissements (hors labo) : 1\n",
       "* villes impliquées : 0\n",
       "---------------\n",
       "\n",
       "**Approche pluridisciplinaire de l'interaction personne-robot**\n",
       "\n",
       "* total liens : 3 \n",
       "* type de liens  : Counter({'laboratoire': 1, '\\xc3\\xa9conomique': 1, 'etablissement': 1}) \n",
       "* nombre de labos partenaires : 1 \n",
       "* nombre total de partenaires (hors labo et etablissements) : 1\n",
       "* nombre total d'etablissements (hors labo) : 1\n",
       "* villes impliquées : 0\n",
       "---------------\n",
       "\n",
       "**Le monastère royal de Brou : un foyer d'art international au temps des renaissances**\n",
       "\n",
       "* total liens : 4 \n",
       "* type de liens  : Counter({'ADR': 1, 'etablissement': 1, 'patrimoine': 1, 'laboratoire': 1}) \n",
       "* nombre de labos partenaires : 1 \n",
       "* nombre total de partenaires (hors labo et etablissements) : 2\n",
       "* nombre total d'etablissements (hors labo) : 1\n",
       "* villes impliquées : 0\n",
       "---------------\n",
       "\n",
       "**Prescription et recommandation culturelles à l'ère numérique**\n",
       "\n",
       "* total liens : 13 \n",
       "* type de liens  : Counter({'patrimoine': 4, 'cr\\xc3\\xa9ation': 3, 'm\\xc3\\xa9diation': 3, 'laboratoire': 1, 'etablissement': 1, '\\xc3\\xa9conomique': 1}) \n",
       "* nombre de labos partenaires : 1 \n",
       "* nombre total de partenaires (hors labo et etablissements) : 11\n",
       "* nombre total d'etablissements (hors labo) : 1\n",
       "* villes impliquées : 0\n",
       "---------------\n",
       "\n",
       "**Une approche générique pour la construction d'éditions critiques électroniques de corpus documentaires multistructurés.**\n",
       "\n",
       "* total liens : 3 \n",
       "* type de liens  : Counter({'laboratoire': 1, 'etablissement': 1, 'ADR': 1}) \n",
       "* nombre de labos partenaires : 1 \n",
       "* nombre total de partenaires (hors labo et etablissements) : 1\n",
       "* nombre total d'etablissements (hors labo) : 1\n",
       "* villes impliquées : 0\n",
       "---------------\n",
       "\n",
       "**Vers une théorie des concepts : l'apport des sciences cognitives**\n",
       "\n",
       "* total liens : 4 \n",
       "* type de liens  : Counter({'laboratoire': 2, 'projet': 1, 'etablissement': 1}) \n",
       "* nombre de labos partenaires : 2 \n",
       "* nombre total de partenaires (hors labo et etablissements) : 0\n",
       "* nombre total d'etablissements (hors labo) : 1\n",
       "* villes impliquées : 0\n",
       "---------------\n",
       "\n",
       "**\"Nouvelles\" organisations du travail en compagnie : quelles possibilités pour le spectacle vivant ?**\n",
       "\n",
       "* total liens : 6 \n",
       "* type de liens  : Counter({'m\\xc3\\xa9diation': 2, 'laboratoire': 1, 'enseignement': 1, 'cr\\xc3\\xa9ation': 1, 'etablissement': 1}) \n",
       "* nombre de labos partenaires : 1 \n",
       "* nombre total de partenaires (hors labo et etablissements) : 4\n",
       "* nombre total d'etablissements (hors labo) : 1\n",
       "* villes impliquées : 0\n",
       "---------------\n",
       "\n",
       "**MutEC : Mutualisation de pratiques pour les corpus et les éditions critiques numériques**\n",
       "\n",
       "* total liens : 2 \n",
       "* type de liens  : Counter({'laboratoire': 1, 'etablissement': 1}) \n",
       "* nombre de labos partenaires : 1 \n",
       "* nombre total de partenaires (hors labo et etablissements) : 0\n",
       "* nombre total d'etablissements (hors labo) : 1\n",
       "* villes impliquées : 0\n",
       "---------------\n",
       "\n",
       "**Conscience linguistique et pluralité de langues dans l'arc alpin : langue régionales, nationales, internationales**\n",
       "\n",
       "* total liens : 2 \n",
       "* type de liens  : Counter({'laboratoire': 1, 'etablissement': 1}) \n",
       "* nombre de labos partenaires : 1 \n",
       "* nombre total de partenaires (hors labo et etablissements) : 0\n",
       "* nombre total d'etablissements (hors labo) : 1\n",
       "* villes impliquées : 0\n",
       "---------------\n",
       "\n",
       "**Sciences, techniques et esthétiques de l'éclairage sur les scènes parisiennes et lyonnaises, du théâtre romantique au premier cinéma.**\n",
       "\n",
       "* total liens : 3 \n",
       "* type de liens  : Counter({'laboratoire': 1, 'etablissement': 1, 'ADR': 1}) \n",
       "* nombre de labos partenaires : 1 \n",
       "* nombre total de partenaires (hors labo et etablissements) : 1\n",
       "* nombre total d'etablissements (hors labo) : 1\n",
       "* villes impliquées : 0\n",
       "---------------\n",
       "\n",
       "**Epistêknê - Projet d’animation en vue de la création d’un GDR-CNRS Autour des processus de création-production dans les rapports Arts-Sciences-Techniques**\n",
       "\n",
       "* total liens : 8 \n",
       "* type de liens  : Counter({'laboratoire': 2, 'cr\\xc3\\xa9ation': 2, 'ADR': 2, 'etablissement': 1, 'localit\\xc3\\xa9': 1}) \n",
       "* nombre de labos partenaires : 2 \n",
       "* nombre total de partenaires (hors labo et etablissements) : 5\n",
       "* nombre total d'etablissements (hors labo) : 1\n",
       "* villes impliquées : 0\n",
       "---------------\n",
       "\n",
       "**Les langues et le genre (grammaires, cultures, littératures)**\n",
       "\n",
       "* total liens : 3 \n",
       "* type de liens  : Counter({'laboratoire': 1, 'etablissement': 1, 'patrimoine': 1}) \n",
       "* nombre de labos partenaires : 1 \n",
       "* nombre total de partenaires (hors labo et etablissements) : 1\n",
       "* nombre total d'etablissements (hors labo) : 1\n",
       "* villes impliquées : 0\n",
       "---------------\n",
       "\n",
       "**Elaboration d'une mémoire collective chez les réfugiés du génocide rwandais et de ses suites (1994 ? 1997) : du trauma à l'insertion en Rhône-Alpes**\n",
       "\n",
       "* total liens : 4 \n",
       "* type de liens  : Counter({'ADR': 2, 'laboratoire': 1, 'etablissement': 1}) \n",
       "* nombre de labos partenaires : 1 \n",
       "* nombre total de partenaires (hors labo et etablissements) : 2\n",
       "* nombre total d'etablissements (hors labo) : 1\n",
       "* villes impliquées : 0\n",
       "---------------\n",
       "\n",
       "**Le livre à Lyon à la Renaissance**\n",
       "\n",
       "* total liens : 4 \n",
       "* type de liens  : Counter({'laboratoire': 2, 'projet': 1, 'etablissement': 1}) \n",
       "* nombre de labos partenaires : 2 \n",
       "* nombre total de partenaires (hors labo et etablissements) : 0\n",
       "* nombre total d'etablissements (hors labo) : 1\n",
       "* villes impliquées : 0\n",
       "---------------\n",
       "\n",
       "**Initiation scientifique en CP et en CE1 et apprentissages langagiers : quelles pratiques efficaces pour les élèves provenant de milieux défavorisés ?**\n",
       "\n",
       "* total liens : 3 \n",
       "* type de liens  : Counter({'laboratoire': 1, 'etablissement': 1, 'ADR': 1}) \n",
       "* nombre de labos partenaires : 1 \n",
       "* nombre total de partenaires (hors labo et etablissements) : 1\n",
       "* nombre total d'etablissements (hors labo) : 1\n",
       "* villes impliquées : 0\n",
       "---------------\n",
       "\n",
       "**CORrespondance de Paolo SARpi**\n",
       "\n",
       "* total liens : 5 \n",
       "* type de liens  : Counter({'laboratoire': 1, 'cr\\xc3\\xa9ation': 1, 'patrimoine': 1, 'm\\xc3\\xa9diation': 1, 'etablissement': 1}) \n",
       "* nombre de labos partenaires : 1 \n",
       "* nombre total de partenaires (hors labo et etablissements) : 3\n",
       "* nombre total d'etablissements (hors labo) : 1\n",
       "* villes impliquées : 0\n",
       "---------------\n",
       "\n",
       "**Science et technique en fictions, quels regards portés par les jeunes ?**\n",
       "\n",
       "* total liens : 4 \n",
       "* type de liens  : Counter({'laboratoire': 1, 'etablissement': 1, 'patrimoine': 1, 'cst': 1}) \n",
       "* nombre de labos partenaires : 1 \n",
       "* nombre total de partenaires (hors labo et etablissements) : 2\n",
       "* nombre total d'etablissements (hors labo) : 1\n",
       "* villes impliquées : 0\n",
       "---------------\n",
       "\n",
       "**La réprésentation de la norme en Allemagne : de la pensée au cinéma**\n",
       "\n",
       "* total liens : 8 \n",
       "* type de liens  : Counter({'m\\xc3\\xa9diation': 3, 'laboratoire': 1, 'etablissement': 1, 'patrimoine': 1, 'cr\\xc3\\xa9ation': 1, 'localit\\xc3\\xa9': 1}) \n",
       "* nombre de labos partenaires : 1 \n",
       "* nombre total de partenaires (hors labo et etablissements) : 6\n",
       "* nombre total d'etablissements (hors labo) : 1\n",
       "* villes impliquées : 0\n",
       "---------------\n",
       "\n",
       "**Atelier Internet Lyonnais (AIL)**\n",
       "\n",
       "* total liens : 3 \n",
       "* type de liens  : Counter({'laboratoire': 1, 'etablissement': 1, 'm\\xc3\\xa9diation': 1}) \n",
       "* nombre de labos partenaires : 1 \n",
       "* nombre total de partenaires (hors labo et etablissements) : 1\n",
       "* nombre total d'etablissements (hors labo) : 1\n",
       "* villes impliquées : 0\n",
       "---------------\n",
       "\n",
       "**CLELIA 2 : du fonds de manuscrits de Stendhal à d'autres corpus rhône-alpins, valorisation d'une mémoire culturelle collective par l’édition électronique. **\n",
       "\n",
       "* total liens : 13 \n",
       "* type de liens  : Counter({'patrimoine': 6, 'laboratoire': 2, 'm\\xc3\\xa9diation': 2, 'ADR': 1, 'etablissement': 1, 'projet': 1}) \n",
       "* nombre de labos partenaires : 2 \n",
       "* nombre total de partenaires (hors labo et etablissements) : 9\n",
       "* nombre total d'etablissements (hors labo) : 1\n",
       "* villes impliquées : 0\n",
       "---------------\n",
       "\n",
       "**Appropriation et traitement cognitif de représentations externes émergentes : paradoxe représentationnel et prise en compte de la spécificité du domaine d'application**\n",
       "\n",
       "* total liens : 3 \n",
       "* type de liens  : Counter({'laboratoire': 1, 'etablissement': 1, 'ADR': 1}) \n",
       "* nombre de labos partenaires : 1 \n",
       "* nombre total de partenaires (hors labo et etablissements) : 1\n",
       "* nombre total d'etablissements (hors labo) : 1\n",
       "* villes impliquées : 0\n",
       "---------------\n",
       "\n",
       "**Les formes du débat. Querelles, polémiques et controverses à l’âge classique**\n",
       "\n",
       "* total liens : 7 \n",
       "* type de liens  : Counter({'laboratoire': 2, 'patrimoine': 2, 'ADR': 1, 'cr\\xc3\\xa9ation': 1, 'etablissement': 1}) \n",
       "* nombre de labos partenaires : 2 \n",
       "* nombre total de partenaires (hors labo et etablissements) : 4\n",
       "* nombre total d'etablissements (hors labo) : 1\n",
       "* villes impliquées : 0\n",
       "---------------\n",
       "\n",
       "**Mythes et idéologies chez Homère et dans la poésie post-homérique**\n",
       "\n",
       "* total liens : 2 \n",
       "* type de liens  : Counter({'laboratoire': 1, 'etablissement': 1}) \n",
       "* nombre de labos partenaires : 1 \n",
       "* nombre total de partenaires (hors labo et etablissements) : 0\n",
       "* nombre total d'etablissements (hors labo) : 1\n",
       "* villes impliquées : 0\n",
       "---------------\n",
       "\n",
       "**MARA. Monnaie antique en Rhône-Alpes : du document monétaire à son exploitation **\n",
       "\n",
       "* total liens : 3 \n",
       "* type de liens  : Counter({'laboratoire': 1, 'postdoc': 1, 'etablissement': 1}) \n",
       "* nombre de labos partenaires : 1 \n",
       "* nombre total de partenaires (hors labo et etablissements) : 1\n",
       "* nombre total d'etablissements (hors labo) : 1\n",
       "* villes impliquées : 0\n",
       "---------------\n",
       "\n",
       "**Archives cinématographiques en Rhône-Alpes : entre documents et création**\n",
       "\n",
       "* total liens : 8 \n",
       "* type de liens  : Counter({'cr\\xc3\\xa9ation': 4, 'laboratoire': 1, 'enseignement': 1, 'patrimoine': 1, 'etablissement': 1}) \n",
       "* nombre de labos partenaires : 1 \n",
       "* nombre total de partenaires (hors labo et etablissements) : 6\n",
       "* nombre total d'etablissements (hors labo) : 1\n",
       "* villes impliquées : 0\n",
       "---------------\n",
       "\n",
       "**Le Journal de Lyon de Léonard Michon, notable lyonnais (1675-1746). Édition numérique critique**\n",
       "\n",
       "* total liens : 3 \n",
       "* type de liens  : Counter({'laboratoire': 1, 'etablissement': 1, 'ADR': 1}) \n",
       "* nombre de labos partenaires : 1 \n",
       "* nombre total de partenaires (hors labo et etablissements) : 1\n",
       "* nombre total d'etablissements (hors labo) : 1\n",
       "* villes impliquées : 0\n",
       "---------------\n",
       "\n",
       "**Economie de l’attention et enchantements médiatiques**\n",
       "\n",
       "* total liens : 7 \n",
       "* type de liens  : Counter({'cr\\xc3\\xa9ation': 2, 'laboratoire': 2, 'cst': 1, 'ADR': 1, 'etablissement': 1}) \n",
       "* nombre de labos partenaires : 2 \n",
       "* nombre total de partenaires (hors labo et etablissements) : 4\n",
       "* nombre total d'etablissements (hors labo) : 1\n",
       "* villes impliquées : 0\n",
       "---------------\n",
       "\n",
       "**Les nouvelles formes de la communication et de la culture scientifiques et techniques **\n",
       "\n",
       "* total liens : 7 \n",
       "* type de liens  : Counter({'m\\xc3\\xa9diation': 3, 'cst': 1, 'cr\\xc3\\xa9ation': 1, 'etablissement': 1, 'laboratoire': 1}) \n",
       "* nombre de labos partenaires : 1 \n",
       "* nombre total de partenaires (hors labo et etablissements) : 5\n",
       "* nombre total d'etablissements (hors labo) : 1\n",
       "* villes impliquées : 0\n",
       "---------------\n",
       "\n",
       "**Les mobilisations patrimoniales et leurs enjeux au sein de l'extrême droite groupusculaire rhône-alpine**\n",
       "\n",
       "* total liens : 4 \n",
       "* type de liens  : Counter({'ADR': 2, 'laboratoire': 1, 'etablissement': 1}) \n",
       "* nombre de labos partenaires : 1 \n",
       "* nombre total de partenaires (hors labo et etablissements) : 2\n",
       "* nombre total d'etablissements (hors labo) : 1\n",
       "* villes impliquées : 0\n",
       "---------------\n",
       "\n",
       "**Valorisation multi-facettes d'inscriptions antiques : épigraphie et médiations numériques**\n",
       "\n",
       "* total liens : 7 \n",
       "* type de liens  : Counter({'patrimoine': 3, 'laboratoire': 2, 'projet': 1, 'etablissement': 1}) \n",
       "* nombre de labos partenaires : 2 \n",
       "* nombre total de partenaires (hors labo et etablissements) : 3\n",
       "* nombre total d'etablissements (hors labo) : 1\n",
       "* villes impliquées : 0\n",
       "---------------\n",
       "\n",
       "**Les principes de justice dans l'économie saint-simonienne : un éclairage actuel sur les « socialismes ».**\n",
       "\n",
       "* total liens : 3 \n",
       "* type de liens  : Counter({'laboratoire': 1, 'etablissement': 1, 'ADR': 1}) \n",
       "* nombre de labos partenaires : 1 \n",
       "* nombre total de partenaires (hors labo et etablissements) : 1\n",
       "* nombre total d'etablissements (hors labo) : 1\n",
       "* villes impliquées : 0\n",
       "---------------\n",
       "\n",
       "**Monnaie impériale et corpus numismatique en Rhône-Alpes **\n",
       "\n",
       "* total liens : 2 \n",
       "* type de liens  : Counter({'laboratoire': 1, 'etablissement': 1}) \n",
       "* nombre de labos partenaires : 1 \n",
       "* nombre total de partenaires (hors labo et etablissements) : 0\n",
       "* nombre total d'etablissements (hors labo) : 1\n",
       "* villes impliquées : 0\n",
       "---------------\n",
       "\n",
       "**Cholon 2014 : Visualisation de la sauvegarde du patrimoine d'un quartier d'Ho Chi Minh-Ville**\n",
       "\n",
       "* total liens : 3 \n",
       "* type de liens  : Counter({'laboratoire': 1, 'etablissement': 1, 'm\\xc3\\xa9diation': 1}) \n",
       "* nombre de labos partenaires : 1 \n",
       "* nombre total de partenaires (hors labo et etablissements) : 1\n",
       "* nombre total d'etablissements (hors labo) : 1\n",
       "* villes impliquées : 0\n",
       "---------------\n",
       "\n",
       "**Modéliser en classe : défis scientifiques, enjeux pratiques**\n",
       "\n",
       "* total liens : 2 \n",
       "* type de liens  : Counter({'laboratoire': 1, 'etablissement': 1}) \n",
       "* nombre de labos partenaires : 1 \n",
       "* nombre total de partenaires (hors labo et etablissements) : 0\n",
       "* nombre total d'etablissements (hors labo) : 1\n",
       "* villes impliquées : 0\n",
       "---------------\n",
       "\n",
       "**L'offre de livres numériques à destination des bibliothèques de lecture publique**\n",
       "\n",
       "* total liens : 3 \n",
       "* type de liens  : Counter({'laboratoire': 1, 'etablissement': 1, 'm\\xc3\\xa9diation': 1}) \n",
       "* nombre de labos partenaires : 1 \n",
       "* nombre total de partenaires (hors labo et etablissements) : 1\n",
       "* nombre total d'etablissements (hors labo) : 1\n",
       "* villes impliquées : 0\n",
       "---------------\n",
       "\n",
       "**L’e-culture en partage**\n",
       "\n",
       "* total liens : 6 \n",
       "* type de liens  : Counter({'cr\\xc3\\xa9ation': 2, 'patrimoine': 1, 'etablissement': 1, 'm\\xc3\\xa9diation': 1, 'laboratoire': 1}) \n",
       "* nombre de labos partenaires : 1 \n",
       "* nombre total de partenaires (hors labo et etablissements) : 4\n",
       "* nombre total d'etablissements (hors labo) : 1\n",
       "* villes impliquées : 0\n",
       "---------------\n",
       "\n",
       "**Séminaire : Ecrire les modernités arabes**\n",
       "\n",
       "* total liens : 5 \n",
       "* type de liens  : Counter({'m\\xc3\\xa9diation': 3, 'laboratoire': 1, 'etablissement': 1}) \n",
       "* nombre de labos partenaires : 1 \n",
       "* nombre total de partenaires (hors labo et etablissements) : 3\n",
       "* nombre total d'etablissements (hors labo) : 1\n",
       "* villes impliquées : 0\n",
       "---------------\n",
       "\n",
       "**Chaînes Editoriales Patrimoniales : Corpus Electroniques et Papier (CEP2)**\n",
       "\n",
       "* total liens : 14 \n",
       "* type de liens  : Counter({'patrimoine': 6, 'm\\xc3\\xa9diation': 3, 'laboratoire': 2, 'ADR': 1, 'etablissement': 1, 'projet': 1}) \n",
       "* nombre de labos partenaires : 2 \n",
       "* nombre total de partenaires (hors labo et etablissements) : 10\n",
       "* nombre total d'etablissements (hors labo) : 1\n",
       "* villes impliquées : 0\n",
       "---------------\n",
       "\n",
       "**Le temps du voyage : rythmes et perception de la durée dans les pratiques du voyage en Europe entre Lumières et romantisme (18e siècle-milieu 19e siècle)**\n",
       "\n",
       "* total liens : 3 \n",
       "* type de liens  : Counter({'laboratoire': 1, 'etablissement': 1, 'ADR': 1}) \n",
       "* nombre de labos partenaires : 1 \n",
       "* nombre total de partenaires (hors labo et etablissements) : 1\n",
       "* nombre total d'etablissements (hors labo) : 1\n",
       "* villes impliquées : 0\n",
       "---------------\n",
       "\n",
       "**Genre et groupe social : approche développementale de la construction précoce de l'identité sociolinguistique dans les interactions parents-enfants**\n",
       "\n",
       "* total liens : 3 \n",
       "* type de liens  : Counter({'laboratoire': 1, 'etablissement': 1, 'ADR': 1}) \n",
       "* nombre de labos partenaires : 1 \n",
       "* nombre total de partenaires (hors labo et etablissements) : 1\n",
       "* nombre total d'etablissements (hors labo) : 1\n",
       "* villes impliquées : 0\n",
       "---------------\n",
       "\n",
       "**Fabula agitur! Théâtre et apprentissage des langues anciennes**\n",
       "\n",
       "* total liens : 2 \n",
       "* type de liens  : Counter({'laboratoire': 1, 'etablissement': 1}) \n",
       "* nombre de labos partenaires : 1 \n",
       "* nombre total de partenaires (hors labo et etablissements) : 0\n",
       "* nombre total d'etablissements (hors labo) : 1\n",
       "* villes impliquées : 0\n",
       "---------------\n",
       "\n",
       "**La médiatisation des techniques financières en France et en Grande-Bretagne depuis 1987**\n",
       "\n",
       "* total liens : 3 \n",
       "* type de liens  : Counter({'laboratoire': 1, 'etablissement': 1, 'ADR': 1}) \n",
       "* nombre de labos partenaires : 1 \n",
       "* nombre total de partenaires (hors labo et etablissements) : 1\n",
       "* nombre total d'etablissements (hors labo) : 1\n",
       "* villes impliquées : 0\n",
       "---------------\n",
       "\n",
       "**L'Europe des controverses à l'âge classique. Radicalité et circulation des idées en Europe (XVIIe-XVIIIe siècles)**\n",
       "\n",
       "* total liens : 4 \n",
       "* type de liens  : Counter({'laboratoire': 2, 'projet': 1, 'etablissement': 1}) \n",
       "* nombre de labos partenaires : 2 \n",
       "* nombre total de partenaires (hors labo et etablissements) : 0\n",
       "* nombre total d'etablissements (hors labo) : 1\n",
       "* villes impliquées : 0\n",
       "---------------\n",
       "\n",
       "**Les nouvelles formes de la communication et de la culture scientifiques et techniques (2e volet)**\n",
       "\n",
       "* total liens : 4 \n",
       "* type de liens  : Counter({'ADR': 2, 'laboratoire': 1, 'etablissement': 1}) \n",
       "* nombre de labos partenaires : 1 \n",
       "* nombre total de partenaires (hors labo et etablissements) : 2\n",
       "* nombre total d'etablissements (hors labo) : 1\n",
       "* villes impliquées : 0\n",
       "---------------\n",
       "\n",
       "**Des nouvelles disciplines scientifiques – exemples et leçons.**\n",
       "\n",
       "* total liens : 2 \n",
       "* type de liens  : Counter({'laboratoire': 1, 'etablissement': 1}) \n",
       "* nombre de labos partenaires : 1 \n",
       "* nombre total de partenaires (hors labo et etablissements) : 0\n",
       "* nombre total d'etablissements (hors labo) : 1\n",
       "* villes impliquées : 0\n",
       "---------------\n",
       "\n",
       "**Groupe de travail et colloque international : « Itinéraires de Reconnaissance. Espaces culturels et aspirations minoritaires »**\n",
       "\n",
       "* total liens : 8 \n",
       "* type de liens  : Counter({'laboratoire': 2, 'm\\xc3\\xa9diation': 2, 'localit\\xc3\\xa9': 2, 'projet': 1, 'etablissement': 1}) \n",
       "* nombre de labos partenaires : 2 \n",
       "* nombre total de partenaires (hors labo et etablissements) : 4\n",
       "* nombre total d'etablissements (hors labo) : 1\n",
       "* villes impliquées : 0\n",
       "---------------\n",
       "\n",
       "**Neuroéthique et Philosophie**\n",
       "\n",
       "* total liens : 4 \n",
       "* type de liens  : Counter({'laboratoire': 2, 'projet': 1, 'etablissement': 1}) \n",
       "* nombre de labos partenaires : 2 \n",
       "* nombre total de partenaires (hors labo et etablissements) : 0\n",
       "* nombre total d'etablissements (hors labo) : 1\n",
       "* villes impliquées : 0\n",
       "---------------\n",
       "\n",
       "**Esthétisation de l'espace public et tournant culturel des métropoles (ESTHER)**\n",
       "\n",
       "* total liens : 3 \n",
       "* type de liens  : Counter({'laboratoire': 1, 'etablissement': 1, 'm\\xc3\\xa9diation': 1}) \n",
       "* nombre de labos partenaires : 1 \n",
       "* nombre total de partenaires (hors labo et etablissements) : 1\n",
       "* nombre total d'etablissements (hors labo) : 1\n",
       "* villes impliquées : 0\n",
       "---------------\n",
       "\n",
       "**Le développement des ressources minières dans les Amériques : mutations d'un continent (Projet également déposé dans le cadre de l'ARC 3) **\n",
       "\n",
       "* total liens : 5 \n",
       "* type de liens  : Counter({'laboratoire': 1, 'cr\\xc3\\xa9ation': 1, 'patrimoine': 1, 'm\\xc3\\xa9diation': 1, 'etablissement': 1}) \n",
       "* nombre de labos partenaires : 1 \n",
       "* nombre total de partenaires (hors labo et etablissements) : 3\n",
       "* nombre total d'etablissements (hors labo) : 1\n",
       "* villes impliquées : 0\n",
       "---------------\n",
       "\n",
       "**Aux origines des cultures urbaines : les langages de la ville antique **\n",
       "\n",
       "* total liens : 3 \n",
       "* type de liens  : Counter({'laboratoire': 1, 'cr\\xc3\\xa9ation': 1, 'etablissement': 1}) \n",
       "* nombre de labos partenaires : 1 \n",
       "* nombre total de partenaires (hors labo et etablissements) : 1\n",
       "* nombre total d'etablissements (hors labo) : 1\n",
       "* villes impliquées : 0\n",
       "---------------\n",
       "\n",
       "**Itinéraires de reconnaissance, espaces culturels et aspirations minoritaires**\n",
       "\n",
       "* total liens : 4 \n",
       "* type de liens  : Counter({'laboratoire': 2, 'projet': 1, 'etablissement': 1}) \n",
       "* nombre de labos partenaires : 2 \n",
       "* nombre total de partenaires (hors labo et etablissements) : 0\n",
       "* nombre total d'etablissements (hors labo) : 1\n",
       "* villes impliquées : 0\n",
       "---------------\n",
       "\n",
       "**Modélisation participative des grandes bases de données sociales**\n",
       "\n",
       "* total liens : 2 \n",
       "* type de liens  : Counter({'laboratoire': 1, 'etablissement': 1}) \n",
       "* nombre de labos partenaires : 1 \n",
       "* nombre total de partenaires (hors labo et etablissements) : 0\n",
       "* nombre total d'etablissements (hors labo) : 1\n",
       "* villes impliquées : 0\n",
       "---------------\n",
       "\n",
       "**Cinéma d'animation : un héritage en partage**\n",
       "\n",
       "* total liens : 6 \n",
       "* type de liens  : Counter({'patrimoine': 3, 'laboratoire': 1, 'etablissement': 1, 'm\\xc3\\xa9diation': 1}) \n",
       "* nombre de labos partenaires : 1 \n",
       "* nombre total de partenaires (hors labo et etablissements) : 4\n",
       "* nombre total d'etablissements (hors labo) : 1\n",
       "* villes impliquées : 0\n",
       "---------------\n",
       "\n",
       "**Inventaire toponymique du massif de la Chartreuse**\n",
       "\n",
       "* total liens : 3 \n",
       "* type de liens  : Counter({'laboratoire': 1, 'etablissement': 1, 'm\\xc3\\xa9diation': 1}) \n",
       "* nombre de labos partenaires : 1 \n",
       "* nombre total de partenaires (hors labo et etablissements) : 1\n",
       "* nombre total d'etablissements (hors labo) : 1\n",
       "* villes impliquées : 0\n",
       "---------------\n",
       "\n",
       "**Étude et valorisation du Fonds Paul-Martial (1927-1960)**\n",
       "\n",
       "* total liens : 8 \n",
       "* type de liens  : Counter({'ADR': 2, 'laboratoire': 2, 'patrimoine': 2, 'enseignement': 1, 'etablissement': 1}) \n",
       "* nombre de labos partenaires : 2 \n",
       "* nombre total de partenaires (hors labo et etablissements) : 5\n",
       "* nombre total d'etablissements (hors labo) : 1\n",
       "* villes impliquées : 0\n",
       "---------------\n",
       "\n",
       "**SOCIO**\n",
       "\n",
       "* total liens : 5 \n",
       "* type de liens  : Counter({'cr\\xc3\\xa9ation': 2, 'cst': 1, 'etablissement': 1, 'laboratoire': 1}) \n",
       "* nombre de labos partenaires : 1 \n",
       "* nombre total de partenaires (hors labo et etablissements) : 3\n",
       "* nombre total d'etablissements (hors labo) : 1\n",
       "* villes impliquées : 0\n",
       "---------------\n",
       "\n",
       "**La naissance d'un genre : le roman d'anticipation au tournant du XIXe siècle (1860-1930)**\n",
       "\n",
       "* total liens : 4 \n",
       "* type de liens  : Counter({'laboratoire': 1, 'cr\\xc3\\xa9ation': 1, 'patrimoine': 1, 'etablissement': 1}) \n",
       "* nombre de labos partenaires : 1 \n",
       "* nombre total de partenaires (hors labo et etablissements) : 2\n",
       "* nombre total d'etablissements (hors labo) : 1\n",
       "* villes impliquées : 0\n",
       "---------------\n",
       "\n",
       "**Une approche communicationelle de l'activité physique : médiation scientifique numérique et santé publique**\n",
       "\n",
       "* total liens : 4 \n",
       "* type de liens  : Counter({'\\xc3\\xa9conomique': 1, 'laboratoire': 1, 'etablissement': 1, 'cr\\xc3\\xa9ation': 1}) \n",
       "* nombre de labos partenaires : 1 \n",
       "* nombre total de partenaires (hors labo et etablissements) : 2\n",
       "* nombre total d'etablissements (hors labo) : 1\n",
       "* villes impliquées : 0\n",
       "---------------\n",
       "\n",
       "**Atelier Sciences et voix (ASV)**\n",
       "\n",
       "* total liens : 6 \n",
       "* type de liens  : Counter({'enseignement': 2, 'laboratoire': 1, 'cr\\xc3\\xa9ation': 1, 'etablissement': 1, 'cst': 1}) \n",
       "* nombre de labos partenaires : 1 \n",
       "* nombre total de partenaires (hors labo et etablissements) : 4\n",
       "* nombre total d'etablissements (hors labo) : 1\n",
       "* villes impliquées : 0\n",
       "---------------\n",
       "\n",
       "**Voix-Corps-Langage, bien-être Homme/Animal, médiation et apprentissage**\n",
       "\n",
       "* total liens : 7 \n",
       "* type de liens  : Counter({'cr\\xc3\\xa9ation': 5, 'laboratoire': 1, 'etablissement': 1}) \n",
       "* nombre de labos partenaires : 1 \n",
       "* nombre total de partenaires (hors labo et etablissements) : 5\n",
       "* nombre total d'etablissements (hors labo) : 1\n",
       "* villes impliquées : 0\n",
       "---------------\n",
       "\n",
       "**Élaboration, mise en oeuvre et exploitation d'un modèle de description d'objets archéologiques complexes : le projet céramique 3.0**\n",
       "\n",
       "* total liens : 3 \n",
       "* type de liens  : Counter({'laboratoire': 1, 'etablissement': 1, 'ADR': 1}) \n",
       "* nombre de labos partenaires : 1 \n",
       "* nombre total de partenaires (hors labo et etablissements) : 1\n",
       "* nombre total d'etablissements (hors labo) : 1\n",
       "* villes impliquées : 0\n",
       "---------------\n",
       "\n",
       "**Le livre italien à Lyon au XVIe siècle**\n",
       "\n",
       "* total liens : 7 \n",
       "* type de liens  : Counter({'laboratoire': 2, 'patrimoine': 2, 'projet': 1, 'etablissement': 1, 'm\\xc3\\xa9diation': 1}) \n",
       "* nombre de labos partenaires : 2 \n",
       "* nombre total de partenaires (hors labo et etablissements) : 3\n",
       "* nombre total d'etablissements (hors labo) : 1\n",
       "* villes impliquées : 0\n",
       "---------------\n",
       "\n"
      ],
      "text/plain": [
       "<IPython.core.display.Markdown object>"
      ]
     },
     "metadata": {},
     "output_type": "display_data"
    }
   ],
   "source": [
    "display(Markdown(\"### Liste des projets de recherche (d'après le graphe)\"))\n",
    "liste_projets = \"\"\n",
    "\n",
    "projets = [n for n in G_with_projects.nodes(data=True) if n[1][\"type\"] == \"projet\" and n[1][\"orga\"] == \"ARC5\"]\n",
    "print \"%s projets\"%len(projets)\n",
    "\n",
    "# Nombre de projets (cluster 13 et 14 puis ARC5)\n",
    "projets_partenaires = []\n",
    "projets_labos = []\n",
    "projets_etablissements = []\n",
    "projets_villes = []\n",
    "\n",
    "# Nombre de projets avec partenaires (socio-économiques et socio-culturels)\n",
    "for projet in projets:\n",
    "    \n",
    "    neighbors = G_with_projects.neighbors(projet[0])\n",
    "    liste_projets += \"**%s**\\n\\n\"%projet[1][\"name\"] \n",
    "    liste_projets += \"* total liens : %s \\n\"%len(neighbors)\n",
    "    liste_projets += \"* type de liens  : %s \\n\"%Counter([G_with_projects.node[n][\"type\"] for n in neighbors])\n",
    "    \n",
    "    labos = [ n for n in neighbors if G_with_projects.node[n][\"type\"] == \"laboratoire\" ]\n",
    "    projets_labos.append( labos )\n",
    "    projet[1][\"labos\"] = labos\n",
    "\n",
    "    liste_projets += \"* nombre de labos partenaires : %s \\n\"%len(labos)\n",
    "    \n",
    "    partenaires = [ n for n in neighbors if G_with_projects.node[n][\"type\"] not in [\"projet\",\"laboratoire\", \"ecole-doctorale\", \"etablissement\", \"ville\", \"projet\" ] ]\n",
    "    projets_partenaires.append(partenaires)\n",
    "    liste_projets += \"* nombre total de partenaires (hors labo et etablissements) : %s\\n\"%len(partenaires)\n",
    "    \n",
    "    etablissements = [ n for n in neighbors if G_with_projects.node[n][\"type\"] == \"etablissement\" ]\n",
    "    projets_etablissements.append(etablissements)\n",
    "    liste_projets += \"* nombre total d'etablissements (hors labo) : %s\\n\"%len(etablissements)\n",
    "    \n",
    "    villes = [ n for n in neighbors if G_with_projects.node[n][\"type\"] == \"ville\" ]\n",
    "    projets_villes.append(villes)\n",
    "    liste_projets += \"* villes impliquées : %s\\n\"%len(villes)\n",
    "    \n",
    "    liste_projets += \"-\"*15 + \"\\n\\n\"\n",
    "    \n",
    "display(Markdown(liste_projets))"
   ]
  },
  {
   "cell_type": "code",
   "execution_count": 139,
   "metadata": {
    "collapsed": false
   },
   "outputs": [
    {
     "name": "stdout",
     "output_type": "stream",
     "text": [
      "* projets par annnée : [(2012, 27), (2013, 39)] \n"
     ]
    }
   ],
   "source": [
    "years_start =[ parser.parse(str(these[1][\"start\"])).year for these in projets ]\n",
    "print \"* projets par annnée : %s \"%sorted(Counter(years_start).most_common(), key=getKey)"
   ]
  },
  {
   "cell_type": "code",
   "execution_count": 140,
   "metadata": {
    "collapsed": false
   },
   "outputs": [
    {
     "name": "stdout",
     "output_type": "stream",
     "text": [
      "* moyenne de partenaires par projet: 2.27272727273\n"
     ]
    },
    {
     "data": {
      "image/png": "[encoded data removed]",
      "text/plain": [
       "<matplotlib.figure.Figure at 0x7f6caf683910>"
      ]
     },
     "metadata": {},
     "output_type": "display_data"
    },
    {
     "data": {
      "text/plain": [
       "<matplotlib.axes._subplots.AxesSubplot at 0x7f6caefc2dd0>"
      ]
     },
     "execution_count": 140,
     "metadata": {},
     "output_type": "execute_result"
    }
   ],
   "source": [
    "# Nombre de projets par années\n",
    "# TODO : parse end date\n",
    "def getKey(item):\n",
    "    return item[0]\n",
    "\n",
    "# Nombres et types d’organismes partenaires\n",
    "print \"* moyenne de partenaires par projet: %s\"%moyenne([len(p) for p in projets_partenaires])\n",
    "\n",
    "partenaires_counts=[] \n",
    "for count in [len(p) for p in projets_partenaires]:\n",
    "    if count <= 3 : partenaires_counts.append(\"0 à 3\")\n",
    "    elif count > 3 and count <6 : partenaires_counts.append(\"4 à 5\")\n",
    "    elif count > 5 and count < 10 : partenaires_counts.append(\"5 à 10\")\n",
    "    elif count > 9 : partenaires_counts.append(\"plus de 10\")\n",
    "\n",
    "order = [\"0 à 3\", \"4 à 5\", \"5 à 10\",\"plus de 10\"]\n",
    "count_plot([p.decode('utf-8') for p in partenaires_counts], \n",
    "           ylabel=\"Nombre de projets\", \n",
    "           xlabel=\"Nombre de partenaires\", \n",
    "           title=\"Combien y a-t-il de partenaires par projet?\",\n",
    "           order=[t.decode('utf-8') for t in order])\n"
   ]
  },
  {
   "cell_type": "code",
   "execution_count": 141,
   "metadata": {
    "collapsed": false
   },
   "outputs": [
    {
     "data": {
      "image/png": "[encoded data removed]",
      "text/plain": [
       "<matplotlib.figure.Figure at 0x7f6caefcc3d0>"
      ]
     },
     "metadata": {},
     "output_type": "display_data"
    },
    {
     "data": {
      "text/plain": [
       "<matplotlib.axes._subplots.AxesSubplot at 0x7f6caf08d850>"
      ]
     },
     "execution_count": 141,
     "metadata": {},
     "output_type": "execute_result"
    }
   ],
   "source": [
    "# type de partenaires\n",
    "projets_partenaires_type = []\n",
    "for ps in projets_partenaires: \n",
    "    projets_partenaires_type += [ G_with_projects.node[p][\"type\"] for p in ps if G_with_projects.node[p][\"type\"] not in [\"these\", \"ADR\", \"localité\", \"postdoc\"] ]\n",
    "\n",
    "count_plot([t.decode('utf-8') for t in projets_partenaires_type], ylabel=\"Nombre de projets\", xlabel=\"Type de partenaires\", title='Quels types de partenaires sont associés aux projets ?')\n"
   ]
  },
  {
   "cell_type": "code",
   "execution_count": 142,
   "metadata": {
    "collapsed": false
   },
   "outputs": [
    {
     "data": {
      "text/markdown": [
       "### Combien de projets par établissement ?"
      ],
      "text/plain": [
       "<IPython.core.display.Markdown object>"
      ]
     },
     "metadata": {},
     "output_type": "display_data"
    },
    {
     "data": {
      "text/markdown": [
       "| Nom | Quantité |\n",
       "| --- | --- |\n",
       "| universite-stendhal-grenoble-3-etablissement | 14 | \n",
       "| ens-lyon-ecole-normale-superieure-de-lyon-etablissement | 11 | \n",
       "| universite-lumiere-lyon-2-etablissement | 8 | \n",
       "| cnrs-centre-national-de-la-recherche-scientifique-delegation-auvergne-rhone-alpes-etablissement | 8 | \n",
       "| universite-pierre-mendes-france-grenoble-2-etablissement | 8 | \n",
       "| universite-jean-monnet-saint-etienne-etablissement | 4 | \n",
       "| universite-jean-moulin-lyon-3-etablissement | 3 | \n",
       "| universite-de-savoie-etablissement | 3 | \n",
       "| enssib-ecole-nationale-superieure-des-sciences-de-linformation-et-des-bibliotheques-etablissement | 2 | \n",
       "| iep-grenoble-institut-detudes-politiques-de-grenoble-etablissement | 2 | \n",
       "| universite-joseph-fourier-grenoble-1-etablissement | 1 | \n",
       "| insa-lyon-institut-national-des-sciences-appliquees-de-lyon-etablissement | 1 | \n",
       "| universite-claude-bernard-lyon-1-etablissement | 1 | \n"
      ],
      "text/plain": [
       "<IPython.core.display.Markdown object>"
      ]
     },
     "metadata": {},
     "output_type": "display_data"
    }
   ],
   "source": [
    "projets_etablissements_noms = []\n",
    "for es in projets_etablissements:\n",
    "    projets_etablissements_noms += [ e.encode('utf-8') for e in es]\n",
    "\n",
    "show_table(\"### Combien de projets par établissement ?\", projets_etablissements_noms)"
   ]
  },
  {
   "cell_type": "code",
   "execution_count": 144,
   "metadata": {
    "collapsed": false
   },
   "outputs": [
    {
     "data": {
      "text/markdown": [
       "### Combien de projets par labos ?"
      ],
      "text/plain": [
       "<IPython.core.display.Markdown object>"
      ]
     },
     "metadata": {},
     "output_type": "display_data"
    },
    {
     "data": {
      "text/markdown": [
       "| Nom | Quantité |\n",
       "| --- | --- |\n",
       "| lire-litterature-ideologies-et-representations-aux-xviiie-et-xixe-siecles-laboratoire | 7 | \n",
       "| plc-philosophie-langages-cognition-laboratoire | 6 | \n",
       "| ihpc-institut-dhistoire-de-la-pensee-classique-de-lhumanisme-aux-lumieres-umr-5037-laboratoire | 5 | \n",
       "| pacte-politiques-publiques-action-politique-territoires-umr-5194-laboratoire | 5 | \n",
       "| lidilem-laboratoire-de-linguistique-et-didactique-des-langues-etrangeres-et-maternelles-laboratoire | 5 | \n",
       "| lls-langages-litteratures-societes-ea-3706-laboratoire | 4 | \n",
       "| centre-max-weber-laboratoire-de-sociologie-umr-5283-laboratoire | 4 | \n",
       "| hisoma-histoire-et-sources-des-mondes-antiques-laboratoire | 3 | \n",
       "| cierec-centre-interdisciplinaire-detudes-et-de-recherches-sur-lexpression-contemporaine-laboratoire | 3 | \n",
       "| passages-xx-xxi-ea-4160-laboratoire | 3 | \n",
       "| gipsa-lab-images-parole-signal-automatique-umr-5216-laboratoire | 3 | \n",
       "| s2hep-sciences-societe-historicite-education-pratiques-laboratoire | 2 | \n",
       "| traverses-19-21-ea-3748-laboratoire | 2 | \n",
       "| gresec-groupe-de-recherche-sur-les-enjeux-de-la-communication-laboratoire | 2 | \n",
       "| centre-depistemologie-des-sciences-cognitives-umr5037-laboratoire | 2 | \n",
       "| icar-interactions-corpus-apprentissages-representations-laboratoire | 2 | \n",
       "| crhipa-centre-de-recherche-en-histoire-et-histoire-de-lart-italie-pays-alpins-laboratoire | 2 | \n",
       "| littarts-umr-5316-laboratoire | 2 | \n",
       "| elico-equipe-de-recherche-de-lyon-en-sciences-de-linformation-et-de-la-communication-laboratoire | 2 | \n",
       "| rare-rhetorique-de-lantiquite-a-la-revolution-laboratoire | 2 | \n",
       "| maison-de-lorient-et-de-la-mediterranee-jean-pouilloux-laboratoire | 2 | \n",
       "| larhra-laboratoire-de-recherche-historique-rhone-alpes-laboratoire | 2 | \n",
       "| eric-entrepots-representation-et-ingenierie-des-connaissances-laboratoire | 1 | \n",
       "| institut-fourier-laboratoire-de-mathematiques-umr-5582-laboratoire | 1 | \n",
       "| evs-environnement-ville-societe-laboratoire | 1 | \n",
       "| laboratoire-de-physique-de-lens-de-lyon-laboratoire | 1 | \n",
       "| irphil-institut-de-recherches-philosophiques-de-lyon-laboratoire | 1 | \n",
       "| irege-institut-de-recherche-en-gestion-et-en-economie-laboratoire | 1 | \n",
       "| lse-laboratoire-des-sciences-de-leducation-laboratoire | 1 | \n",
       "| liris-laboratoire-dinformatique-en-images-et-systemes-dinformation-laboratoire | 1 | \n",
       "| emc2-lsg-emotion-mediation-culture-connaissance-laboratoire-de-sociologie-de-grenoble-laboratoire | 1 | \n",
       "| iao-institut-dasie-orientale-umr-5062-laboratoire | 1 | \n",
       "| cemra-centre-detude-sur-les-modes-de-la-representation-du-monde-anglophone-ea-3016-laboratoire | 1 | \n",
       "| gate-groupe-danalyse-et-de-theorie-economique-laboratoire | 1 | \n"
      ],
      "text/plain": [
       "<IPython.core.display.Markdown object>"
      ]
     },
     "metadata": {},
     "output_type": "display_data"
    }
   ],
   "source": [
    "# Nombre de laboratoires de recherche\n",
    "p_labs = []\n",
    "for l in projets_labos : p_labs += [ v.encode('utf-8') for v in l]\n",
    "show_table(\"### Combien de projets par labos ?\", p_labs)"
   ]
  },
  {
   "cell_type": "code",
   "execution_count": 145,
   "metadata": {
    "collapsed": true
   },
   "outputs": [],
   "source": [
    "# TODO : Nombres de projets par axe thématique\n",
    "# projets_axes = [ t[1][\"axe\"] for t in projets]\n",
    "# print \"* axes des projets: %s\"%Counter(projets_axes)"
   ]
  },
  {
   "cell_type": "code",
   "execution_count": 146,
   "metadata": {
    "collapsed": false
   },
   "outputs": [],
   "source": [
    "# TODO: Nombre de projets par sites\n",
    "# print \"* projets par ville (établissements) : %s\"%Counter( [villes_etablissements[t] for t in projets_etablissements_noms] )\n",
    "\n",
    "# Nombre de projets multi-sites\n",
    "# TODO ???\n",
    "\n",
    "# Relations territoriales entre les différents partenaires\n",
    "# projets_villes = []\n",
    "# projets_all_villes = []\n",
    "# for i, ps in enumerate(projets_partenaires): \n",
    "#     neighbors = []\n",
    "#     for p in ps:\n",
    "#         neighbors += G.neighbors(p)\n",
    "#     villes = [ n for n in neighbors if G.node[n][\"type\"] == \"ville\" ]\n",
    "    \n",
    "#     # add etablissement\n",
    "#     if len(projets_etablissements[i]) and not projets_etablissements[i][0].startswith(\"etablissement\") :\n",
    "#         villes.append(villes_etablissements[ projets_etablissements[i][0] ])\n",
    "#     projets_villes.append(villes)\n",
    "#     projets_all_villes += villes\n",
    "#     print \"%s : %s\"%(projets[i][1][\"name\"], villes)\n",
    "    \n",
    "# print \"* nombre de villes des partenaires par projets : %s\"%Counter( [ len(p) for p in projets_villes] )\n",
    "# print \"* nombre de fois une ville d'un partenaire est associée à un projet : %s\"%Counter( projets_all_villes )"
   ]
  },
  {
   "cell_type": "markdown",
   "metadata": {},
   "source": [
    "## Relations au sein du réseau\n",
    "\n",
    "Etudions maintenant les relations visibles au sein du réseau "
   ]
  },
  {
   "cell_type": "code",
   "execution_count": 147,
   "metadata": {
    "collapsed": false
   },
   "outputs": [
    {
     "name": "stdout",
     "output_type": "stream",
     "text": [
      "nombre de partenariats identifiés entre labos: 12\n"
     ]
    }
   ],
   "source": [
    "# Nombre et fréquence des partenariats entre centres de recherche\n",
    "edges_labos_to_labos = []\n",
    "for e in G_without_projects.edges():\n",
    "    if G_without_projects.node[e[0]][\"type\"] == \"laboratoire\" and G_without_projects.node[e[1]][\"type\"] == \"laboratoire\":\n",
    "        edges_labos_to_labos.append(e)\n",
    "print \"nombre de partenariats identifiés entre labos: %s\"%len(edges_labos_to_labos)"
   ]
  },
  {
   "cell_type": "code",
   "execution_count": 148,
   "metadata": {
    "collapsed": false
   },
   "outputs": [
    {
     "name": "stdout",
     "output_type": "stream",
     "text": [
      "nombre de partenariats identifiés entre labos et partenaires: 169\n"
     ]
    }
   ],
   "source": [
    "# Relations entre laboratoires et partenaires (nombre de liens entre les différents partenaires culture et recheches)\n",
    "partenaires_types= [\"creation\", \"patrimoine\", \"médiation\", \"enseignement\", \"cst\", \"economique\"]\n",
    "edges_partenaires_et_labos = []\n",
    "for e in G_without_projects.edges():\n",
    "    if (G_without_projects.node[e[0]][\"type\"] == \"laboratoire\" and G_without_projects.node[e[1]][\"type\"] in partenaires_types) or (G_without_projects.node[e[0]][\"type\"] in partenaires_types and G_without_projects.node[e[1]][\"type\"] == \"laboratoire\"):\n",
    "        edges_partenaires_et_labos.append(e)\n",
    "print \"nombre de partenariats identifiés entre labos et partenaires: %s\"%len(edges_partenaires_et_labos)"
   ]
  },
  {
   "cell_type": "code",
   "execution_count": 149,
   "metadata": {
    "collapsed": false
   },
   "outputs": [],
   "source": [
    "# TODO : Territoires : relations entre sites (nombre de projets communs, type de projet communs )\n",
    "# projets_multi_villes = []\n",
    "# for e in G.edges():\n",
    "#     if (G.node[e[0]][\"type\"] == \"projet\" and G.node[e[1]][\"type\"] == \"ville\") or (G.node[e[0]][\"type\"] == \"ville\" and G.node[e[1]][\"type\"] == \"projet\"):\n",
    "#         projets_multi_villes.append(e)\n",
    "# print \"nombre de projets sur plusieurs villes : %s\"%len(projets_multi_villes)"
   ]
  },
  {
   "cell_type": "markdown",
   "metadata": {},
   "source": [
    "## Evolution temporelle depuis les clusters 13 et 14\n",
    "\n",
    "* Les clusters 13 et 14\n",
    "* Nombre de projets / type de projets (par cluster)\n",
    "* Relations entre projets / partenaires (par cluster)\n",
    "* Comparaison du nombre de projets\n",
    "* Comparaison du nombre de partenaires par projets\n",
    "* Permanence et évolution entre les projets ARC5 et cluster 13 / 14 (continuité des projets)"
   ]
  },
  {
   "cell_type": "code",
   "execution_count": 152,
   "metadata": {
    "collapsed": false
   },
   "outputs": [
    {
     "data": {
      "text/markdown": [
       "### Quels types de projets dans les différentes organisations ?"
      ],
      "text/plain": [
       "<IPython.core.display.Markdown object>"
      ]
     },
     "metadata": {},
     "output_type": "display_data"
    },
    {
     "data": {
      "text/markdown": [
       "|Type|Organisation|Quantité| \n",
       "|---|---|---|\n",
       "|postdoc|ARC5|1|\n",
       "|projet|14|51|\n",
       "|ADR|14|17|\n",
       "|projet|13|156|\n",
       "|projet|ARC5|66|\n",
       "|ADR|13|11|\n",
       "|ADR|ARC5|57|\n"
      ],
      "text/plain": [
       "<IPython.core.display.Markdown object>"
      ]
     },
     "metadata": {},
     "output_type": "display_data"
    }
   ],
   "source": [
    "import csv\n",
    "\n",
    "fichier_projets = \"../final/ARC5-Final - Projets (tous).csv\"\n",
    "\n",
    "projets = []\n",
    "with open( fichier_projets, \"r\") as f :\n",
    "    reader = csv.DictReader(f)\n",
    "    for line in reader :\n",
    "        projets.append(line)\n",
    "\n",
    "table = \"|Type|Organisation|Quantité| \\n\"\n",
    "table += \"|---|---|---|\\n\"\n",
    "orgas = Counter([(p[\"Type\"], p[\"Orga\"]) for p in projets])\n",
    "for c in orgas:\n",
    "    table += \"|%s|%s|%s|\\n\"%(c[0],c[1],orgas[c])\n",
    "\n",
    "display(Markdown(\"### Quels types de projets dans les différentes organisations ?\"))\n",
    "display(Markdown(table))\n"
   ]
  },
  {
   "cell_type": "code",
   "execution_count": 154,
   "metadata": {
    "collapsed": false
   },
   "outputs": [
    {
     "data": {
      "image/png": "[encoded data removed]",
      "text/plain": [
       "<matplotlib.figure.Figure at 0x7f6caef0ec10>"
      ]
     },
     "metadata": {},
     "output_type": "display_data"
    },
    {
     "data": {
      "text/plain": [
       "<matplotlib.axes._subplots.AxesSubplot at 0x7f6caed29850>"
      ]
     },
     "execution_count": 154,
     "metadata": {},
     "output_type": "execute_result"
    }
   ],
   "source": [
    "# taille du réseau par années\n",
    "years= [n[1][\"start\"] for n in G_without_projects.nodes(data=True)]\n",
    "Counter(years)\n",
    "\n",
    "count_plot(\n",
    "    years, \n",
    "    xlabel=\"Nombre de partenaires présents\", \n",
    "    title='Taille du réseau total impliqués dans les projets ARC5 par année')"
   ]
  },
  {
   "cell_type": "code",
   "execution_count": null,
   "metadata": {
    "collapsed": true
   },
   "outputs": [],
   "source": []
  }
 ],
 "metadata": {
  "celltoolbar": "Slideshow",
  "kernelspec": {
   "display_name": "Python 2",
   "language": "python",
   "name": "python2"
  },
  "language_info": {
   "codemirror_mode": {
    "name": "ipython",
    "version": 2
   },
   "file_extension": ".py",
   "mimetype": "text/x-python",
   "name": "python",
   "nbconvert_exporter": "python",
   "pygments_lexer": "ipython2",
   "version": "2.7.9"
  }
 },
 "nbformat": 4,
 "nbformat_minor": 0
}
