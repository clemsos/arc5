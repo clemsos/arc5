{
 "cells": [
  {
   "cell_type": "markdown",
   "metadata": {},
   "source": [
    "# Create the network in Topogram"
   ]
  },
  {
   "cell_type": "code",
   "execution_count": 34,
   "metadata": {
    "collapsed": true
   },
   "outputs": [],
   "source": [
    "#!/usr/bin/env python\n",
    "# -*- coding: utf-8 -*-\n",
    "\n",
    "import os\n",
    "import csv\n",
    "import networkx as nx\n",
    "from collections import Counter\n",
    "\n",
    "from topogram_client import TopogramAPIClient\n",
    "import logging "
   ]
  },
  {
   "cell_type": "code",
   "execution_count": 42,
   "metadata": {
    "collapsed": true
   },
   "outputs": [],
   "source": [
    "#network\n",
    "def create_graph( fichier_nodes, fichier_edges ):\n",
    "    tmp_G = nx.Graph()\n",
    "\n",
    "    with open( os.path.join(os.getcwd(), fichier_nodes), \"r\") as f :\n",
    "        reader = csv.DictReader(f) \n",
    "        for line in reader:\n",
    "            tmp_G.add_node(line[\"id\"], { \n",
    "                \"name\": line[\"name\"],\n",
    "                \"start\" : line[\"start\"], \n",
    "                \"end\" : line[\"end\"], \n",
    "                \"axe\" :line[\"axe\"], \n",
    "                \"type\" : line[\"type\"]\n",
    "            })\n",
    "\n",
    "    print \"%s nodes\"%len(tmp_G.nodes())\n",
    "\n",
    "    with open( os.path.join(os.getcwd(), fichier_edges), \"r\") as f :\n",
    "        reader = csv.DictReader(f) \n",
    "        for line in reader:\n",
    "            if line[\"source\"] in tmp_G.nodes() and line[\"target\"] in tmp_G.nodes() :\n",
    "                tmp_G.add_edge(line[\"source\"], line[\"target\"], { \"name\" : line[\"name\"], \"type\" : line[\"type\"] })\n",
    "\n",
    "    print \"%s edges\"%len(tmp_G.edges())\n",
    "    print \"%s types of nodes \"%Counter( [ n[1][\"type\"] for n in tmp_G.nodes(data=True) ])\n",
    "    return tmp_G"
   ]
  },
  {
   "cell_type": "code",
   "execution_count": 58,
   "metadata": {
    "collapsed": false
   },
   "outputs": [
    {
     "name": "stdout",
     "output_type": "stream",
     "text": [
      "258 nodes\n",
      "1140 edges\n",
      "Counter({'creation': 59, 'laboratoire': 55, 'etablissement': 40, 'ville': 37, 'patrimoine': 30, 'm\\xc3\\xa9diation': 15, 'enseignement': 11, 'ecole-doctorale': 8, 'cst': 3}) types of nodes \n",
      "('observatoire-des-politiques-culturelles', 'pacte-umr-5194', {'type': 'projects', 'name': 'projets ou th\\xc3\\xa8ses en commun'})\n",
      "[]\n",
      "Counter()\n"
     ]
    }
   ],
   "source": [
    "fichier_nodes = \"../results/network/ARC5_no_project_nodes_ok.csv\"\n",
    "fichier_edges = \"../results/network/ARC5_no_project_edges.csv\"\n",
    "\n",
    "# create Graph\n",
    "G = create_graph( fichier_nodes, fichier_edges )\n",
    "\n",
    "print G.edges(data=True)[0]\n",
    "# for e in G.nodes(data=True) : print e\n",
    "starts = [ e for e in G.nodes(data=True) if e[1][\"start\"] != \"\"]\n",
    "print starts\n",
    "print Counter(starts)\n",
    "\n",
    "# print \"%s / %s\"%( len(hasEndStart),len(edges) )"
   ]
  },
  {
   "cell_type": "markdown",
   "metadata": {},
   "source": [
    "## Import data into Topogram\n",
    "\n",
    "Using the API client"
   ]
  },
  {
   "cell_type": "code",
   "execution_count": 41,
   "metadata": {
    "collapsed": false
   },
   "outputs": [
    {
     "name": "stdout",
     "output_type": "stream",
     "text": [
      "{u'status': u'error', 'status_code': 200, u'message': u'A topogram with the same name already exists', u'data': [{u'sharedPublic': False, u'name': u'ARC 5 - Collaborations Culture / Recherche en Rh\\xf4ne-Alpes', u'owner': u'FWGtG3EXa2F7nZRKp', u'_id': u'3Fep7oZAFjqBnHLQR', u'slug': u'arc-5-collaborations-culture-recherche-en-rhne-alpes', u'createdAt': u'2016-09-12T04:25:24.618Z'}]}\n",
      "{'end': '', 'name': 'Observatoire des politiques culturelles', 'start': '', 'axe': '', 'group': 'm\\xc3\\xa9diation', 'type': 'm\\xc3\\xa9diation', 'id': 'observatoire-des-politiques-culturelles'}\n",
      "{'source': 'observatoire-des-politiques-culturelles', 'type': 'projects', 'name': 'projets ou th\\xc3\\xa8ses en commun', 'target': 'pacte-umr-5194'}\n"
     ]
    }
   ],
   "source": [
    "TOPOGRAM_URL = \"https://app.topogram.io\"\n",
    "USER = \"arc5@arc5.com\"\n",
    "PASSWORD = \"culture&recherche\"\n",
    "\n",
    "# set verbose log\n",
    "logging.getLogger('topogram-client').setLevel(logging.DEBUG)\n",
    "\n",
    "# connect to the topogram instance \n",
    "topogram = TopogramAPIClient(TOPOGRAM_URL)\n",
    "\n",
    "# topogram.create_user(USER, PASSWORD)\n",
    "topogram.user_login(USER, PASSWORD)\n",
    "\n",
    "r = topogram.create_topogram(\"ARC 5 - Collaborations Culture / Recherche en Rhône-Alpes\")\n",
    "print r\n",
    "topogram_ID = r[\"data\"][0][\"_id\"]\n",
    "\n",
    "\n",
    "# delete existing nodes\n",
    "# existing_nodes = topogram.get_nodes(topogram_ID)[\"data\"]\n",
    "# existing_edges = topogram.get_edges(topogram_ID)[\"data\"]\n",
    "# print \"%s existing edges, %s existing nodes\"%(len(existing_edges), len(existing_nodes))\n",
    "# topogram.delete_nodes([n[\"_id\"] for n in existing_nodes])\n",
    "# topogram.delete_edges([n[\"_id\"] for n in existing_edges])\n",
    "\n",
    "\n",
    "# create the graph\n",
    "nodes = []\n",
    "for n in G.nodes(data=True): \n",
    "    node = n[1]\n",
    "    node[\"id\"] = n[0]\n",
    "    node[\"group\"] = n[1][\"type\"]\n",
    "    nodes.append(node)\n",
    "\n",
    "print nodes[0]\n",
    "\n",
    "edges = []\n",
    "for e in G.edges(data=True): \n",
    "    edge = e[2]\n",
    "    edge[\"source\"] = e[0]\n",
    "    edge[\"target\"] = e[1]\n",
    "    edges.append(edge)\n",
    "\n",
    "print edges[0]\n",
    "    \n",
    "r = topogram.create_nodes(topogram_ID, nodes)\n",
    "r = topogram.create_edges(topogram_ID, edges)"
   ]
  },
  {
   "cell_type": "code",
   "execution_count": null,
   "metadata": {
    "collapsed": true
   },
   "outputs": [],
   "source": []
  },
  {
   "cell_type": "code",
   "execution_count": null,
   "metadata": {
    "collapsed": true
   },
   "outputs": [],
   "source": []
  }
 ],
 "metadata": {
  "kernelspec": {
   "display_name": "Python 2",
   "language": "python",
   "name": "python2"
  },
  "language_info": {
   "codemirror_mode": {
    "name": "ipython",
    "version": 2
   },
   "file_extension": ".py",
   "mimetype": "text/x-python",
   "name": "python",
   "nbconvert_exporter": "python",
   "pygments_lexer": "ipython2",
   "version": "2.7.11+"
  }
 },
 "nbformat": 4,
 "nbformat_minor": 0
}
