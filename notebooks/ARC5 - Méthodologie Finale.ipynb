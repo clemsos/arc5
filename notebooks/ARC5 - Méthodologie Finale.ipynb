{
 "cells": [
  {
   "cell_type": "markdown",
   "metadata": {},
   "source": [
    "# ARC5 - Parse data as network"
   ]
  },
  {
   "cell_type": "code",
   "execution_count": 2,
   "metadata": {
    "collapsed": false
   },
   "outputs": [],
   "source": [
    "#!/usr/bin/env python\n",
    "# -*- coding: utf-8 -*-\n",
    "\n",
    "import csv\n",
    "import os\n",
    "import json\n",
    "from slugify import slugify\n",
    "import networkx as nx\n",
    "import itertools\n",
    "from collections import Counter\n",
    "\n",
    "data_dir = os.getcwd()\n",
    "fichier_theses = \"../final/ARC5-Final-ADRs.csv\"\n",
    "fichier_projets = \"../final/ARC5-Final-projets.csv\"\n",
    "fichier_partenaires= \"../final/partenaires.csv\"\n",
    "partner_categories_file=\"../final/partner_categories.txt\"\n"
   ]
  },
  {
   "cell_type": "code",
   "execution_count": 3,
   "metadata": {
    "collapsed": false
   },
   "outputs": [],
   "source": [
    "def create_node(name, type, start, end, tmp=False) : \n",
    "    node = {}\n",
    "    node[\"type\"] = type\n",
    "    node[\"name\"] = name\n",
    "    \n",
    "    slug = slugify(name.decode('utf-8')) + \"-\" + type\n",
    "    if tmp : slug = slug + \"-tmp\"\n",
    "    node[\"id\"] = slug\n",
    "    \n",
    "    node[\"start\"] = start\n",
    "    node[\"end\"] = end\n",
    "    node[\"tmp\"] = tmp\n",
    "    \n",
    "    G.add_node(node[\"id\"], node)\n",
    "    return node[\"id\"]"
   ]
  },
  {
   "cell_type": "markdown",
   "metadata": {},
   "source": [
    "### Parse thèses et projets"
   ]
  },
  {
   "cell_type": "code",
   "execution_count": 4,
   "metadata": {
    "collapsed": false
   },
   "outputs": [
    {
     "name": "stdout",
     "output_type": "stream",
     "text": [
      "../final/ARC5-Final-ADRs.csv\n",
      "../final/ARC5-Final-projets.csv\n",
      "338 nodes\n",
      "680 edges\n",
      "Counter({'personne': 111, 'projet': 75, 'laboratoire': 61, 'these': 49, 'etablissement': 22, 'ecole-doctorale': 16, 'ville': 4})\n"
     ]
    }
   ],
   "source": [
    "print fichier_theses\n",
    "print fichier_projets\n",
    "\n",
    "G = nx.Graph()\n",
    "\n",
    "with open( os.path.join(data_dir, fichier_projets), \"r\") as f :\n",
    "    reader = csv.DictReader(f)\n",
    "    for line in reader :\n",
    "\n",
    "        start = int(line[\"Start\"])\n",
    "        end =  start+3\n",
    "\n",
    "        projet = create_node(line[\"Titre\"], \"projet\", start, end)\n",
    "        etablissement = create_node(line[\"Etablissement\"], \"etablissement\", start, end)\n",
    "        porteur = create_node(line[\"Porteur (Nom)\"] + \" \" + line[\"Porteur(Prenom)\"], \"personne\", start, end)\n",
    "        laboratoire = create_node(line[\"Laboratoire\"], \"laboratoire\", start, end)\n",
    "        ville = create_node(line[\"Ville\"], \"ville\", start, end)\n",
    "        \n",
    "        edges = []\n",
    "        edges.append((projet, porteur))\n",
    "        edges.append((projet, etablissement))\n",
    "        edges.append((projet, laboratoire))\n",
    "        edges.append((etablissement, ville))\n",
    "        edges.append((laboratoire, ville))\n",
    "        edges.append((laboratoire, porteur))\n",
    "        \n",
    "        for e in edges : G.add_edge(e[0], e[1])\n",
    "\n",
    "with open( os.path.join(data_dir, fichier_theses), \"r\") as f :\n",
    "    reader = csv.DictReader(f)\n",
    "    for line in reader :\n",
    "        \n",
    "        start = int(line[\"Start\"])\n",
    "        end =  start+3\n",
    "\n",
    "        these = create_node(line[\"Titre\"], \"these\", start, end)\n",
    "        etablissement = create_node(line[\"Etablissement\"], \"etablissement\", start, end)\n",
    "        directeur = create_node(line[\"Directeur de thèse\"], \"personne\", start, end)\n",
    "        ecole_doctorale = create_node(line[\"Ecole doctorale\"], \"ecole-doctorale\", start, end)\n",
    "        laboratoire = create_node(line[\"Laboratoire\"], \"laboratoire\", start, end)\n",
    "        \n",
    "        edges = []\n",
    "        edges.append((these, etablissement))\n",
    "        edges.append((these, laboratoire))\n",
    "        edges.append((these, directeur))\n",
    "        edges.append((these, ecole_doctorale))\n",
    "        edges.append((ecole_doctorale, ville))\n",
    "        edges.append((laboratoire, ville))\n",
    "        edges.append((laboratoire, directeur))\n",
    "        edges.append((etablissement, ville))\n",
    "        \n",
    "        for e in edges : G.add_edge(e[0], e[1])\n",
    "\n",
    "        \n",
    "print \"%s nodes\"%len(G.nodes())\n",
    "print \"%s edges\"%len(G.edges())\n",
    "print Counter([n[1][\"type\"] for n in G.nodes(data=True)]) "
   ]
  },
  {
   "cell_type": "markdown",
   "metadata": {},
   "source": [
    "### Parse partenaires "
   ]
  },
  {
   "cell_type": "code",
   "execution_count": 5,
   "metadata": {
    "collapsed": false
   },
   "outputs": [
    {
     "name": "stdout",
     "output_type": "stream",
     "text": [
      "../final/partenaires.csv\n",
      "602 nodes\n",
      "1070 edges\n"
     ]
    }
   ],
   "source": [
    "print fichier_partenaires\n",
    "\n",
    "with open( os.path.join(data_dir,  fichier_partenaires), \"r\") as f :\n",
    "    reader = csv.DictReader(f) \n",
    "    for line in reader:\n",
    "        \n",
    "        partenaire = create_node(line[\"Structure\"], \"partenaire\", start, end)\n",
    "        referent = create_node(line[\"Personne référente\"], \"personne\", start, end)\n",
    "        ville = create_node(line[\"Ville\"], \"ville\", start, end)\n",
    "        \n",
    "        # check if the project exists\n",
    "        projet_name = line[\"Projet\"]\n",
    "        projet_id = slugify(projet_name.decode('utf-8'))\n",
    "        try: \n",
    "            projet = G.node[projet_id + \"-these\"][\"id\"]\n",
    "        except KeyError:\n",
    "            try : \n",
    "                projet = G.node[projet_id + \"-projet\"][\"id\"]\n",
    "            except KeyError:\n",
    "                # add projet with a tmp flag to make sure we are not erasing anything\n",
    "                projet = create_node(projet_name, \"projet\", start, end, True)\n",
    "            \n",
    "#         edges = itertools.combinations([partenaire, ville, referent, projet], 2)\n",
    "        edges = []\n",
    "        edges.append((partenaire, ville))\n",
    "        edges.append((partenaire, referent))\n",
    "        edges.append((partenaire, projet))\n",
    "        \n",
    "        for e in edges : \n",
    "            G.add_edge(e[0], e[1])\n",
    "\n",
    "# remove empty node\n",
    "# G.nodes().remove(\"\")\n",
    "print \"%s nodes\"%len(G.nodes())\n",
    "print \"%s edges\"%len(G.edges())"
   ]
  },
  {
   "cell_type": "markdown",
   "metadata": {},
   "source": [
    "### Check similar /identical words"
   ]
  },
  {
   "cell_type": "code",
   "execution_count": 6,
   "metadata": {
    "collapsed": false
   },
   "outputs": [
    {
     "name": "stdout",
     "output_type": "stream",
     "text": [
      "702 similar nodes\n"
     ]
    }
   ],
   "source": [
    "import pickle\n",
    "from difflib import get_close_matches\n",
    "\n",
    "# store similar nodes in a file\n",
    "similar_words_file = \"../final/raw_similar_words.txt\"\n",
    "similars = []\n",
    "if os.path.isfile(similar_words_file):\n",
    "    with open(similar_words_file, \"r\") as infile:\n",
    "        similars = pickle.load(infile)\n",
    "        \n",
    "# get all similar nodes\n",
    "if len(similars) == 0:\n",
    "    for node in G.nodes() :\n",
    "        similar = get_close_matches(node, G.nodes())\n",
    "        if len(similar) > 0 :\n",
    "            for s in similar:\n",
    "                if G.node[node][\"type\"] == G.node[s][\"type\"] and len( set([node,s]) ) != 1: # check if has the same type\n",
    "                    if set([node,s]) not in similars : # check if it is already added\n",
    "                        if s != \"\" :\n",
    "                            similars.append(set([node,s]))\n",
    "\n",
    "if not os.path.isfile(similar_words_file):\n",
    "    with open(similar_words_file, \"wb\") as outfile:\n",
    "        pickle.dump(similars, outfile)\n",
    "\n",
    "print \"%s similar nodes\"%len(similars)\n",
    "\n",
    "# print similars"
   ]
  },
  {
   "cell_type": "markdown",
   "metadata": {},
   "source": [
    "#### Manual matching "
   ]
  },
  {
   "cell_type": "code",
   "execution_count": 7,
   "metadata": {
    "collapsed": false
   },
   "outputs": [
    {
     "name": "stdout",
     "output_type": "stream",
     "text": [
      "4 duplicate nodes loaded\n",
      "----------\n"
     ]
    }
   ],
   "source": [
    "matches = []\n",
    "\n",
    "if os.path.isfile(\"../final/matches.txt\"):\n",
    "    with open(\"matches.txt\", \"r\") as infile:\n",
    "        matches = pickle.load(infile)\n",
    "    print \"%s duplicate nodes loaded\"%len(matches)\n",
    "\n",
    "# print matches\n",
    "if len(matches) == 0:\n",
    "    for i, sim in enumerate(similars):\n",
    "        print \"---------- %s/%s\"%(i, len(similars))\n",
    "        if sim not in matches:\n",
    "            source = tuple(sim)[0]\n",
    "            target = tuple(sim)[1]\n",
    "\n",
    "            # manually check if similar\n",
    "\n",
    "            manual_check = raw_input(\"Are those words similar (y/n)?  \\n '%s' \\n '%s' ?: \"%(source, target))\n",
    "            if manual_check == \"y\":\n",
    "                print \"they are similar\"\n",
    "                matches.append( (source , target) )\n",
    "                with open(\"matches.txt\", \"wb\") as outfile:\n",
    "                    pickle.dump(matches, outfile)\n",
    "            else :\n",
    "                print \"they are not similar\"\n",
    "        else :\n",
    "            print \"already processed\"\n",
    "\n",
    "    print \"%s names that match \"%len(matches)\n",
    "\n",
    "print \"-\"*10"
   ]
  },
  {
   "cell_type": "markdown",
   "metadata": {},
   "source": [
    "#### Check tmp projects"
   ]
  },
  {
   "cell_type": "code",
   "execution_count": 8,
   "metadata": {
    "collapsed": false
   },
   "outputs": [
    {
     "name": "stdout",
     "output_type": "stream",
     "text": [
      "3 tmp projects\n",
      "[u'pistekne-projet-danimation-en-vue-de-la-creation-dun-gdr-cnrs-autour-des-processus-de-creation-production-dans-les-rapports-arts-sciences-techniques-projet-tmp', u'-projet-tmp', u'monnaie-imperiale-et-corpus-numismatique-en-rhone-alpes-mara-postdoc-projet-tmp']\n",
      "epistekne-projet-danimation-en-vue-de-la-creation-dun-gdr-cnrs-autour-des-processus-de-creation-production-dans-les-rapports-arts-sciences-techniques-projet\n",
      "mara-monnaie-antique-en-rhone-alpes-du-document-monetaire-a-son-exploitation-projet\n",
      "monnaie-imperiale-et-corpus-numismatique-en-rhone-alpes-projet\n",
      "monnaie-imperiale-et-corpus-numismatique-en-rhone-alpes-mara-postdoc-projet-tmp\n",
      "7 occurences matches\n"
     ]
    }
   ],
   "source": [
    "tmp_projects = [ n[0] for n in G.nodes(data=True) if n[1][\"type\"] == \"projet\" and n[1][\"tmp\"] == True ]\n",
    "print \"%s tmp projects\"%len(tmp_projects)\n",
    "\n",
    "print tmp_projects\n",
    "for p in [ n[0] for n in G.nodes(data=True) if n[1][\"type\"] == \"projet\"]:\n",
    "    if \"monnaie\" in p : print p\n",
    "    if \"epistekne\" in p : print p\n",
    "\n",
    "matches.append((\n",
    "    \"monnaie-imperiale-et-corpus-numismatique-en-rhone-alpes-projet\", \n",
    "    \"monnaie-imperiale-et-corpus-numismatique-en-rhone-alpes-mara-postdoc-projet-tmp\"\n",
    ")) \n",
    "\n",
    "matches.append((\n",
    "    \"monnaie-imperiale-et-corpus-numismatique-en-rhone-alpes-projet\", \n",
    "    \"mara-monnaie-antique-en-rhone-alpes-du-document-monetaire-a-son-exploitation-projet\"\n",
    ")) \n",
    "\n",
    "matches.append((\n",
    "    \"epistekne-projet-danimation-en-vue-de-la-creation-dun-gdr-cnrs-autour-des-processus-de-creation-production-dans-les-rapports-arts-sciences-techniques-projet\",\n",
    "    \"pistekne-projet-danimation-en-vue-de-la-creation-dun-gdr-cnrs-autour-des-processus-de-creation-production-dans-les-rapports-arts-sciences-techniques-projet-tmp\"\n",
    "))\n",
    "\n",
    "print \"%s occurences matches\"%len(matches)"
   ]
  },
  {
   "cell_type": "markdown",
   "metadata": {},
   "source": [
    "#### Merge matching nodes "
   ]
  },
  {
   "cell_type": "code",
   "execution_count": 9,
   "metadata": {
    "collapsed": false
   },
   "outputs": [
    {
     "name": "stdout",
     "output_type": "stream",
     "text": [
      "7 duplicates nodes\n"
     ]
    }
   ],
   "source": [
    "# prevent deleting indexes\n",
    "match_reverse_index = { m[1]:m[0] for m in matches }\n",
    "\n",
    "for k in match_reverse_index.values():\n",
    "    if k in match_reverse_index.keys() :\n",
    "        matches.append((match_reverse_index[k], k)) \n",
    "\n",
    "print \"%s duplicates nodes\"%len(matches)"
   ]
  },
  {
   "cell_type": "markdown",
   "metadata": {},
   "source": [
    "#### Create a clean graph"
   ]
  },
  {
   "cell_type": "code",
   "execution_count": 10,
   "metadata": {
    "collapsed": false
   },
   "outputs": [
    {
     "name": "stdout",
     "output_type": "stream",
     "text": [
      "1070 1070\n",
      "-5 nodes merged\n",
      "0 edges merged\n",
      "----------\n",
      "REMOVE DUPLICATES\n",
      "before : 602 nodes / 1070 edges \n",
      "after : 602 nodes / 1075 edges \n",
      "----------\n",
      "types :Counter({'personne': 225, 'partenaire': 114, 'projet': 78, 'laboratoire': 61, 'these': 49, 'ville': 37, 'etablissement': 22, 'ecole-doctorale': 16}) \n",
      "dates :Counter({2015: 302, 2013: 138, 2012: 102, 2014: 33, 2011: 27}) \n",
      "----------\n",
      "3 tmp projects\n",
      "[u'-projet-tmp', u'pistekne-projet-danimation-en-vue-de-la-creation-dun-gdr-cnrs-autour-des-processus-de-creation-production-dans-les-rapports-arts-sciences-techniques-projet-tmp', u'monnaie-imperiale-et-corpus-numismatique-en-rhone-alpes-mara-postdoc-projet-tmp']\n"
     ]
    }
   ],
   "source": [
    "from collections import Counter\n",
    "\n",
    "excluded_nodes = [\"\"]\n",
    "duplicates = { m[0] : m[1] for m in matches}\n",
    "\n",
    "edges_count_before = len(G.edges())\n",
    "nodes_count_before = len(G.nodes())\n",
    "\n",
    "G_clean = G.copy()\n",
    "# G_clean.remove_node(\"\") # delete the node with an empty name  \n",
    "print edges_count_before, len(G_clean.edges())\n",
    "\n",
    "# get only clean nodes and edges\n",
    "for n in G_clean.nodes(data=True):\n",
    "    if n[0] not in excluded_nodes:\n",
    "        \n",
    "        if n[0] in duplicates.keys():\n",
    "            \n",
    "            # get the duplicate\n",
    "            duplicate_id = duplicates[n[0]]\n",
    "            \n",
    "            # store information from the previous node\n",
    "            duplicate = G_clean.node[duplicate_id]\n",
    "            \n",
    "            if duplicate[\"start\"] != \"\" and duplicate[\"start\"] < n[1][\"start\"]:\n",
    "                G_clean.node[n[0]][\"start\"] = duplicate[\"start\"]\n",
    "            \n",
    "            if duplicate[\"end\"] != \"\" and duplicate[\"end\"] > n[1][\"end\"]:\n",
    "                G_clean.node[n[0]][\"end\"] = duplicate[\"end\"]\n",
    "        \n",
    "            # update edges\n",
    "            duplicate_edges = G_clean.edges(duplicate_id)\n",
    "            for e in duplicate_edges: \n",
    "                G_clean.add_edge( n[0], e[1])\n",
    "\n",
    "\n",
    "# delete the duplicates nodes and all their edges\n",
    "# for d in duplicates : \n",
    "#     G_clean.remove_node(d)\n",
    "\n",
    "print \"%s nodes merged\"%(edges_count_before-len(G_clean.edges()))\n",
    "print \"%s edges merged\"%(nodes_count_before-len(G_clean.nodes()))\n",
    "print \"-\"*10\n",
    "\n",
    "print \"REMOVE DUPLICATES\"\n",
    "print \"before : %s nodes / %s edges \"%(len(G.nodes()), len(G.edges()))\n",
    "print \"after : %s nodes / %s edges \"%(len(G_clean.nodes()), len(G_clean.edges()))\n",
    "print \"-\"*10\n",
    "\n",
    "print \"types :%s \" % Counter([ n[1][\"type\"] for n in G_clean.nodes(data=True) ])\n",
    "print \"dates :%s \" % Counter([ n[1][\"start\"] for n in G_clean.nodes(data=True) ])\n",
    "print \"-\"*10\n",
    "\n",
    "tmp_projects = [ n[0] for n in G_clean.nodes(data=True) if n[1][\"type\"] == \"projet\" and n[1][\"tmp\"] == True ]\n",
    "print \"%s tmp projects\"%len(tmp_projects)\n",
    "print tmp_projects"
   ]
  },
  {
   "cell_type": "markdown",
   "metadata": {},
   "source": [
    "#### Convert persons to edges"
   ]
  },
  {
   "cell_type": "code",
   "execution_count": 11,
   "metadata": {
    "collapsed": false
   },
   "outputs": [
    {
     "name": "stdout",
     "output_type": "stream",
     "text": [
      "before : 602 nodes / 1075 edges\n",
      "after : 377 nodes / 896 edges\n"
     ]
    }
   ],
   "source": [
    "print \"before : %s nodes / %s edges\"%(len(G_clean.nodes()),len(G_clean.edges()))\n",
    "\n",
    "G_without_people = G_clean.copy()\n",
    "\n",
    "# get all persons in the graph\n",
    "persons = [node[0] for node in G_without_people.nodes(data=True) if node[1][\"type\"] == \"personne\"]\n",
    "# persons_edges = clean_G.edges(persons, data=True)\n",
    "\n",
    "\n",
    "for person in persons:\n",
    "\n",
    "    # edges for a single person\n",
    "    person_edges = G_without_people.edges(person)\n",
    "  \n",
    "    # get all nodes linked by a single person\n",
    "    list_of_person_nodes = []; map(list_of_person_nodes.extend, map(list,person_edges))\n",
    "    assert len(list_of_person_nodes) == len(person_edges)*2 # make sure we have all nodes\n",
    "    \n",
    "    clean_nodes = [n for n in list_of_person_nodes if n != person]\n",
    "    #  assert len(clean_nodes) == len(person_edges) # make sure we have all new nodes, except the person\n",
    "\n",
    "    if len(person_edges) > 2 : # if have less than degree of 1 then remove node\n",
    "\n",
    "        # get data from the node to add to the edge\n",
    "        data = G_without_people.node[person]\n",
    "\n",
    "        # create new edges between all those\n",
    "        new_edges = list(itertools.combinations(clean_nodes, 2))\n",
    "\n",
    "        # TODO: merge data into edge info\n",
    "        for e in new_edges:\n",
    "            G_without_people.add_edge( e[0], e[1], {\"type\" : \"personne\", \"additionalInfo\" : data} )\n",
    "\n",
    "    # remove person from the graph\n",
    "    G_without_people.remove_node(person)\n",
    "\n",
    "print \"after : %s nodes / %s edges\"%(len(G_without_people.nodes()),len(G_without_people.edges()))"
   ]
  },
  {
   "cell_type": "markdown",
   "metadata": {},
   "source": [
    "#### Convert projects to edge"
   ]
  },
  {
   "cell_type": "code",
   "execution_count": 19,
   "metadata": {
    "collapsed": false
   },
   "outputs": [
    {
     "name": "stdout",
     "output_type": "stream",
     "text": [
      "before : 377 nodes / 896 edges\n",
      "{'tmp': False, 'end': 2018, 'name': \"Pal\\xc3\\xa9ographie musicale assist\\xc3\\xa9e\\xc2\\xa0 : instrumentation num\\xc3\\xa9rique pour l'analyse et l\\xe2\\x80\\x99\\xc3\\xa9dition de partitions musicales manuscrites in\\xc3\\xa9dites\", 'start': 2015, 'type': 'these', 'id': u'paleographie-musicale-assistee-instrumentation-numerique-pour-lanalyse-et-ledition-de-partitions-musicales-manuscrites-inedites-these'}\n",
      "{'tmp': False, 'end': 2015, 'name': 'Les voyageuses britanniques \\xc3\\xa0 Lyon au XVIIIe si\\xc3\\xa8cle : regards sur une ville en mutation ', 'start': 2012, 'type': 'projet', 'id': u'les-voyageuses-britanniques-a-lyon-au-xviiie-siecle-regards-sur-une-ville-en-mutation-projet'}\n",
      "{'tmp': False, 'end': 2018, 'name': 'Politiques publiques de recherche : enqu\\xc3\\xaate philosophique sur les formes possibles de d\\xc3\\xa9mocratisation', 'start': 2015, 'type': 'these', 'id': u'politiques-publiques-de-recherche-enquete-philosophique-sur-les-formes-possibles-de-democratisation-these'}\n",
      "{'tmp': False, 'end': 2016, 'name': '\\xc2\\xab Les voyageuses britanniques \\xc3\\xa0 Lyon au XVIIIe si\\xc3\\xa8cle : regards sur une ville en mutation \\xc2\\xbb (2\\xc3\\xa8me partie) ', 'start': 2013, 'type': 'projet', 'id': u'les-voyageuses-britanniques-a-lyon-au-xviiie-siecle-regards-sur-une-ville-en-mutation-2eme-partie-projet'}\n",
      "{'tmp': False, 'end': 2018, 'name': 'Edition nativement num\\xc3\\xa9rique des \\xc5\\x93uvres hagiographiques in\\xc3\\xa9dites de Wauchier de Denain ms. BnF fr. 412 ', 'start': 2015, 'type': 'these', 'id': u'edition-nativement-numerique-des-uvres-hagiographiques-inedites-de-wauchier-de-denain-ms-bnf-fr-412-these'}\n",
      "{'tmp': False, 'end': 2015, 'name': \"Approche pluridisciplinaire de l'interaction personne-robot\", 'start': 2012, 'type': 'projet', 'id': u'approche-pluridisciplinaire-de-linteraction-personne-robot-projet'}\n",
      "{'tmp': False, 'end': 2014, 'name': \"Me\\xcc\\x81thodes d'aide a\\xcc\\x80 la navigation, la lecture et l'exploitation des images des correspondances manuscrites dans l'Europe du 18e\\xcc\\x80me sie\\xcc\\x80cle\", 'start': 2011, 'type': 'these', 'id': u'methodes-daide-a-la-navigation-la-lecture-et-lexploitation-des-images-des-correspondances-manuscrites-dans-leurope-du-18eme-siecle-these'}\n",
      "{'tmp': False, 'end': 2016, 'name': \"Le monast\\xc3\\xa8re royal de Brou : un foyer d'art international au temps des renaissances\", 'start': 2013, 'type': 'projet', 'id': u'le-monastere-royal-de-brou-un-foyer-dart-international-au-temps-des-renaissances-projet'}\n",
      "{'tmp': False, 'end': 2016, 'name': \"Appropriation et traitement cognitif de repr\\xc3\\xa9sentations externes \\xc3\\xa9mergentes : paradoxe repr\\xc3\\xa9sentationnel et prise en compte de la sp\\xc3\\xa9cificit\\xc3\\xa9 du domaine d'application\", 'start': 2013, 'type': 'these', 'id': u'appropriation-et-traitement-cognitif-de-representations-externes-emergentes-paradoxe-representationnel-et-prise-en-compte-de-la-specificite-du-domaine-dapplication-these'}\n",
      "{'tmp': False, 'end': 2014, 'name': 'Les e\\xcc\\x81ditions Paul Martial : une esthe\\xcc\\x81tique industrielle', 'start': 2011, 'type': 'these', 'id': u'les-editions-paul-martial-une-esthetique-industrielle-these'}\n",
      "{'tmp': False, 'end': 2016, 'name': \"Prescription et recommandation culturelles \\xc3\\xa0 l'\\xc3\\xa8re num\\xc3\\xa9rique\", 'start': 2013, 'type': 'projet', 'id': u'prescription-et-recommandation-culturelles-a-lere-numerique-projet'}\n",
      "{'tmp': False, 'end': 2016, 'name': '\\xc2\\xab Itin\\xc3\\xa9raires de reconnaissance, espaces culturels et aspirations minoritaires \\xc2\\xbb', 'start': 2013, 'type': 'projet', 'id': u'itineraires-de-reconnaissance-espaces-culturels-et-aspirations-minoritaires-projet'}\n",
      "{'tmp': False, 'end': 2016, 'name': \"Cholon 2014 : Visualisation de la sauvegarde du patrimoine d'un quartier d'Ho Chi Minh-Ville\", 'start': 2013, 'type': 'projet', 'id': u'cholon-2014-visualisation-de-la-sauvegarde-du-patrimoine-dun-quartier-dho-chi-minh-ville-projet'}\n",
      "{'tmp': False, 'end': 2016, 'name': \"Une approche g\\xc3\\xa9n\\xc3\\xa9rique pour la construction d'\\xc3\\xa9ditions critiques \\xc3\\xa9lectroniques de corpus documentaires multistructur\\xc3\\xa9s.\", 'start': 2013, 'type': 'these', 'id': u'une-approche-generique-pour-la-construction-deditions-critiques-electroniques-de-corpus-documentaires-multistructures-these'}\n",
      "{'tmp': False, 'end': 2016, 'name': 'Le temps du voyage : rythmes et perception de la dur\\xc3\\xa9e dans les pratiques du voyage en Europe entre Lumi\\xc3\\xa8res et romantisme (18e si\\xc3\\xa8cle-milieu 19e si\\xc3\\xa8cle)', 'start': 2013, 'type': 'these', 'id': u'le-temps-du-voyage-rythmes-et-perception-de-la-duree-dans-les-pratiques-du-voyage-en-europe-entre-lumieres-et-romantisme-18e-siecle-milieu-19e-siecle-these'}\n",
      "{'tmp': False, 'end': 2016, 'name': \"\\xc3\\x89laboration, mise en oeuvre et exploitation d'un mod\\xc3\\xa8le de description d'objets arch\\xc3\\xa9ologiques complexes : le projet c\\xc3\\xa9ramique 3.0\", 'start': 2013, 'type': 'these', 'id': u'elaboration-mise-en-oeuvre-et-exploitation-dun-modele-de-description-dobjets-archeologiques-complexes-le-projet-ceramique-30-these'}\n",
      "{'tmp': False, 'end': 2017, 'name': 'Enceintes tardives, communaut\\xc3\\xa9s politiques et restructuration territoriale en rive gauche du Rh\\xc3\\xb4ne : IIIe-Ve si\\xc3\\xa8cle de notre \\xc3\\xa8re', 'start': 2014, 'type': 'these', 'id': u'enceintes-tardives-communautes-politiques-et-restructuration-territoriale-en-rive-gauche-du-rhone-iiie-ve-siecle-de-notre-ere-these'}\n",
      "{'tmp': False, 'end': 2016, 'name': 'Mythes et id\\xc3\\xa9ologies chez Hom\\xc3\\xa8re et dans la po\\xc3\\xa9sie post-hom\\xc3\\xa9rique', 'start': 2013, 'type': 'these', 'id': u'mythes-et-ideologies-chez-homere-et-dans-la-poesie-post-homerique-these'}\n",
      "{'tmp': False, 'end': 2015, 'name': \"Vers une th\\xc3\\xa9orie des concepts : l'apport des sciences cognitives\", 'start': 2012, 'type': 'projet', 'id': u'vers-une-theorie-des-concepts-lapport-des-sciences-cognitives-projet'}\n",
      "{'tmp': False, 'end': 2016, 'name': '\"Nouvelles\" organisations du travail en compagnie : quelles possibilit\\xc3\\xa9s pour le spectacle vivant ?', 'start': 2013, 'type': 'projet', 'id': u'nouvelles-organisations-du-travail-en-compagnie-quelles-possibilites-pour-le-spectacle-vivant-projet'}\n",
      "{'tmp': False, 'end': 2016, 'name': 'Le Journal de Lyon de L\\xc3\\xa9onard Michon, notable lyonnais (1675-1746). \\xc3\\x89dition num\\xc3\\xa9rique critique', 'start': 2013, 'type': 'these', 'id': u'le-journal-de-lyon-de-leonard-michon-notable-lyonnais-1675-1746-edition-numerique-critique-these'}\n",
      "{'tmp': False, 'end': 2015, 'name': 'Pratiques et repr\\xc3\\xa9sentations f\\xc3\\xa9minines de la lecture (1830-1848)', 'start': 2012, 'type': 'these', 'id': u'pratiques-et-representations-feminines-de-la-lecture-1830-1848-these'}\n",
      "{'tmp': False, 'end': 2018, 'name': 'Documenter l\\xe2\\x80\\x99exp\\xc3\\xa9rience habitante de la ville sur les r\\xc3\\xa9seaux sociaux : corpus photographiques et donn\\xc3\\xa9es num\\xc3\\xa9riques, le sens des collections', 'start': 2015, 'type': 'these', 'id': u'documenter-lexperience-habitante-de-la-ville-sur-les-reseaux-sociaux-corpus-photographiques-et-donnees-numeriques-le-sens-des-collections-these'}\n",
      "{'tmp': False, 'end': 2014, 'name': 'Le corps, le cancer et la chimiothe\\xcc\\x81rapie', 'start': 2011, 'type': 'these', 'id': u'le-corps-le-cancer-et-la-chimiotherapie-these'}\n",
      "{'tmp': False, 'end': 2014, 'name': 'Images iconiques et images virtuelles dans la patrimonialisation des re\\xcc\\x81gions post-industrielles : le cas des agglome\\xcc\\x81rations de Saint Etienne et de Cardiff', 'start': 2011, 'type': 'these', 'id': u'images-iconiques-et-images-virtuelles-dans-la-patrimonialisation-des-regions-post-industrielles-le-cas-des-agglomerations-de-saint-etienne-et-de-cardiff-these'}\n",
      "{'tmp': False, 'end': 2015, 'name': 'L \\xc3\\xa9valuation des acquisitions des \\xc3\\xa9l\\xc3\\xa8ves dans les d\\xc3\\xa9marches d investigation :  Jeux entre \\xc3\\xa9valuations formatives et autor\\xc3\\xa9gulation des apprentissages.', 'start': 2012, 'type': 'these', 'id': u'l-evaluation-des-acquisitions-des-eleves-dans-les-demarches-d-investigation-jeux-entre-evaluations-formatives-et-autoregulation-des-apprentissages-these'}\n",
      "{'tmp': False, 'end': 2018, 'name': 'Entre valeur affective et valeur d\\xe2\\x80\\x99usage : quel avenir pour les \\xc3\\xa9glises de la m\\xc3\\xa9tropole Lyon Saint-Etienne ?', 'start': 2015, 'type': 'these', 'id': u'entre-valeur-affective-et-valeur-dusage-quel-avenir-pour-les-eglises-de-la-metropole-lyon-saint-etienne-these'}\n",
      "{'tmp': False, 'end': 2015, 'name': \"Naissance et premiers d\\xc3\\xa9veloppements des \\xc3\\xa9coles d'\\xc3\\xa9conomie politique chr\\xc3\\xa9tienne (France, 1815-1851)\", 'start': 2012, 'type': 'these', 'id': u'naissance-et-premiers-developpements-des-ecoles-deconomie-politique-chretienne-france-1815-1851-these'}\n",
      "{'tmp': False, 'end': 2018, 'name': 'Epist\\xc3\\xaakn\\xc3\\xaa - Projet d\\xe2\\x80\\x99animation en vue de la cr\\xc3\\xa9ation d\\xe2\\x80\\x99un GDR-CNRS Autour des processus de cr\\xc3\\xa9ation-production dans les rapports Arts-Sciences-Techniques', 'start': 2013, 'type': 'projet', 'id': u'epistekne-projet-danimation-en-vue-de-la-creation-dun-gdr-cnrs-autour-des-processus-de-creation-production-dans-les-rapports-arts-sciences-techniques-projet'}\n",
      "{'tmp': False, 'end': 2016, 'name': 'Les langues et le genre (grammaires, cultures, litt\\xc3\\xa9ratures)', 'start': 2013, 'type': 'projet', 'id': u'les-langues-et-le-genre-grammaires-cultures-litteratures-projet'}\n",
      "{'tmp': False, 'end': 2015, 'name': 'Enjeux intellectuels et sociaux d une controverse en histoire des sciences et/ou en histoire de la philosophie (fin XVIe si\\xc3\\xa8cle - d\\xc3\\xa9but XVIIIe si\\xc3\\xa8cle)', 'start': 2012, 'type': 'these', 'id': u'enjeux-intellectuels-et-sociaux-d-une-controverse-en-histoire-des-sciences-etou-en-histoire-de-la-philosophie-fin-xvie-siecle-debut-xviiie-siecle-these'}\n",
      "{'tmp': False, 'end': 2014, 'name': \"Les crit\\xc3\\xa8res d'\\xc3\\xa9valuation des productions urbaines : Une socio-anthropologie de la cr\\xc3\\xa9ation dans les arts de la rue\", 'start': 2011, 'type': 'these', 'id': u'les-criteres-devaluation-des-productions-urbaines-une-socio-anthropologie-de-la-creation-dans-les-arts-de-la-rue-these'}\n",
      "{'tmp': False, 'end': 2016, 'name': 'Le livre \\xc3\\xa0 Lyon \\xc3\\xa0 la Renaissance', 'start': 2013, 'type': 'projet', 'id': u'le-livre-a-lyon-a-la-renaissance-projet'}\n",
      "{'tmp': False, 'end': 2018, 'name': 'Analyse des repr\\xc3\\xa9sentations, attitudes et positionnements de publics jeunes \\xc3\\xa0 l\\xe2\\x80\\x99\\xc3\\xa9gard des sciences et techniques appr\\xc3\\xa9hend\\xc3\\xa9s via la mise en r\\xc3\\xa9cit.', 'start': 2015, 'type': 'these', 'id': u'analyse-des-representations-attitudes-et-positionnements-de-publics-jeunes-a-legard-des-sciences-et-techniques-apprehendes-via-la-mise-en-recit-these'}\n",
      "{'tmp': False, 'end': 2015, 'name': 'CORrespondance de Paolo SARpi', 'start': 2012, 'type': 'projet', 'id': u'correspondance-de-paolo-sarpi-projet'}\n",
      "{'tmp': False, 'end': 2017, 'name': 'Du manuscrit \\xc3\\xa0 l\\xe2\\x80\\x99imprim\\xc3\\xa9 : la r\\xc3\\xa9volution du livre \\xc3\\xa0 Lyon (1470-1520)', 'start': 2014, 'type': 'these', 'id': u'du-manuscrit-a-limprime-la-revolution-du-livre-a-lyon-1470-1520-these'}\n",
      "{'tmp': False, 'end': 2015, 'name': 'Science et technique en fictions, quels regards port\\xc3\\xa9s par les jeunes ?', 'start': 2012, 'type': 'projet', 'id': u'science-et-technique-en-fictions-quels-regards-portes-par-les-jeunes-projet'}\n",
      "{'tmp': False, 'end': 2016, 'name': \"Elaboration d'une m\\xc3\\xa9moire collective chez les r\\xc3\\xa9fugi\\xc3\\xa9s du g\\xc3\\xa9nocide rwandais et de ses suites (1994 ? 1997) : du trauma \\xc3\\xa0 l'insertion en Rh\\xc3\\xb4ne-Alpes\", 'start': 2013, 'type': 'these', 'id': u'elaboration-dune-memoire-collective-chez-les-refugies-du-genocide-rwandais-et-de-ses-suites-1994-1997-du-trauma-a-linsertion-en-rhone-alpes-these'}\n",
      "{'tmp': False, 'end': 2015, 'name': 'La r\\xc3\\xa9pr\\xc3\\xa9sentation de la norme en Allemagne : de la pens\\xc3\\xa9e au cin\\xc3\\xa9ma', 'start': 2012, 'type': 'projet', 'id': u'la-representation-de-la-norme-en-allemagne-de-la-pensee-au-cinema-projet'}\n",
      "{'tmp': False, 'end': 2015, 'name': 'Atelier Internet Lyonnais (AIL)', 'start': 2012, 'type': 'projet', 'id': u'atelier-internet-lyonnais-ail-projet'}\n",
      "{'tmp': False, 'end': 2017, 'name': 'Contribution \\xc3\\xa0 une g\\xc3\\xa9ographie du num\\xc3\\xa9rique', 'start': 2014, 'type': 'these', 'id': u'contribution-a-une-geographie-du-numerique-these'}\n",
      "{'tmp': False, 'end': 2015, 'name': \"CLELIA 2 : du fonds de manuscrits de Stendhal \\xc3\\xa0 d'autres corpus rh\\xc3\\xb4ne-alpins, valorisation d'une m\\xc3\\xa9moire culturelle collective par l\\xe2\\x80\\x99\\xc3\\xa9dition \\xc3\\xa9lectronique. \", 'start': 2012, 'type': 'projet', 'id': u'clelia-2-du-fonds-de-manuscrits-de-stendhal-a-dautres-corpus-rhone-alpins-valorisation-dune-memoire-culturelle-collective-par-ledition-electronique-projet'}\n",
      "{'tmp': False, 'end': 2015, 'name': 'Les formes du d\\xc3\\xa9bat. Querelles, pol\\xc3\\xa9miques et controverses \\xc3\\xa0 l\\xe2\\x80\\x99\\xc3\\xa2ge classique', 'start': 2012, 'type': 'projet', 'id': u'les-formes-du-debat-querelles-polemiques-et-controverses-a-lage-classique-projet'}\n",
      "{'tmp': False, 'end': 2015, 'name': 'MARA. Monnaie antique en Rh\\xc3\\xb4ne-Alpes : du document mon\\xc3\\xa9taire \\xc3\\xa0 son exploitation ', 'start': 2012, 'type': 'projet', 'id': u'mara-monnaie-antique-en-rhone-alpes-du-document-monetaire-a-son-exploitation-projet'}\n",
      "{'tmp': False, 'end': 2016, 'name': 'Archives cin\\xc3\\xa9matographiques en Rh\\xc3\\xb4ne-Alpes : entre documents et cr\\xc3\\xa9ation', 'start': 2013, 'type': 'projet', 'id': u'archives-cinematographiques-en-rhone-alpes-entre-documents-et-creation-projet'}\n",
      "{'tmp': False, 'end': 2015, 'name': 'Les nouvelles formes de la communication et de la culture scientifiques et techniques ', 'start': 2012, 'type': 'projet', 'id': u'les-nouvelles-formes-de-la-communication-et-de-la-culture-scientifiques-et-techniques-projet'}\n",
      "{'tmp': False, 'end': 2018, 'name': 'Regards cin\\xc3\\xa9matographiques et gestes du travail : films d\\xe2\\x80\\x99amateurs et identifications locales et r\\xc3\\xa9gionales des territoires de montagne en Rh\\xc3\\xb4ne-Alpes, des ann\\xc3\\xa9es 1960 \\xc3\\xa0 1975.', 'start': 2015, 'type': 'these', 'id': u'regards-cinematographiques-et-gestes-du-travail-films-damateurs-et-identifications-locales-et-regionales-des-territoires-de-montagne-en-rhone-alpes-des-annees-1960-a-1975-these'}\n",
      "{'tmp': False, 'end': 2017, 'name': 'N\\xc3\\xa9gociants et entrepreneurs de Lyon au XVIIe si\\xc3\\xa8cle. Espaces, r\\xc3\\xa9seaux et pratiques du commerce sous l\\xe2\\x80\\x99Ancien R\\xc3\\xa9gime  ', 'start': 2014, 'type': 'these', 'id': u'negociants-et-entrepreneurs-de-lyon-au-xviie-siecle-espaces-reseaux-et-pratiques-du-commerce-sous-lancien-regime-these'}\n",
      "{'tmp': False, 'end': 2015, 'name': 'M\\xc3\\xa9moires et identit\\xc3\\xa9s urbaines : le patrimoine industriel entre oubli et valorisation', 'start': 2012, 'type': 'these', 'id': u'memoires-et-identites-urbaines-le-patrimoine-industriel-entre-oubli-et-valorisation-these'}\n",
      "{'tmp': False, 'end': 2016, 'name': \"Les mobilisations patrimoniales et leurs enjeux au sein de l'extr\\xc3\\xaame droite groupusculaire rh\\xc3\\xb4ne-alpine\", 'start': 2013, 'type': 'projet', 'id': u'les-mobilisations-patrimoniales-et-leurs-enjeux-au-sein-de-lextreme-droite-groupusculaire-rhone-alpine-projet'}\n",
      "{'tmp': False, 'end': 2016, 'name': \"Valorisation multi-facettes d'inscriptions antiques : \\xc3\\xa9pigraphie et m\\xc3\\xa9diations num\\xc3\\xa9riques\", 'start': 2013, 'type': 'projet', 'id': u'valorisation-multi-facettes-dinscriptions-antiques-epigraphie-et-mediations-numeriques-projet'}\n",
      "{'tmp': False, 'end': 2015, 'name': 'Monnaie imp\\xc3\\xa9riale et corpus numismatique en Rh\\xc3\\xb4ne-Alpes ', 'start': 2012, 'type': 'projet', 'id': u'monnaie-imperiale-et-corpus-numismatique-en-rhone-alpes-projet'}\n",
      "{'tmp': False, 'end': 2016, 'name': \"L'offre de livres num\\xc3\\xa9riques \\xc3\\xa0 destination des biblioth\\xc3\\xa8ques de lecture publique\", 'start': 2013, 'type': 'projet', 'id': u'loffre-de-livres-numeriques-a-destination-des-bibliotheques-de-lecture-publique-projet'}\n",
      "{'tmp': False, 'end': 2016, 'name': 'Initiation scientifique en CP et en CE1 et apprentissages langagiers : quelles pratiques efficaces pour les \\xc3\\xa9l\\xc3\\xa8ves provenant de milieux d\\xc3\\xa9favoris\\xc3\\xa9s ?', 'start': 2013, 'type': 'these', 'id': u'initiation-scientifique-en-cp-et-en-ce1-et-apprentissages-langagiers-quelles-pratiques-efficaces-pour-les-eleves-provenant-de-milieux-defavorises-these'}\n",
      "{'tmp': False, 'end': 2016, 'name': 'S\\xc3\\xa9minaire : Ecrire les modernit\\xc3\\xa9s arabes', 'start': 2013, 'type': 'projet', 'id': u'seminaire-ecrire-les-modernites-arabes-projet'}\n",
      "{'tmp': True, 'end': 2018, 'name': '', 'start': 2015, 'type': 'projet', 'id': u'-projet-tmp'}\n",
      "{'tmp': False, 'end': 2016, 'name': 'Les nouvelles formes de la communication et de la culture scientifiques et techniques (2e volet)', 'start': 2013, 'type': 'projet', 'id': u'les-nouvelles-formes-de-la-communication-et-de-la-culture-scientifiques-et-techniques-2e-volet-projet'}\n",
      "{'tmp': False, 'end': 2015, 'name': 'Enjeux territoriaux de la communication scientifique : \\xc3\\xa9volutions et nouvelles formes  de l \\xc3\\xa9dition scientifique d ouvrages', 'start': 2012, 'type': 'these', 'id': u'enjeux-territoriaux-de-la-communication-scientifique-evolutions-et-nouvelles-formes-de-l-edition-scientifique-d-ouvrages-these'}\n",
      "{'tmp': False, 'end': 2016, 'name': 'Cha\\xc3\\xaenes Editoriales Patrimoniales : Corpus Electroniques et Papier (CEP2)', 'start': 2013, 'type': 'projet', 'id': u'chaines-editoriales-patrimoniales-corpus-electroniques-et-papier-cep2-projet'}\n",
      "{'tmp': False, 'end': 2018, 'name': 'F\\xc3\\xa9lix Thiollier et le livre', 'start': 2015, 'type': 'these', 'id': u'felix-thiollier-et-le-livre-these'}\n",
      "{'tmp': False, 'end': 2017, 'name': 'Continuit\\xc3\\xa9s et renouvellements de l\\xe2\\x80\\x99engagement f\\xc3\\xa9ministe : cas du Planning familial en Rh\\xc3\\xb4ne-Alpes', 'start': 2014, 'type': 'these', 'id': u'continuites-et-renouvellements-de-lengagement-feministe-cas-du-planning-familial-en-rhone-alpes-these'}\n",
      "{'tmp': False, 'end': 2017, 'name': 'L\\xe2\\x80\\x99\\xc3\\xa9v\\xc3\\xa9nementialisation de la culture scientifique. R\\xc3\\xb4le et enjeux des manifestations culturelles dans la m\\xc3\\xa9diation des sciences ', 'start': 2014, 'type': 'these', 'id': u'levenementialisation-de-la-culture-scientifique-role-et-enjeux-des-manifestations-culturelles-dans-la-mediation-des-sciences-these'}\n",
      "{'tmp': False, 'end': 2015, 'name': 'Des nouvelles disciplines scientifiques \\xe2\\x80\\x93 exemples et le\\xc3\\xa7ons.', 'start': 2012, 'type': 'projet', 'id': u'des-nouvelles-disciplines-scientifiques-exemples-et-lecons-projet'}\n",
      "{'tmp': False, 'end': 2016, 'name': \"Sciences, techniques et esth\\xc3\\xa9tiques de l'\\xc3\\xa9clairage sur les sc\\xc3\\xa8nes parisiennes et lyonnaises, du th\\xc3\\xa9\\xc3\\xa2tre romantique au premier cin\\xc3\\xa9ma.\", 'start': 2013, 'type': 'these', 'id': u'sciences-techniques-et-esthetiques-de-leclairage-sur-les-scenes-parisiennes-et-lyonnaises-du-theatre-romantique-au-premier-cinema-these'}\n",
      "{'tmp': False, 'end': 2015, 'name': 'Groupe de travail et colloque international : \\xc2\\xab Itin\\xc3\\xa9raires de Reconnaissance. Espaces culturels et aspirations minoritaires \\xc2\\xbb', 'start': 2012, 'type': 'projet', 'id': u'groupe-de-travail-et-colloque-international-itineraires-de-reconnaissance-espaces-culturels-et-aspirations-minoritaires-projet'}\n",
      "{'tmp': False, 'end': 2017, 'name': 'Le passage au num\\xc3\\xa9rique des m\\xc3\\xa9dias locaux entre mutations m\\xc3\\xa9diatiques et mutations territoriales : du bouleversement des pratiques professionnelles \\xc3\\xa0 la reconfiguration des\\nidentit\\xc3\\xa9s locales', 'start': 2014, 'type': 'these', 'id': u'le-passage-au-numerique-des-medias-locaux-entre-mutations-mediatiques-et-mutations-territoriales-du-bouleversement-des-pratiques-professionnelles-a-la-reconfiguration-des-identites-locales-these'}\n",
      "{'tmp': False, 'end': 2014, 'name': 'Formes et enjeux de la sociabilite\\xcc\\x81 dans les e\\xcc\\x81quipes de recherche en sciences humaines et sociales', 'start': 2011, 'type': 'these', 'id': u'formes-et-enjeux-de-la-sociabilite-dans-les-equipes-de-recherche-en-sciences-humaines-et-sociales-these'}\n",
      "{'tmp': False, 'end': 2016, 'name': 'Neuro\\xc3\\xa9thique et Philosophie', 'start': 2013, 'type': 'projet', 'id': u'neuroethique-et-philosophie-projet'}\n",
      "{'tmp': False, 'end': 2015, 'name': 'Economie de l\\xe2\\x80\\x99attention et enchantements m\\xc3\\xa9diatiques', 'start': 2012, 'type': 'projet', 'id': u'economie-de-lattention-et-enchantements-mediatiques-projet'}\n",
      "{'tmp': False, 'end': 2015, 'name': 'Extraction et cat\\xc3\\xa9gorisation de lexiques transdisciplinaires d articles scientifiques de sciences humaines en vue de l indexation automatique', 'start': 2012, 'type': 'these', 'id': u'extraction-et-categorisation-de-lexiques-transdisciplinaires-d-articles-scientifiques-de-sciences-humaines-en-vue-de-l-indexation-automatique-these'}\n",
      "{'tmp': False, 'end': 2016, 'name': 'La m\\xc3\\xa9diatisation des techniques financi\\xc3\\xa8res en France et en Grande-Bretagne depuis 1987', 'start': 2013, 'type': 'these', 'id': u'la-mediatisation-des-techniques-financieres-en-france-et-en-grande-bretagne-depuis-1987-these'}\n",
      "{'tmp': False, 'end': 2016, 'name': \"Esth\\xc3\\xa9tisation de l'espace public et tournant culturel des m\\xc3\\xa9tropoles (ESTHER)\", 'start': 2013, 'type': 'projet', 'id': u'esthetisation-de-lespace-public-et-tournant-culturel-des-metropoles-esther-projet'}\n",
      "{'tmp': False, 'end': 2016, 'name': \"Le d\\xc3\\xa9veloppement des ressources mini\\xc3\\xa8res dans les Am\\xc3\\xa9riques : mutations d'un continent (Projet \\xc3\\xa9galement d\\xc3\\xa9pos\\xc3\\xa9 dans le cadre de l'ARC 3) \", 'start': 2013, 'type': 'projet', 'id': u'le-developpement-des-ressources-minieres-dans-les-ameriques-mutations-dun-continent-projet-egalement-depose-dans-le-cadre-de-larc-3-projet'}\n",
      "{'tmp': False, 'end': 2015, 'name': 'L\\xe2\\x80\\x99e-culture en partage', 'start': 2012, 'type': 'projet', 'id': u'le-culture-en-partage-projet'}\n",
      "{'tmp': False, 'end': 2017, 'name': 'Le tr\\xc3\\xa9sor de Brou et les strat\\xc3\\xa9gies d\\xc3\\xa9votionnelles de  Marguerite d\\xe2\\x80\\x99Autriche et de sa cour : Essai de reconstitution in situ des collections l\\xc3\\xa9gu\\xc3\\xa9es par Marguerite d\\xe2\\x80\\x99Autriche \\xc3\\xa0 sa fondation fun\\xc3\\xa9raire. ', 'start': 2014, 'type': 'these', 'id': u'le-tresor-de-brou-et-les-strategies-devotionnelles-de-marguerite-dautriche-et-de-sa-cour-essai-de-reconstitution-in-situ-des-collections-leguees-par-marguerite-dautriche-a-sa-fondation-funeraire-these'}\n",
      "{'tmp': False, 'end': 2015, 'name': 'Saint-Simon et les saint-simoniens : questions d\\xe2\\x80\\x99\\xc3\\xa9conomie, d\\xe2\\x80\\x99histoire et de litt\\xc3\\xa9rature', 'start': 2012, 'type': 'projet', 'id': u'saint-simon-et-les-saint-simoniens-questions-deconomie-dhistoire-et-de-litterature-projet'}\n",
      "{'tmp': False, 'end': 2018, 'name': \"D\\xc3\\xa9veloppement d'interfaces pour le WEB destin\\xc3\\xa9es \\xc3\\xa0 rendre accessibles les outils de la cr\\xc3\\xa9ation musicale contemporaine.\", 'start': 2015, 'type': 'these', 'id': u'developpement-dinterfaces-pour-le-web-destinees-a-rendre-accessibles-les-outils-de-la-creation-musicale-contemporaine-these'}\n",
      "{'tmp': False, 'end': 2015, 'name': 'Aux origines des cultures urbaines : les langages de la ville antique ', 'start': 2012, 'type': 'projet', 'id': u'aux-origines-des-cultures-urbaines-les-langages-de-la-ville-antique-projet'}\n",
      "{'tmp': False, 'end': 2016, 'name': \"Genre et groupe social : approche d\\xc3\\xa9veloppementale de la construction pr\\xc3\\xa9coce de l'identit\\xc3\\xa9 sociolinguistique dans les interactions parents-enfants\", 'start': 2013, 'type': 'these', 'id': u'genre-et-groupe-social-approche-developpementale-de-la-construction-precoce-de-lidentite-sociolinguistique-dans-les-interactions-parents-enfants-these'}\n",
      "{'tmp': False, 'end': 2017, 'name': 'L\\xe2\\x80\\x99\\xc3\\xa9mergence du questionnement collectif dans la discussion \\xc3\\xa0 vis\\xc3\\xa9e philosophique entre \\xc3\\xa9l\\xc3\\xa8ves : Comment apprend-t-on \\xc3\\xa0 s\\xe2\\x80\\x99interroger avec les autres ? ', 'start': 2014, 'type': 'these', 'id': u'lemergence-du-questionnement-collectif-dans-la-discussion-a-visee-philosophique-entre-eleves-comment-apprend-t-on-a-sinterroger-avec-les-autres-these'}\n",
      "{'tmp': False, 'end': 2015, 'name': '\"PROJET INTER-ARC Analyse de graphes dynamiques : application aux donn\\xc3\\xa9es V\\xc3\\xa9lo\\'V Inter-arc  ARC 6.  TIC  et usages informatiques innovants  \"', 'start': 2012, 'type': 'these', 'id': u'projet-inter-arc-analyse-de-graphes-dynamiques-application-aux-donnees-velov-inter-arc-arc-6-tic-et-usages-informatiques-innovants-these'}\n",
      "{'tmp': False, 'end': 2017, 'name': 'Art Brut : quelle place pour les marges singuli\\xc3\\xa8res ? \\xc3\\x89mergence et valorisation d\\xe2\\x80\\x99un projet de r\\xc3\\xa9seau d\\xe2\\x80\\x99art singulier en Rh\\xc3\\xb4ne Alpes', 'start': 2014, 'type': 'these', 'id': u'art-brut-quelle-place-pour-les-marges-singulieres-emergence-et-valorisation-dun-projet-de-reseau-dart-singulier-en-rhone-alpes-these'}\n",
      "{'tmp': False, 'end': 2015, 'name': 'R\\xc3\\xa9flexion s\\xc3\\xa9mantique et esth\\xc3\\xa9tique autour des usages cartographiques. XVII-XXIe. Pratiques culturelles crois\\xc3\\xa9es.', 'start': 2012, 'type': 'these', 'id': u'reflexion-semantique-et-esthetique-autour-des-usages-cartographiques-xvii-xxie-pratiques-culturelles-croisees-these'}\n",
      "{'tmp': False, 'end': 2015, 'name': 'Enjeux territoriaux de la communication scientifique : \\xc3\\xa9volutions et nouvelles formes  de l \\xc3\\xa9dition scientifique d ouvrages', 'start': 2012, 'type': 'projet', 'id': u'enjeux-territoriaux-de-la-communication-scientifique-evolutions-et-nouvelles-formes-de-l-edition-scientifique-d-ouvrages-projet'}\n",
      "{'tmp': False, 'end': 2017, 'name': 'Co-construction et exp\\xc3\\xa9rimentation de dispositifs de formation de tuteurs pour l\\xe2\\x80\\x99am\\xc3\\xa9lioration des parcours d\\xe2\\x80\\x99apprentissage et de la transmission des savoirs en situation professionnelle', 'start': 2014, 'type': 'these', 'id': u'co-construction-et-experimentation-de-dispositifs-de-formation-de-tuteurs-pour-lamelioration-des-parcours-dapprentissage-et-de-la-transmission-des-savoirs-en-situation-professionnelle-these'}\n",
      "{'tmp': False, 'end': 2014, 'name': 'Les mutations de la m\\xc3\\xa9diation scientifique : le cas des journalistes scientifiques', 'start': 2011, 'type': 'these', 'id': u'les-mutations-de-la-mediation-scientifique-le-cas-des-journalistes-scientifiques-these'}\n",
      "{'tmp': True, 'end': 2018, 'name': 'pist\\xc3\\xaakn\\xc3\\xaa \\xe2\\x80\\x93 Projet d\\xe2\\x80\\x99animation en vue de la cr\\xc3\\xa9ation d\\xe2\\x80\\x99un GDR-CNRS Autour des processus de cr\\xc3\\xa9ation-production dans les rapports Arts-Sciences-Techniques ', 'start': 2015, 'type': 'projet', 'id': u'pistekne-projet-danimation-en-vue-de-la-creation-dun-gdr-cnrs-autour-des-processus-de-creation-production-dans-les-rapports-arts-sciences-techniques-projet-tmp'}\n",
      "{'tmp': False, 'end': 2016, 'name': \"Cin\\xc3\\xa9ma d'animation : un h\\xc3\\xa9ritage en partage\", 'start': 2013, 'type': 'projet', 'id': u'cinema-danimation-un-heritage-en-partage-projet'}\n",
      "{'tmp': False, 'end': 2016, 'name': \"Les principes de justice dans l'\\xc3\\xa9conomie saint-simonienne : un \\xc3\\xa9clairage actuel sur les \\xc2\\xab socialismes \\xc2\\xbb.\", 'start': 2013, 'type': 'these', 'id': u'les-principes-de-justice-dans-leconomie-saint-simonienne-un-eclairage-actuel-sur-les-socialismes-these'}\n",
      "{'tmp': False, 'end': 2017, 'name': 'Vertus et faiblesses du crowd-sourcing : \\xc3\\x89valuation qualitative et quantitative de la transcription de fonds patrimoniaux', 'start': 2014, 'type': 'these', 'id': u'vertus-et-faiblesses-du-crowd-sourcing-evaluation-qualitative-et-quantitative-de-la-transcription-de-fonds-patrimoniaux-these'}\n",
      "{'tmp': True, 'end': 2018, 'name': 'Monnaie imp\\xc3\\xa9riale et corpus numismatique en Rh\\xc3\\xb4ne-Alpes - MARA (postdoc) ', 'start': 2015, 'type': 'projet', 'id': u'monnaie-imperiale-et-corpus-numismatique-en-rhone-alpes-mara-postdoc-projet-tmp'}\n",
      "{'tmp': False, 'end': 2015, 'name': 'Inventaire toponymique du massif de la Chartreuse', 'start': 2012, 'type': 'projet', 'id': u'inventaire-toponymique-du-massif-de-la-chartreuse-projet'}\n",
      "{'tmp': False, 'end': 2015, 'name': '\\xc3\\x89tude et valorisation du Fonds Paul-Martial (1927-1960)', 'start': 2012, 'type': 'projet', 'id': u'etude-et-valorisation-du-fonds-paul-martial-1927-1960-projet'}\n",
      "{'tmp': False, 'end': 2015, 'name': 'SOCIO', 'start': 2012, 'type': 'projet', 'id': u'socio-projet'}\n",
      "{'tmp': False, 'end': 2016, 'name': \"La naissance d'un genre : le roman d'anticipation au tournant du XIXe si\\xc3\\xa8cle (1860-1930)\", 'start': 2013, 'type': 'projet', 'id': u'la-naissance-dun-genre-le-roman-danticipation-au-tournant-du-xixe-siecle-1860-1930-projet'}\n",
      "{'tmp': False, 'end': 2016, 'name': \"Une approche communicationelle de l'activit\\xc3\\xa9 physique : m\\xc3\\xa9diation scientifique num\\xc3\\xa9rique et sant\\xc3\\xa9 publique\", 'start': 2013, 'type': 'projet', 'id': u'une-approche-communicationelle-de-lactivite-physique-mediation-scientifique-numerique-et-sante-publique-projet'}\n",
      "{'tmp': False, 'end': 2015, 'name': 'Atelier Sciences et voix (ASV)', 'start': 2012, 'type': 'projet', 'id': u'atelier-sciences-et-voix-asv-projet'}\n",
      "{'tmp': False, 'end': 2016, 'name': 'Voix-Corps-Langage, bien-\\xc3\\xaatre Homme/Animal, m\\xc3\\xa9diation et apprentissage', 'start': 2013, 'type': 'projet', 'id': u'voix-corps-langage-bien-etre-hommeanimal-mediation-et-apprentissage-projet'}\n",
      "{'tmp': False, 'end': 2015, 'name': 'Enjeux intellectuels et sociaux d une controverse en histoire des sciences et/ou en histoire de la philosophie (fin XVIe si\\xc3\\xa8cle - d\\xc3\\xa9but XVIIIe si\\xc3\\xa8cle)', 'start': 2012, 'type': 'projet', 'id': u'enjeux-intellectuels-et-sociaux-d-une-controverse-en-histoire-des-sciences-etou-en-histoire-de-la-philosophie-fin-xvie-siecle-debut-xviiie-siecle-projet'}\n",
      "{'tmp': False, 'end': 2015, 'name': 'Le livre italien \\xc3\\xa0 Lyon au XVIe si\\xc3\\xa8cle', 'start': 2012, 'type': 'projet', 'id': u'le-livre-italien-a-lyon-au-xvie-siecle-projet'}\n",
      "after : 250 nodes / 1134 edges\n",
      "Counter({'partenaire': 114, 'laboratoire': 61, 'ville': 37, 'etablissement': 22, 'ecole-doctorale': 16})\n"
     ]
    }
   ],
   "source": [
    "print \"before : %s nodes / %s edges\"%(len(G_without_people.nodes()),len(G_without_people.edges()))\n",
    "\n",
    "G_without_people_and_projects = G_without_people.copy()\n",
    "\n",
    "# get all projects in the graph\n",
    "projects = [node[0] for node in G_without_people_and_projects.nodes(data=True) if node[1][\"type\"] == \"projet\" or node[1][\"type\"] == \"these\" or node[1][\"type\"] == \"postdoc\" ]\n",
    "\n",
    "for project in projects:\n",
    "\n",
    "    # edges for a single person\n",
    "    project_edges = G_without_people_and_projects.edges(project)\n",
    "  \n",
    "    # get all nodes linked by a single person\n",
    "    list_of_project_nodes = []; map(list_of_project_nodes.extend, map(list, project_edges))\n",
    "    assert len(list_of_project_nodes) == len(project_edges)*2 # make sure we have all nodes\n",
    "    \n",
    "    clean_nodes = [n for n in list_of_project_nodes if n != project]\n",
    "#     assert len(clean_nodes) == len(person_edges) # make sure we have all new nodes, except the person\n",
    "\n",
    "    if len(project_edges) > 2 : # if have less than degree of 1 then remove node\n",
    "\n",
    "        # get data from the node to add to the edge\n",
    "        data = G_without_people_and_projects.node[project]\n",
    "\n",
    "        # create new edges between all those\n",
    "        new_edges = list(itertools.combinations(clean_nodes, 2))\n",
    "                \n",
    "        # TODO: merge data into edge info\n",
    "        for e in new_edges:\n",
    "            G_without_people_and_projects.add_edge( e[0], e[1], {\"type\" : \"projet\", \"additionalInfo\" : data} )\n",
    "\n",
    "    # remove person from the graph\n",
    "    G_without_people_and_projects.remove_node(project)\n",
    "\n",
    "print \"after : %s nodes / %s edges\"%(len(G_without_people_and_projects.nodes()),len(G_without_people_and_projects.edges()))\n",
    "print Counter([ c[1][\"type\"] for c in G_without_people_and_projects.nodes(data=True)])"
   ]
  },
  {
   "cell_type": "markdown",
   "metadata": {},
   "source": [
    "#### Create the list of partners with the right type"
   ]
  },
  {
   "cell_type": "code",
   "execution_count": 15,
   "metadata": {
    "collapsed": false
   },
   "outputs": [
    {
     "name": "stdout",
     "output_type": "stream",
     "text": [
      "114 partenaires\n",
      "Counter({'partenaire': 114, 'laboratoire': 61, 'ville': 37, 'etablissement': 22, 'ecole-doctorale': 16})\n",
      "../final/partner_categories.txt\n",
      "289 partner categories loaded\n",
      "0 partner without categories\n",
      "Counter({'laboratoire': 61, 'creation': 41, 'ville': 37, 'patrimoine': 37, 'm\\xc3\\xa9diation': 27, 'etablissement': 22, 'ecole-doctorale': 16, 'cst': 5, 'enseignement': 4})\n"
     ]
    }
   ],
   "source": [
    "partners = [ n for n in G_without_people_and_projects.nodes(data=True) if n[1][\"type\"] == \"partenaire\"]\n",
    "print \"%s partenaires\"%len(partners)\n",
    "print Counter([n[1][\"type\"] for n in G_without_people_and_projects.nodes(data=True)]) \n",
    "\n",
    "categories=[\n",
    "{\n",
    "    \"id\" : \"patrimoine\",\n",
    "    \"name\" : \"Institutions Patrimoniales\"\n",
    "},\n",
    "{\n",
    "    \"id\" : \"creation\",\n",
    "    \"name\" : \"Création\"\n",
    "    },\n",
    "{\n",
    "    \"id\" : \"médiation\",\n",
    "    \"name\" :  \"Structures Médiatrices\"\n",
    "},\n",
    "{\n",
    "    \"id\" : \"cst\",\n",
    "    \"name\" :  \"Culture Scientifique et Technique (CST)\"\n",
    "},\n",
    "{\n",
    "    \"id\" : \"enseignement\",\n",
    "    \"name\" :  \"Enseignement & Recherche\"\n",
    "}\n",
    "]\n",
    "\n",
    "# import existing results\n",
    "partner_categories_file=\"../final/partner_categories.txt\"\n",
    "print partner_categories_file\n",
    "if os.path.isfile(partner_categories_file):\n",
    "    with open(partner_categories_file, \"r\") as infile:\n",
    "        partner_categories = pickle.load(infile)\n",
    "#         print partner_categories_raw\n",
    "#         partner_categories =  { partner_categories_raw[p] for p in partner_categories_raw }\n",
    "    partner_categories_names = [str(p) for p in partner_categories.keys()]\n",
    "print \"%s partner categories loaded\"%len(partner_categories_names )\n",
    "\n",
    "\n",
    "partner_without_categories = [ p for p in partners if p[0] not in partner_categories_names]\n",
    "print \"%s partner without categories\"%len( partner_without_categories )\n",
    "\n",
    "for partner in partner_without_categories:\n",
    "    print \"-\"*10\n",
    "\n",
    "    manual_check = raw_input(\"\"\"A quelle catégorie appartient? \\n\n",
    "    [0] : Institutions Patrimoniales (musées, bibliothèques, archives...)\n",
    "    [1] : Création (théatre, art...)\n",
    "    [2] : Structures Médiatrices (CCSTI, Arald, OPC, Nacre...)\n",
    "    [3] : Culture Scientifique et Technique (CST)\n",
    "    [4] : Enseignement (Ecoles, conservatoire...)\\n\n",
    "    '%s'\n",
    "    \"\"\"%partner[1][\"name\"])\n",
    "\n",
    "    # assert int(manual_check)\n",
    "    assert int(manual_check)  < 5\n",
    "\n",
    "    category  = categories[int(manual_check)]\n",
    "    print \"%s\"%(category[\"name\"])\n",
    "\n",
    "    partner_categories[partner[0]] = category[\"id\"]\n",
    "\n",
    "    with open(partner_categories_file, \"wb\") as outfile:\n",
    "        pickle.dump(partner_categories, outfile)\n",
    "\n",
    "G_ok = G_without_people_and_projects.copy()\n",
    "\n",
    "for n in G_ok.nodes(data=True):\n",
    "    if n[1][\"type\"] == \"partenaire\" : \n",
    "        n[1][\"type\"] = partner_categories[n[0]]\n",
    "\n",
    "print Counter([n[1][\"type\"] for n in G_ok.nodes(data=True)]) "
   ]
  },
  {
   "cell_type": "markdown",
   "metadata": {},
   "source": [
    "#### Create the final graph on Topogram"
   ]
  },
  {
   "cell_type": "code",
   "execution_count": 18,
   "metadata": {
    "collapsed": false
   },
   "outputs": [
    {
     "name": "stdout",
     "output_type": "stream",
     "text": [
      "<topogram_client.TopogramAPIClient object at 0x7f2b31503fd0>\n",
      "{u'status': u'error', 'status_code': 200, u'message': u'A topogram with the same name already exists', u'data': [{u'sharedPublic': False, u'name': u'ARC 5 - Collaborations Culture / Recherche en Rh\\xf4ne-Alpes', u'owner': u'rKr6pXYxhmMh6BFuW', u'_id': u'M6wKQYZBwDaa7veQy', u'slug': u'arc-5-collaborations-culture-recherche-en-rhne-alpes', u'createdAt': u'2016-10-07T09:21:31.637Z'}]}\n",
      "0 existing edges, 0 existing nodes\n",
      "nodes deleted\n",
      "edges deleted\n",
      "0 existing edges, 0 existing nodes\n",
      "creating 250 nodes ...\n",
      "creating 1134 edges ...\n",
      "done. Topogram is online at http://app.topogram.io/topograms/M6wKQYZBwDaa7veQy\n"
     ]
    }
   ],
   "source": [
    "from topogram_client import TopogramAPIClient\n",
    "import logging \n",
    "\n",
    "# passwords\n",
    "TOPOGRAM_URL = \"http://localhost:3000\"\n",
    "USER = \"arc5@arc5.com\"\n",
    "PASSWORD = \"culture&recherche\"\n",
    "\n",
    "# connect to the topogram instance \n",
    "topogram = TopogramAPIClient(TOPOGRAM_URL)\n",
    "\n",
    "# topogram.create_user(USER, PASSWORD)\n",
    "topogram.user_login(USER, PASSWORD)\n",
    "print topogram\n",
    "\n",
    "r = topogram.create_topogram(\"ARC 5 - Collaborations Culture / Recherche en Rhône-Alpes\")\n",
    "print r\n",
    "topogram_ID = r[\"data\"][0][\"_id\"]\n",
    "\n",
    "\n",
    "# delete existing nodes\n",
    "existing_nodes = topogram.get_nodes(topogram_ID)[\"data\"]\n",
    "existing_edges = topogram.get_edges(topogram_ID)[\"data\"]\n",
    "print \"%s existing edges, %s existing nodes\"%(len(existing_edges), len(existing_nodes))\n",
    "\n",
    "topogram.delete_nodes([n[\"_id\"] for n in existing_nodes])\n",
    "print \"nodes deleted\"\n",
    "topogram.delete_edges([n[\"_id\"] for n in existing_edges])\n",
    "print \"edges deleted\"\n",
    "\n",
    "existing_nodes = topogram.get_nodes(topogram_ID)[\"data\"]\n",
    "existing_edges = topogram.get_edges(topogram_ID)[\"data\"]\n",
    "print \"%s existing edges, %s existing nodes\"%(len(existing_edges), len(existing_nodes))\n",
    "\n",
    "\n",
    "# create the graph\n",
    "nodes = []\n",
    "for n in G_ok.nodes(data=True): \n",
    "    node = n[1]\n",
    "    node[\"id\"] = n[0]\n",
    "    node[\"group\"] = n[1][\"type\"]\n",
    "    nodes.append(node)\n",
    "\n",
    "print \"creating %s nodes ...\"%len(nodes)\n",
    "r = topogram.create_nodes(topogram_ID, nodes)\n",
    "\n",
    "edges = []\n",
    "for e in G_ok.edges(data=True): \n",
    "    edge = e[2]\n",
    "    edge[\"source\"] = e[0]\n",
    "    edge[\"target\"] = e[1]\n",
    "    edges.append(edge)\n",
    "\n",
    "print \"creating %s edges ...\"%len(edges)\n",
    "r = topogram.create_edges(topogram_ID, edges)\n",
    "\n",
    "print \"done. Topogram is online at http://app.topogram.io/topograms/%s\"%topogram_ID"
   ]
  },
  {
   "cell_type": "code",
   "execution_count": null,
   "metadata": {
    "collapsed": true
   },
   "outputs": [],
   "source": []
  }
 ],
 "metadata": {
  "anaconda-cloud": {},
  "celltoolbar": "Raw Cell Format",
  "kernelspec": {
   "display_name": "Python [default]",
   "language": "python",
   "name": "python2"
  },
  "language_info": {
   "codemirror_mode": {
    "name": "ipython",
    "version": 2
   },
   "file_extension": ".py",
   "mimetype": "text/x-python",
   "name": "python",
   "nbconvert_exporter": "python",
   "pygments_lexer": "ipython2",
   "version": "2.7.12"
  }
 },
 "nbformat": 4,
 "nbformat_minor": 0
}
